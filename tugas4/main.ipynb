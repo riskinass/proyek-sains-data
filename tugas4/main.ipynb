{
  "cells": [
    {
      "cell_type": "markdown",
      "metadata": {
        "id": "u8oqf5tQvsCE"
      },
      "source": [
        "# Proyek Sains Data - Multivariate Multistep\n",
        "\n",
        "<hr>\n",
        "\n",
        "## Prediksi Harga Saham\n",
        "\n",
        "Nama : Riskina Salsabilla Bayzura\n",
        "\n",
        "NIM  : 220411100015\n",
        "\n",
        "Kelas : IF5D\n",
        "\n"
      ]
    },
    {
      "cell_type": "markdown",
      "metadata": {
        "id": "HOPdPbpKAMuO"
      },
      "source": [
        "# DATA UNDERSTANDING"
      ]
    },
    {
      "cell_type": "markdown",
      "metadata": {
        "id": "YL-K__eEBXaB"
      },
      "source": [
        "## Requirement\n"
      ]
    },
    {
      "cell_type": "code",
      "execution_count": 2,
      "metadata": {
        "id": "2QeJnCdNBlPB"
      },
      "outputs": [],
      "source": [
        "import pandas as pd\n",
        "import numpy as np\n",
        "from numpy import mean\n",
        "import seaborn as sns\n",
        "import matplotlib.pyplot as plt\n",
        "import plotly.express as px\n",
        "\n",
        "from sklearn.preprocessing import MinMaxScaler\n",
        "from sklearn.ensemble import BaggingRegressor, RandomForestRegressor, GradientBoostingRegressor, VotingRegressor\n",
        "from sklearn.linear_model import LinearRegression\n",
        "from sklearn.model_selection import train_test_split\n",
        "from sklearn.metrics import mean_absolute_error, mean_squared_error, r2_score\n",
        "\n",
        "from tensorflow import keras\n",
        "import tensorflow as tf\n",
        "from tensorflow.keras.models import Sequential\n",
        "from tensorflow.keras.layers import Dense,LSTM,Activation\n",
        "from numpy import array , hstack\n",
        "from tensorflow import keras\n",
        "import tensorflow as tf\n",
        "\n",
        "# from google.colab import drive\n",
        "# drive.mount('/content/drive')"
      ]
    },
    {
      "cell_type": "markdown",
      "metadata": {
        "id": "KR2rq3wjRuXE"
      },
      "source": [
        "## Load Data"
      ]
    },
    {
      "cell_type": "code",
      "execution_count": 3,
      "metadata": {
        "id": "9nFywQDHEEvb",
        "colab": {
          "base_uri": "https://localhost:8080/",
          "height": 423
        },
        "outputId": "ee883965-cb01-491d-e65a-31e245b5fb40"
      },
      "outputs": [
        {
          "output_type": "execute_result",
          "data": {
            "text/plain": [
              "         Tanggal  Terakhir  Pembukaan  Tertinggi  Terendah    Vol. Perubahan%\n",
              "0     02/01/2019      3.73       3.75       3.76      3.70  31,36M     -0,53%\n",
              "1     03/01/2019      3.74       3.71       3.77      3.69  83,84M      0,27%\n",
              "2     04/01/2019      3.71       3.69       3.74      3.69  73,94M     -0,80%\n",
              "3     07/01/2019      3.77       3.76       3.79      3.75  83,68M      1,62%\n",
              "4     08/01/2019      3.80       3.77       3.80      3.75  67,96M      0,80%\n",
              "...          ...       ...        ...        ...       ...     ...        ...\n",
              "1385  18/09/2024      3.12       3.12       3.13      3.10     NaN      0,97%\n",
              "1386  19/09/2024      3.14       3.14       3.15      3.12     NaN      0,64%\n",
              "1387  20/09/2024      3.15       3.15       3.17      3.12     NaN      0,32%\n",
              "1388  23/09/2024      3.17       3.15       3.18      3.13     NaN      0,63%\n",
              "1389  24/09/2024      3.16       3.18       3.18      3.15  92,26M     -0,32%\n",
              "\n",
              "[1390 rows x 7 columns]"
            ],
            "text/html": [
              "\n",
              "  <div id=\"df-fa0dd9bb-ec03-4c1b-bfc0-0c79f5620e28\" class=\"colab-df-container\">\n",
              "    <div>\n",
              "<style scoped>\n",
              "    .dataframe tbody tr th:only-of-type {\n",
              "        vertical-align: middle;\n",
              "    }\n",
              "\n",
              "    .dataframe tbody tr th {\n",
              "        vertical-align: top;\n",
              "    }\n",
              "\n",
              "    .dataframe thead th {\n",
              "        text-align: right;\n",
              "    }\n",
              "</style>\n",
              "<table border=\"1\" class=\"dataframe\">\n",
              "  <thead>\n",
              "    <tr style=\"text-align: right;\">\n",
              "      <th></th>\n",
              "      <th>Tanggal</th>\n",
              "      <th>Terakhir</th>\n",
              "      <th>Pembukaan</th>\n",
              "      <th>Tertinggi</th>\n",
              "      <th>Terendah</th>\n",
              "      <th>Vol.</th>\n",
              "      <th>Perubahan%</th>\n",
              "    </tr>\n",
              "  </thead>\n",
              "  <tbody>\n",
              "    <tr>\n",
              "      <th>0</th>\n",
              "      <td>02/01/2019</td>\n",
              "      <td>3.73</td>\n",
              "      <td>3.75</td>\n",
              "      <td>3.76</td>\n",
              "      <td>3.70</td>\n",
              "      <td>31,36M</td>\n",
              "      <td>-0,53%</td>\n",
              "    </tr>\n",
              "    <tr>\n",
              "      <th>1</th>\n",
              "      <td>03/01/2019</td>\n",
              "      <td>3.74</td>\n",
              "      <td>3.71</td>\n",
              "      <td>3.77</td>\n",
              "      <td>3.69</td>\n",
              "      <td>83,84M</td>\n",
              "      <td>0,27%</td>\n",
              "    </tr>\n",
              "    <tr>\n",
              "      <th>2</th>\n",
              "      <td>04/01/2019</td>\n",
              "      <td>3.71</td>\n",
              "      <td>3.69</td>\n",
              "      <td>3.74</td>\n",
              "      <td>3.69</td>\n",
              "      <td>73,94M</td>\n",
              "      <td>-0,80%</td>\n",
              "    </tr>\n",
              "    <tr>\n",
              "      <th>3</th>\n",
              "      <td>07/01/2019</td>\n",
              "      <td>3.77</td>\n",
              "      <td>3.76</td>\n",
              "      <td>3.79</td>\n",
              "      <td>3.75</td>\n",
              "      <td>83,68M</td>\n",
              "      <td>1,62%</td>\n",
              "    </tr>\n",
              "    <tr>\n",
              "      <th>4</th>\n",
              "      <td>08/01/2019</td>\n",
              "      <td>3.80</td>\n",
              "      <td>3.77</td>\n",
              "      <td>3.80</td>\n",
              "      <td>3.75</td>\n",
              "      <td>67,96M</td>\n",
              "      <td>0,80%</td>\n",
              "    </tr>\n",
              "    <tr>\n",
              "      <th>...</th>\n",
              "      <td>...</td>\n",
              "      <td>...</td>\n",
              "      <td>...</td>\n",
              "      <td>...</td>\n",
              "      <td>...</td>\n",
              "      <td>...</td>\n",
              "      <td>...</td>\n",
              "    </tr>\n",
              "    <tr>\n",
              "      <th>1385</th>\n",
              "      <td>18/09/2024</td>\n",
              "      <td>3.12</td>\n",
              "      <td>3.12</td>\n",
              "      <td>3.13</td>\n",
              "      <td>3.10</td>\n",
              "      <td>NaN</td>\n",
              "      <td>0,97%</td>\n",
              "    </tr>\n",
              "    <tr>\n",
              "      <th>1386</th>\n",
              "      <td>19/09/2024</td>\n",
              "      <td>3.14</td>\n",
              "      <td>3.14</td>\n",
              "      <td>3.15</td>\n",
              "      <td>3.12</td>\n",
              "      <td>NaN</td>\n",
              "      <td>0,64%</td>\n",
              "    </tr>\n",
              "    <tr>\n",
              "      <th>1387</th>\n",
              "      <td>20/09/2024</td>\n",
              "      <td>3.15</td>\n",
              "      <td>3.15</td>\n",
              "      <td>3.17</td>\n",
              "      <td>3.12</td>\n",
              "      <td>NaN</td>\n",
              "      <td>0,32%</td>\n",
              "    </tr>\n",
              "    <tr>\n",
              "      <th>1388</th>\n",
              "      <td>23/09/2024</td>\n",
              "      <td>3.17</td>\n",
              "      <td>3.15</td>\n",
              "      <td>3.18</td>\n",
              "      <td>3.13</td>\n",
              "      <td>NaN</td>\n",
              "      <td>0,63%</td>\n",
              "    </tr>\n",
              "    <tr>\n",
              "      <th>1389</th>\n",
              "      <td>24/09/2024</td>\n",
              "      <td>3.16</td>\n",
              "      <td>3.18</td>\n",
              "      <td>3.18</td>\n",
              "      <td>3.15</td>\n",
              "      <td>92,26M</td>\n",
              "      <td>-0,32%</td>\n",
              "    </tr>\n",
              "  </tbody>\n",
              "</table>\n",
              "<p>1390 rows × 7 columns</p>\n",
              "</div>\n",
              "    <div class=\"colab-df-buttons\">\n",
              "\n",
              "  <div class=\"colab-df-container\">\n",
              "    <button class=\"colab-df-convert\" onclick=\"convertToInteractive('df-fa0dd9bb-ec03-4c1b-bfc0-0c79f5620e28')\"\n",
              "            title=\"Convert this dataframe to an interactive table.\"\n",
              "            style=\"display:none;\">\n",
              "\n",
              "  <svg xmlns=\"http://www.w3.org/2000/svg\" height=\"24px\" viewBox=\"0 -960 960 960\">\n",
              "    <path d=\"M120-120v-720h720v720H120Zm60-500h600v-160H180v160Zm220 220h160v-160H400v160Zm0 220h160v-160H400v160ZM180-400h160v-160H180v160Zm440 0h160v-160H620v160ZM180-180h160v-160H180v160Zm440 0h160v-160H620v160Z\"/>\n",
              "  </svg>\n",
              "    </button>\n",
              "\n",
              "  <style>\n",
              "    .colab-df-container {\n",
              "      display:flex;\n",
              "      gap: 12px;\n",
              "    }\n",
              "\n",
              "    .colab-df-convert {\n",
              "      background-color: #E8F0FE;\n",
              "      border: none;\n",
              "      border-radius: 50%;\n",
              "      cursor: pointer;\n",
              "      display: none;\n",
              "      fill: #1967D2;\n",
              "      height: 32px;\n",
              "      padding: 0 0 0 0;\n",
              "      width: 32px;\n",
              "    }\n",
              "\n",
              "    .colab-df-convert:hover {\n",
              "      background-color: #E2EBFA;\n",
              "      box-shadow: 0px 1px 2px rgba(60, 64, 67, 0.3), 0px 1px 3px 1px rgba(60, 64, 67, 0.15);\n",
              "      fill: #174EA6;\n",
              "    }\n",
              "\n",
              "    .colab-df-buttons div {\n",
              "      margin-bottom: 4px;\n",
              "    }\n",
              "\n",
              "    [theme=dark] .colab-df-convert {\n",
              "      background-color: #3B4455;\n",
              "      fill: #D2E3FC;\n",
              "    }\n",
              "\n",
              "    [theme=dark] .colab-df-convert:hover {\n",
              "      background-color: #434B5C;\n",
              "      box-shadow: 0px 1px 3px 1px rgba(0, 0, 0, 0.15);\n",
              "      filter: drop-shadow(0px 1px 2px rgba(0, 0, 0, 0.3));\n",
              "      fill: #FFFFFF;\n",
              "    }\n",
              "  </style>\n",
              "\n",
              "    <script>\n",
              "      const buttonEl =\n",
              "        document.querySelector('#df-fa0dd9bb-ec03-4c1b-bfc0-0c79f5620e28 button.colab-df-convert');\n",
              "      buttonEl.style.display =\n",
              "        google.colab.kernel.accessAllowed ? 'block' : 'none';\n",
              "\n",
              "      async function convertToInteractive(key) {\n",
              "        const element = document.querySelector('#df-fa0dd9bb-ec03-4c1b-bfc0-0c79f5620e28');\n",
              "        const dataTable =\n",
              "          await google.colab.kernel.invokeFunction('convertToInteractive',\n",
              "                                                    [key], {});\n",
              "        if (!dataTable) return;\n",
              "\n",
              "        const docLinkHtml = 'Like what you see? Visit the ' +\n",
              "          '<a target=\"_blank\" href=https://colab.research.google.com/notebooks/data_table.ipynb>data table notebook</a>'\n",
              "          + ' to learn more about interactive tables.';\n",
              "        element.innerHTML = '';\n",
              "        dataTable['output_type'] = 'display_data';\n",
              "        await google.colab.output.renderOutput(dataTable, element);\n",
              "        const docLink = document.createElement('div');\n",
              "        docLink.innerHTML = docLinkHtml;\n",
              "        element.appendChild(docLink);\n",
              "      }\n",
              "    </script>\n",
              "  </div>\n",
              "\n",
              "\n",
              "<div id=\"df-c868ebf8-a7c3-494d-9c30-d94079ddb779\">\n",
              "  <button class=\"colab-df-quickchart\" onclick=\"quickchart('df-c868ebf8-a7c3-494d-9c30-d94079ddb779')\"\n",
              "            title=\"Suggest charts\"\n",
              "            style=\"display:none;\">\n",
              "\n",
              "<svg xmlns=\"http://www.w3.org/2000/svg\" height=\"24px\"viewBox=\"0 0 24 24\"\n",
              "     width=\"24px\">\n",
              "    <g>\n",
              "        <path d=\"M19 3H5c-1.1 0-2 .9-2 2v14c0 1.1.9 2 2 2h14c1.1 0 2-.9 2-2V5c0-1.1-.9-2-2-2zM9 17H7v-7h2v7zm4 0h-2V7h2v10zm4 0h-2v-4h2v4z\"/>\n",
              "    </g>\n",
              "</svg>\n",
              "  </button>\n",
              "\n",
              "<style>\n",
              "  .colab-df-quickchart {\n",
              "      --bg-color: #E8F0FE;\n",
              "      --fill-color: #1967D2;\n",
              "      --hover-bg-color: #E2EBFA;\n",
              "      --hover-fill-color: #174EA6;\n",
              "      --disabled-fill-color: #AAA;\n",
              "      --disabled-bg-color: #DDD;\n",
              "  }\n",
              "\n",
              "  [theme=dark] .colab-df-quickchart {\n",
              "      --bg-color: #3B4455;\n",
              "      --fill-color: #D2E3FC;\n",
              "      --hover-bg-color: #434B5C;\n",
              "      --hover-fill-color: #FFFFFF;\n",
              "      --disabled-bg-color: #3B4455;\n",
              "      --disabled-fill-color: #666;\n",
              "  }\n",
              "\n",
              "  .colab-df-quickchart {\n",
              "    background-color: var(--bg-color);\n",
              "    border: none;\n",
              "    border-radius: 50%;\n",
              "    cursor: pointer;\n",
              "    display: none;\n",
              "    fill: var(--fill-color);\n",
              "    height: 32px;\n",
              "    padding: 0;\n",
              "    width: 32px;\n",
              "  }\n",
              "\n",
              "  .colab-df-quickchart:hover {\n",
              "    background-color: var(--hover-bg-color);\n",
              "    box-shadow: 0 1px 2px rgba(60, 64, 67, 0.3), 0 1px 3px 1px rgba(60, 64, 67, 0.15);\n",
              "    fill: var(--button-hover-fill-color);\n",
              "  }\n",
              "\n",
              "  .colab-df-quickchart-complete:disabled,\n",
              "  .colab-df-quickchart-complete:disabled:hover {\n",
              "    background-color: var(--disabled-bg-color);\n",
              "    fill: var(--disabled-fill-color);\n",
              "    box-shadow: none;\n",
              "  }\n",
              "\n",
              "  .colab-df-spinner {\n",
              "    border: 2px solid var(--fill-color);\n",
              "    border-color: transparent;\n",
              "    border-bottom-color: var(--fill-color);\n",
              "    animation:\n",
              "      spin 1s steps(1) infinite;\n",
              "  }\n",
              "\n",
              "  @keyframes spin {\n",
              "    0% {\n",
              "      border-color: transparent;\n",
              "      border-bottom-color: var(--fill-color);\n",
              "      border-left-color: var(--fill-color);\n",
              "    }\n",
              "    20% {\n",
              "      border-color: transparent;\n",
              "      border-left-color: var(--fill-color);\n",
              "      border-top-color: var(--fill-color);\n",
              "    }\n",
              "    30% {\n",
              "      border-color: transparent;\n",
              "      border-left-color: var(--fill-color);\n",
              "      border-top-color: var(--fill-color);\n",
              "      border-right-color: var(--fill-color);\n",
              "    }\n",
              "    40% {\n",
              "      border-color: transparent;\n",
              "      border-right-color: var(--fill-color);\n",
              "      border-top-color: var(--fill-color);\n",
              "    }\n",
              "    60% {\n",
              "      border-color: transparent;\n",
              "      border-right-color: var(--fill-color);\n",
              "    }\n",
              "    80% {\n",
              "      border-color: transparent;\n",
              "      border-right-color: var(--fill-color);\n",
              "      border-bottom-color: var(--fill-color);\n",
              "    }\n",
              "    90% {\n",
              "      border-color: transparent;\n",
              "      border-bottom-color: var(--fill-color);\n",
              "    }\n",
              "  }\n",
              "</style>\n",
              "\n",
              "  <script>\n",
              "    async function quickchart(key) {\n",
              "      const quickchartButtonEl =\n",
              "        document.querySelector('#' + key + ' button');\n",
              "      quickchartButtonEl.disabled = true;  // To prevent multiple clicks.\n",
              "      quickchartButtonEl.classList.add('colab-df-spinner');\n",
              "      try {\n",
              "        const charts = await google.colab.kernel.invokeFunction(\n",
              "            'suggestCharts', [key], {});\n",
              "      } catch (error) {\n",
              "        console.error('Error during call to suggestCharts:', error);\n",
              "      }\n",
              "      quickchartButtonEl.classList.remove('colab-df-spinner');\n",
              "      quickchartButtonEl.classList.add('colab-df-quickchart-complete');\n",
              "    }\n",
              "    (() => {\n",
              "      let quickchartButtonEl =\n",
              "        document.querySelector('#df-c868ebf8-a7c3-494d-9c30-d94079ddb779 button');\n",
              "      quickchartButtonEl.style.display =\n",
              "        google.colab.kernel.accessAllowed ? 'block' : 'none';\n",
              "    })();\n",
              "  </script>\n",
              "</div>\n",
              "\n",
              "  <div id=\"id_69d8440a-f5cc-42ab-9261-f9a1cde55bfb\">\n",
              "    <style>\n",
              "      .colab-df-generate {\n",
              "        background-color: #E8F0FE;\n",
              "        border: none;\n",
              "        border-radius: 50%;\n",
              "        cursor: pointer;\n",
              "        display: none;\n",
              "        fill: #1967D2;\n",
              "        height: 32px;\n",
              "        padding: 0 0 0 0;\n",
              "        width: 32px;\n",
              "      }\n",
              "\n",
              "      .colab-df-generate:hover {\n",
              "        background-color: #E2EBFA;\n",
              "        box-shadow: 0px 1px 2px rgba(60, 64, 67, 0.3), 0px 1px 3px 1px rgba(60, 64, 67, 0.15);\n",
              "        fill: #174EA6;\n",
              "      }\n",
              "\n",
              "      [theme=dark] .colab-df-generate {\n",
              "        background-color: #3B4455;\n",
              "        fill: #D2E3FC;\n",
              "      }\n",
              "\n",
              "      [theme=dark] .colab-df-generate:hover {\n",
              "        background-color: #434B5C;\n",
              "        box-shadow: 0px 1px 3px 1px rgba(0, 0, 0, 0.15);\n",
              "        filter: drop-shadow(0px 1px 2px rgba(0, 0, 0, 0.3));\n",
              "        fill: #FFFFFF;\n",
              "      }\n",
              "    </style>\n",
              "    <button class=\"colab-df-generate\" onclick=\"generateWithVariable('df')\"\n",
              "            title=\"Generate code using this dataframe.\"\n",
              "            style=\"display:none;\">\n",
              "\n",
              "  <svg xmlns=\"http://www.w3.org/2000/svg\" height=\"24px\"viewBox=\"0 0 24 24\"\n",
              "       width=\"24px\">\n",
              "    <path d=\"M7,19H8.4L18.45,9,17,7.55,7,17.6ZM5,21V16.75L18.45,3.32a2,2,0,0,1,2.83,0l1.4,1.43a1.91,1.91,0,0,1,.58,1.4,1.91,1.91,0,0,1-.58,1.4L9.25,21ZM18.45,9,17,7.55Zm-12,3A5.31,5.31,0,0,0,4.9,8.1,5.31,5.31,0,0,0,1,6.5,5.31,5.31,0,0,0,4.9,4.9,5.31,5.31,0,0,0,6.5,1,5.31,5.31,0,0,0,8.1,4.9,5.31,5.31,0,0,0,12,6.5,5.46,5.46,0,0,0,6.5,12Z\"/>\n",
              "  </svg>\n",
              "    </button>\n",
              "    <script>\n",
              "      (() => {\n",
              "      const buttonEl =\n",
              "        document.querySelector('#id_69d8440a-f5cc-42ab-9261-f9a1cde55bfb button.colab-df-generate');\n",
              "      buttonEl.style.display =\n",
              "        google.colab.kernel.accessAllowed ? 'block' : 'none';\n",
              "\n",
              "      buttonEl.onclick = () => {\n",
              "        google.colab.notebook.generateWithVariable('df');\n",
              "      }\n",
              "      })();\n",
              "    </script>\n",
              "  </div>\n",
              "\n",
              "    </div>\n",
              "  </div>\n"
            ],
            "application/vnd.google.colaboratory.intrinsic+json": {
              "type": "dataframe",
              "variable_name": "df",
              "summary": "{\n  \"name\": \"df\",\n  \"rows\": 1390,\n  \"fields\": [\n    {\n      \"column\": \"Tanggal\",\n      \"properties\": {\n        \"dtype\": \"string\",\n        \"num_unique_values\": 1390,\n        \"samples\": [\n          \"16/04/2021\",\n          \"11/09/2019\",\n          \"20/12/2019\"\n        ],\n        \"semantic_type\": \"\",\n        \"description\": \"\"\n      }\n    },\n    {\n      \"column\": \"Terakhir\",\n      \"properties\": {\n        \"dtype\": \"number\",\n        \"std\": 0.49022921443086176,\n        \"min\": 2.56,\n        \"max\": 4.77,\n        \"num_unique_values\": 207,\n        \"samples\": [\n          3.48,\n          3.84,\n          3.96\n        ],\n        \"semantic_type\": \"\",\n        \"description\": \"\"\n      }\n    },\n    {\n      \"column\": \"Pembukaan\",\n      \"properties\": {\n        \"dtype\": \"number\",\n        \"std\": 0.4883433650046665,\n        \"min\": 2.55,\n        \"max\": 4.85,\n        \"num_unique_values\": 207,\n        \"samples\": [\n          3.45,\n          3.88,\n          4.03\n        ],\n        \"semantic_type\": \"\",\n        \"description\": \"\"\n      }\n    },\n    {\n      \"column\": \"Tertinggi\",\n      \"properties\": {\n        \"dtype\": \"number\",\n        \"std\": 0.4872006556016458,\n        \"min\": 2.59,\n        \"max\": 4.85,\n        \"num_unique_values\": 211,\n        \"samples\": [\n          4.03,\n          4.39,\n          2.69\n        ],\n        \"semantic_type\": \"\",\n        \"description\": \"\"\n      }\n    },\n    {\n      \"column\": \"Terendah\",\n      \"properties\": {\n        \"dtype\": \"number\",\n        \"std\": 0.48815330955552516,\n        \"min\": 2.45,\n        \"max\": 4.72,\n        \"num_unique_values\": 210,\n        \"samples\": [\n          3.94,\n          4.12,\n          3.27\n        ],\n        \"semantic_type\": \"\",\n        \"description\": \"\"\n      }\n    },\n    {\n      \"column\": \"Vol.\",\n      \"properties\": {\n        \"dtype\": \"string\",\n        \"num_unique_values\": 1328,\n        \"samples\": [\n          \"129,35M\",\n          \"130,15M\",\n          \"57,52M\"\n        ],\n        \"semantic_type\": \"\",\n        \"description\": \"\"\n      }\n    },\n    {\n      \"column\": \"Perubahan%\",\n      \"properties\": {\n        \"dtype\": \"category\",\n        \"num_unique_values\": 526,\n        \"samples\": [\n          \"0,29%\",\n          \"-0,68%\",\n          \"1,88%\"\n        ],\n        \"semantic_type\": \"\",\n        \"description\": \"\"\n      }\n    }\n  ]\n}"
            }
          },
          "metadata": {},
          "execution_count": 3
        }
      ],
      "source": [
        "df = pd.read_csv('/content/drive/MyDrive/PSD/Tugas3/Data_Historis_TLKM.csv')\n",
        "\n",
        "df"
      ]
    },
    {
      "cell_type": "markdown",
      "metadata": {
        "id": "eNMvReo3FVI3"
      },
      "source": [
        "## Deskripsi Data"
      ]
    },
    {
      "cell_type": "markdown",
      "metadata": {
        "id": "y1_ENTnHQX2O"
      },
      "source": [
        "Berdasarkan studi kasus saya, dataset yang akan saya gunakan merupakan data historis harga saham PT Telkom Indonesia Tbk (TLKM). Data ini berisi informasi tentang harga saham TLKM dari waktu ke waktu, termasuk harga penutupan, harga pembukaan, harga tertinggi, harga terendah, volume perdagangan, dan perubahan harga dalam persentase.Setiap baris data merepresentasikan data saham pada satu hari.\n",
        "\n",
        "Informasi penting yang terdapat pada dataset ini adalah:\n",
        "\n",
        "* Harga: Informasi harga saham dicatat dalam beberapa aspek yaitu harga terakhir, harga pembukaan, harga tertinggi, dan harga terendah dalam satu hari. Informasi ini menunjukkan fluktuasi harga saham TLKM dalam periode waktu tersebut.\n",
        "* Volume Perdagangan: Fitur 'Vol.' menunjukkan jumlah saham TLKM yang diperdagangkan pada hari itu. Volume perdagangan yang tinggi bisa mengindikasikan adanya aktivitas jual-beli yang aktif.\n",
        "* Perubahan Harga: Fitur 'Perubahan %' memberikan gambaran tentang persentase perubahan harga saham TLKM pada hari itu dibandingkan dengan hari sebelumnya. Nilainya bisa positif (menunjukkan kenaikan harga) atau negatif (menunjukkan penurunan harga).\n",
        "* Tanggal: Data ini menunjukkan kapan informasi harga saham tersebut direkam. Dengan informasi tanggal, saya dapat melakukan analisis berdasarkan waktu seperti tren pergerakan harga dalam periode tertentu.\n",
        "\n",
        "**Tujuan**:\n",
        "\n",
        "Tujuan saya menggunakan dataset ini adalah untuk melakukan prediksi harga saham TLKM di masa mendatang dengan menggunakan metode Machine Learning Long Short-Term Memory (LSTM). Dengan mempelajari pola historis dari data ini, model machine learning dapat dilatih untuk memperkirakan harga saham di hari berikutnya.\n",
        "\n",
        "**Tantangan**:\n",
        "\n",
        "Salah satu tantangan dalam mengolah dataset ini adalah tipe data pada fitur 'Vol.' dan 'Perubahan %' yang masih berupa 'object' dan perlu diubah ke tipe data numerik (float) sebelum digunakan untuk membuat model.\n",
        "\n",
        "**Kesimpulan**:\n",
        "\n",
        "Dataset ini memberikan informasi yang cukup lengkap tentang pergerakan harga saham TLKM. Dengan melakukan analisis dan pemrosesan data yang tepat, dataset ini dapat digunakan untuk membangun model prediksi harga saham yang akurat."
      ]
    },
    {
      "cell_type": "markdown",
      "metadata": {
        "id": "SsFfQxZYFaZc"
      },
      "source": [
        "## Penjelasan Fitur"
      ]
    },
    {
      "cell_type": "markdown",
      "metadata": {
        "id": "DHGH0diEPuu8"
      },
      "source": [
        "\n",
        "Dari dataset yang kami miliki terdapat beberapa attribut sebagai berikut:\n",
        "\n",
        "\n",
        "1.   **Tanggal**:\n",
        "      Data ini berisi tanggal saham dengan format Tanggal-Bulan-Tahun. Data ini memiliki tanggal minimum 01 Januari 2019 dan tanggal maksimum 29 September 2024. Tipe datanya adalah datetime (Nominal).\n",
        "\n",
        "\n",
        "2.   **Terakhir**: Menunjukkan harga penutupan saham pada hari tersebut. Tipe datanya adalah float64 (Numerik).\n",
        "\n",
        "\n",
        "3.   **Pembukaan**: Menunjukkan harga pembukaan saham pada hari tersebut. Tipe datanya adalah float64 (Numerik).\n",
        "\n",
        "\n",
        "4.   **Tinggi**: Menunjukkan harga saham tertinggi yang dicapai pada hari tersebut. Tipe datanya adalah float64 (Numerik).\n",
        "\n",
        "\n",
        "5.   **Rendah**: Menunjukkan harga terendah saham yang dicapai pada hari tersebut. Tipe datanya adalah float64 (Numerik).\n",
        "\n",
        "\n",
        "6.   **Vol. (Volume)**: Menunjukkan volume perdagangan saham pada hari tersebut, yaitu jumlah saham yang diperdagangkan. Tipe datanya adalah obyek karena mengandung karakter non-numerik.\n",
        "\n",
        "\n",
        "7.   **Perubahan %** : Menunjukkan persentase perubahan harga saham pada hari tersebut dibandingkan dengan hari sebelumnya. Tipe datanya adalah obyek karena mengandung karakter non-numerik.\n",
        "\n",
        "\n",
        "\n"
      ]
    },
    {
      "cell_type": "markdown",
      "metadata": {
        "id": "bn6HUeeuFPEt"
      },
      "source": [
        "## EDA"
      ]
    },
    {
      "cell_type": "code",
      "execution_count": 4,
      "metadata": {
        "colab": {
          "base_uri": "https://localhost:8080/"
        },
        "id": "WHDtj0_07n96",
        "outputId": "6982fbd9-73f1-4f3f-b2f4-de32ce483cb0"
      },
      "outputs": [
        {
          "output_type": "stream",
          "name": "stdout",
          "text": [
            "shape: (1390, 7)\n",
            "count of rows with missing values: 5\n",
            "columns: Index(['Tanggal', 'Terakhir', 'Pembukaan', 'Tertinggi', 'Terendah', 'Vol.',\n",
            "       'Perubahan%'],\n",
            "      dtype='object')\n"
          ]
        }
      ],
      "source": [
        "print(f\"shape: {df.shape}\")\n",
        "print(f\"count of rows with missing values: {len(df[df.isna().any(axis=1)])}\") # 0\n",
        "print(f\"columns: {df.columns}\")"
      ]
    },
    {
      "cell_type": "markdown",
      "source": [
        "Dari informasi di atas kita mendapatkan informasi mengenai beberapa hal, antara lain:\n",
        "\n",
        "1. df.shape => menampilkan jumlah kolom dan baris dari dataset, terdapat **1390** baris dan **7** kolom.\n",
        "2. Terdapat missing values sebanyak **5**\n",
        "3. Isi kolomnya antara lain => Tanggal, Terakhir, Pembukaan, Tertinggi, Terendah, Vol., Perubahan%"
      ],
      "metadata": {
        "id": "AWY3vNp5UGxj"
      }
    },
    {
      "cell_type": "markdown",
      "metadata": {
        "id": "K3WF_RF58j6M"
      },
      "source": [
        "### Exploratory Data Analysis (EDA) secara cepat menggunakan perpustakaan Pandas Profiling"
      ]
    },
    {
      "cell_type": "code",
      "execution_count": 5,
      "metadata": {
        "id": "EHp_JGXN7-BW"
      },
      "outputs": [],
      "source": [
        "# profile = ProfileReport(df, title=f\"Train dataset\")\n",
        "# profile.to_notebook_iframe()"
      ]
    },
    {
      "cell_type": "markdown",
      "metadata": {
        "id": "3i7slYjjGqVd"
      },
      "source": [
        "### Mengecek Beberapa Baris Pertama Dataset"
      ]
    },
    {
      "cell_type": "code",
      "execution_count": 6,
      "metadata": {
        "colab": {
          "base_uri": "https://localhost:8080/",
          "height": 206
        },
        "id": "Qcsqc5KBFnEE",
        "outputId": "e467b69a-f49c-4cf1-e563-44e7a99889d3"
      },
      "outputs": [
        {
          "output_type": "execute_result",
          "data": {
            "text/plain": [
              "      Tanggal  Terakhir  Pembukaan  Tertinggi  Terendah    Vol. Perubahan%\n",
              "0  02/01/2019      3.73       3.75       3.76      3.70  31,36M     -0,53%\n",
              "1  03/01/2019      3.74       3.71       3.77      3.69  83,84M      0,27%\n",
              "2  04/01/2019      3.71       3.69       3.74      3.69  73,94M     -0,80%\n",
              "3  07/01/2019      3.77       3.76       3.79      3.75  83,68M      1,62%\n",
              "4  08/01/2019      3.80       3.77       3.80      3.75  67,96M      0,80%"
            ],
            "text/html": [
              "\n",
              "  <div id=\"df-be499097-2977-49de-9505-d5c674b06ded\" class=\"colab-df-container\">\n",
              "    <div>\n",
              "<style scoped>\n",
              "    .dataframe tbody tr th:only-of-type {\n",
              "        vertical-align: middle;\n",
              "    }\n",
              "\n",
              "    .dataframe tbody tr th {\n",
              "        vertical-align: top;\n",
              "    }\n",
              "\n",
              "    .dataframe thead th {\n",
              "        text-align: right;\n",
              "    }\n",
              "</style>\n",
              "<table border=\"1\" class=\"dataframe\">\n",
              "  <thead>\n",
              "    <tr style=\"text-align: right;\">\n",
              "      <th></th>\n",
              "      <th>Tanggal</th>\n",
              "      <th>Terakhir</th>\n",
              "      <th>Pembukaan</th>\n",
              "      <th>Tertinggi</th>\n",
              "      <th>Terendah</th>\n",
              "      <th>Vol.</th>\n",
              "      <th>Perubahan%</th>\n",
              "    </tr>\n",
              "  </thead>\n",
              "  <tbody>\n",
              "    <tr>\n",
              "      <th>0</th>\n",
              "      <td>02/01/2019</td>\n",
              "      <td>3.73</td>\n",
              "      <td>3.75</td>\n",
              "      <td>3.76</td>\n",
              "      <td>3.70</td>\n",
              "      <td>31,36M</td>\n",
              "      <td>-0,53%</td>\n",
              "    </tr>\n",
              "    <tr>\n",
              "      <th>1</th>\n",
              "      <td>03/01/2019</td>\n",
              "      <td>3.74</td>\n",
              "      <td>3.71</td>\n",
              "      <td>3.77</td>\n",
              "      <td>3.69</td>\n",
              "      <td>83,84M</td>\n",
              "      <td>0,27%</td>\n",
              "    </tr>\n",
              "    <tr>\n",
              "      <th>2</th>\n",
              "      <td>04/01/2019</td>\n",
              "      <td>3.71</td>\n",
              "      <td>3.69</td>\n",
              "      <td>3.74</td>\n",
              "      <td>3.69</td>\n",
              "      <td>73,94M</td>\n",
              "      <td>-0,80%</td>\n",
              "    </tr>\n",
              "    <tr>\n",
              "      <th>3</th>\n",
              "      <td>07/01/2019</td>\n",
              "      <td>3.77</td>\n",
              "      <td>3.76</td>\n",
              "      <td>3.79</td>\n",
              "      <td>3.75</td>\n",
              "      <td>83,68M</td>\n",
              "      <td>1,62%</td>\n",
              "    </tr>\n",
              "    <tr>\n",
              "      <th>4</th>\n",
              "      <td>08/01/2019</td>\n",
              "      <td>3.80</td>\n",
              "      <td>3.77</td>\n",
              "      <td>3.80</td>\n",
              "      <td>3.75</td>\n",
              "      <td>67,96M</td>\n",
              "      <td>0,80%</td>\n",
              "    </tr>\n",
              "  </tbody>\n",
              "</table>\n",
              "</div>\n",
              "    <div class=\"colab-df-buttons\">\n",
              "\n",
              "  <div class=\"colab-df-container\">\n",
              "    <button class=\"colab-df-convert\" onclick=\"convertToInteractive('df-be499097-2977-49de-9505-d5c674b06ded')\"\n",
              "            title=\"Convert this dataframe to an interactive table.\"\n",
              "            style=\"display:none;\">\n",
              "\n",
              "  <svg xmlns=\"http://www.w3.org/2000/svg\" height=\"24px\" viewBox=\"0 -960 960 960\">\n",
              "    <path d=\"M120-120v-720h720v720H120Zm60-500h600v-160H180v160Zm220 220h160v-160H400v160Zm0 220h160v-160H400v160ZM180-400h160v-160H180v160Zm440 0h160v-160H620v160ZM180-180h160v-160H180v160Zm440 0h160v-160H620v160Z\"/>\n",
              "  </svg>\n",
              "    </button>\n",
              "\n",
              "  <style>\n",
              "    .colab-df-container {\n",
              "      display:flex;\n",
              "      gap: 12px;\n",
              "    }\n",
              "\n",
              "    .colab-df-convert {\n",
              "      background-color: #E8F0FE;\n",
              "      border: none;\n",
              "      border-radius: 50%;\n",
              "      cursor: pointer;\n",
              "      display: none;\n",
              "      fill: #1967D2;\n",
              "      height: 32px;\n",
              "      padding: 0 0 0 0;\n",
              "      width: 32px;\n",
              "    }\n",
              "\n",
              "    .colab-df-convert:hover {\n",
              "      background-color: #E2EBFA;\n",
              "      box-shadow: 0px 1px 2px rgba(60, 64, 67, 0.3), 0px 1px 3px 1px rgba(60, 64, 67, 0.15);\n",
              "      fill: #174EA6;\n",
              "    }\n",
              "\n",
              "    .colab-df-buttons div {\n",
              "      margin-bottom: 4px;\n",
              "    }\n",
              "\n",
              "    [theme=dark] .colab-df-convert {\n",
              "      background-color: #3B4455;\n",
              "      fill: #D2E3FC;\n",
              "    }\n",
              "\n",
              "    [theme=dark] .colab-df-convert:hover {\n",
              "      background-color: #434B5C;\n",
              "      box-shadow: 0px 1px 3px 1px rgba(0, 0, 0, 0.15);\n",
              "      filter: drop-shadow(0px 1px 2px rgba(0, 0, 0, 0.3));\n",
              "      fill: #FFFFFF;\n",
              "    }\n",
              "  </style>\n",
              "\n",
              "    <script>\n",
              "      const buttonEl =\n",
              "        document.querySelector('#df-be499097-2977-49de-9505-d5c674b06ded button.colab-df-convert');\n",
              "      buttonEl.style.display =\n",
              "        google.colab.kernel.accessAllowed ? 'block' : 'none';\n",
              "\n",
              "      async function convertToInteractive(key) {\n",
              "        const element = document.querySelector('#df-be499097-2977-49de-9505-d5c674b06ded');\n",
              "        const dataTable =\n",
              "          await google.colab.kernel.invokeFunction('convertToInteractive',\n",
              "                                                    [key], {});\n",
              "        if (!dataTable) return;\n",
              "\n",
              "        const docLinkHtml = 'Like what you see? Visit the ' +\n",
              "          '<a target=\"_blank\" href=https://colab.research.google.com/notebooks/data_table.ipynb>data table notebook</a>'\n",
              "          + ' to learn more about interactive tables.';\n",
              "        element.innerHTML = '';\n",
              "        dataTable['output_type'] = 'display_data';\n",
              "        await google.colab.output.renderOutput(dataTable, element);\n",
              "        const docLink = document.createElement('div');\n",
              "        docLink.innerHTML = docLinkHtml;\n",
              "        element.appendChild(docLink);\n",
              "      }\n",
              "    </script>\n",
              "  </div>\n",
              "\n",
              "\n",
              "<div id=\"df-8eed38e2-d75b-4fa9-b3a2-37f553b16af4\">\n",
              "  <button class=\"colab-df-quickchart\" onclick=\"quickchart('df-8eed38e2-d75b-4fa9-b3a2-37f553b16af4')\"\n",
              "            title=\"Suggest charts\"\n",
              "            style=\"display:none;\">\n",
              "\n",
              "<svg xmlns=\"http://www.w3.org/2000/svg\" height=\"24px\"viewBox=\"0 0 24 24\"\n",
              "     width=\"24px\">\n",
              "    <g>\n",
              "        <path d=\"M19 3H5c-1.1 0-2 .9-2 2v14c0 1.1.9 2 2 2h14c1.1 0 2-.9 2-2V5c0-1.1-.9-2-2-2zM9 17H7v-7h2v7zm4 0h-2V7h2v10zm4 0h-2v-4h2v4z\"/>\n",
              "    </g>\n",
              "</svg>\n",
              "  </button>\n",
              "\n",
              "<style>\n",
              "  .colab-df-quickchart {\n",
              "      --bg-color: #E8F0FE;\n",
              "      --fill-color: #1967D2;\n",
              "      --hover-bg-color: #E2EBFA;\n",
              "      --hover-fill-color: #174EA6;\n",
              "      --disabled-fill-color: #AAA;\n",
              "      --disabled-bg-color: #DDD;\n",
              "  }\n",
              "\n",
              "  [theme=dark] .colab-df-quickchart {\n",
              "      --bg-color: #3B4455;\n",
              "      --fill-color: #D2E3FC;\n",
              "      --hover-bg-color: #434B5C;\n",
              "      --hover-fill-color: #FFFFFF;\n",
              "      --disabled-bg-color: #3B4455;\n",
              "      --disabled-fill-color: #666;\n",
              "  }\n",
              "\n",
              "  .colab-df-quickchart {\n",
              "    background-color: var(--bg-color);\n",
              "    border: none;\n",
              "    border-radius: 50%;\n",
              "    cursor: pointer;\n",
              "    display: none;\n",
              "    fill: var(--fill-color);\n",
              "    height: 32px;\n",
              "    padding: 0;\n",
              "    width: 32px;\n",
              "  }\n",
              "\n",
              "  .colab-df-quickchart:hover {\n",
              "    background-color: var(--hover-bg-color);\n",
              "    box-shadow: 0 1px 2px rgba(60, 64, 67, 0.3), 0 1px 3px 1px rgba(60, 64, 67, 0.15);\n",
              "    fill: var(--button-hover-fill-color);\n",
              "  }\n",
              "\n",
              "  .colab-df-quickchart-complete:disabled,\n",
              "  .colab-df-quickchart-complete:disabled:hover {\n",
              "    background-color: var(--disabled-bg-color);\n",
              "    fill: var(--disabled-fill-color);\n",
              "    box-shadow: none;\n",
              "  }\n",
              "\n",
              "  .colab-df-spinner {\n",
              "    border: 2px solid var(--fill-color);\n",
              "    border-color: transparent;\n",
              "    border-bottom-color: var(--fill-color);\n",
              "    animation:\n",
              "      spin 1s steps(1) infinite;\n",
              "  }\n",
              "\n",
              "  @keyframes spin {\n",
              "    0% {\n",
              "      border-color: transparent;\n",
              "      border-bottom-color: var(--fill-color);\n",
              "      border-left-color: var(--fill-color);\n",
              "    }\n",
              "    20% {\n",
              "      border-color: transparent;\n",
              "      border-left-color: var(--fill-color);\n",
              "      border-top-color: var(--fill-color);\n",
              "    }\n",
              "    30% {\n",
              "      border-color: transparent;\n",
              "      border-left-color: var(--fill-color);\n",
              "      border-top-color: var(--fill-color);\n",
              "      border-right-color: var(--fill-color);\n",
              "    }\n",
              "    40% {\n",
              "      border-color: transparent;\n",
              "      border-right-color: var(--fill-color);\n",
              "      border-top-color: var(--fill-color);\n",
              "    }\n",
              "    60% {\n",
              "      border-color: transparent;\n",
              "      border-right-color: var(--fill-color);\n",
              "    }\n",
              "    80% {\n",
              "      border-color: transparent;\n",
              "      border-right-color: var(--fill-color);\n",
              "      border-bottom-color: var(--fill-color);\n",
              "    }\n",
              "    90% {\n",
              "      border-color: transparent;\n",
              "      border-bottom-color: var(--fill-color);\n",
              "    }\n",
              "  }\n",
              "</style>\n",
              "\n",
              "  <script>\n",
              "    async function quickchart(key) {\n",
              "      const quickchartButtonEl =\n",
              "        document.querySelector('#' + key + ' button');\n",
              "      quickchartButtonEl.disabled = true;  // To prevent multiple clicks.\n",
              "      quickchartButtonEl.classList.add('colab-df-spinner');\n",
              "      try {\n",
              "        const charts = await google.colab.kernel.invokeFunction(\n",
              "            'suggestCharts', [key], {});\n",
              "      } catch (error) {\n",
              "        console.error('Error during call to suggestCharts:', error);\n",
              "      }\n",
              "      quickchartButtonEl.classList.remove('colab-df-spinner');\n",
              "      quickchartButtonEl.classList.add('colab-df-quickchart-complete');\n",
              "    }\n",
              "    (() => {\n",
              "      let quickchartButtonEl =\n",
              "        document.querySelector('#df-8eed38e2-d75b-4fa9-b3a2-37f553b16af4 button');\n",
              "      quickchartButtonEl.style.display =\n",
              "        google.colab.kernel.accessAllowed ? 'block' : 'none';\n",
              "    })();\n",
              "  </script>\n",
              "</div>\n",
              "\n",
              "    </div>\n",
              "  </div>\n"
            ],
            "application/vnd.google.colaboratory.intrinsic+json": {
              "type": "dataframe",
              "variable_name": "df",
              "summary": "{\n  \"name\": \"df\",\n  \"rows\": 1390,\n  \"fields\": [\n    {\n      \"column\": \"Tanggal\",\n      \"properties\": {\n        \"dtype\": \"string\",\n        \"num_unique_values\": 1390,\n        \"samples\": [\n          \"16/04/2021\",\n          \"11/09/2019\",\n          \"20/12/2019\"\n        ],\n        \"semantic_type\": \"\",\n        \"description\": \"\"\n      }\n    },\n    {\n      \"column\": \"Terakhir\",\n      \"properties\": {\n        \"dtype\": \"number\",\n        \"std\": 0.49022921443086176,\n        \"min\": 2.56,\n        \"max\": 4.77,\n        \"num_unique_values\": 207,\n        \"samples\": [\n          3.48,\n          3.84,\n          3.96\n        ],\n        \"semantic_type\": \"\",\n        \"description\": \"\"\n      }\n    },\n    {\n      \"column\": \"Pembukaan\",\n      \"properties\": {\n        \"dtype\": \"number\",\n        \"std\": 0.4883433650046665,\n        \"min\": 2.55,\n        \"max\": 4.85,\n        \"num_unique_values\": 207,\n        \"samples\": [\n          3.45,\n          3.88,\n          4.03\n        ],\n        \"semantic_type\": \"\",\n        \"description\": \"\"\n      }\n    },\n    {\n      \"column\": \"Tertinggi\",\n      \"properties\": {\n        \"dtype\": \"number\",\n        \"std\": 0.4872006556016458,\n        \"min\": 2.59,\n        \"max\": 4.85,\n        \"num_unique_values\": 211,\n        \"samples\": [\n          4.03,\n          4.39,\n          2.69\n        ],\n        \"semantic_type\": \"\",\n        \"description\": \"\"\n      }\n    },\n    {\n      \"column\": \"Terendah\",\n      \"properties\": {\n        \"dtype\": \"number\",\n        \"std\": 0.48815330955552516,\n        \"min\": 2.45,\n        \"max\": 4.72,\n        \"num_unique_values\": 210,\n        \"samples\": [\n          3.94,\n          4.12,\n          3.27\n        ],\n        \"semantic_type\": \"\",\n        \"description\": \"\"\n      }\n    },\n    {\n      \"column\": \"Vol.\",\n      \"properties\": {\n        \"dtype\": \"string\",\n        \"num_unique_values\": 1328,\n        \"samples\": [\n          \"129,35M\",\n          \"130,15M\",\n          \"57,52M\"\n        ],\n        \"semantic_type\": \"\",\n        \"description\": \"\"\n      }\n    },\n    {\n      \"column\": \"Perubahan%\",\n      \"properties\": {\n        \"dtype\": \"category\",\n        \"num_unique_values\": 526,\n        \"samples\": [\n          \"0,29%\",\n          \"-0,68%\",\n          \"1,88%\"\n        ],\n        \"semantic_type\": \"\",\n        \"description\": \"\"\n      }\n    }\n  ]\n}"
            }
          },
          "metadata": {},
          "execution_count": 6
        }
      ],
      "source": [
        "df.head()"
      ]
    },
    {
      "cell_type": "markdown",
      "source": [
        "df.head di atas menampilkan 5 data yang berada pada indeks atas, terdapat beberapa hal yang perlu dilakukan perubahan, antara lain:\n",
        "1. Kolom Tanggal\n",
        "\n",
        "    Perlu dilakukan perubahan format tanggal, agar dapat dibaca mesin dengan mudah.\n",
        "\n",
        "2. Kolom Vol.\n",
        "\n",
        "    Perubahan nama kolom dari Vol. menjadi Volume agar mudah mengidentifikasi nama kolomnya, selain itu format dari isi kolomnya masih terdapat string ('M') yang mana perlu dilakukan perubahan menjadi 0 sesuai data awalnya, ('M' = 1.000.000.000).\n",
        "\n",
        "3. Kolom Perubahan\n",
        "\n",
        "    Kemungkinan besar kita tidak akan menggunakan kolom ini, sehingga nantinya akan kita hapus, sebelum itu akan kita cek korelasinya dengan fitur lain agar mengetahui keterkaitannya dengan fitur lain, sehingga apabila kita hapus tidak akan berdampak dengan fitur lainnya."
      ],
      "metadata": {
        "id": "UYz1aW9bVtHe"
      }
    },
    {
      "cell_type": "markdown",
      "metadata": {
        "id": "VL758HTqGmcg"
      },
      "source": [
        "### Mengecek Format Kolom"
      ]
    },
    {
      "cell_type": "code",
      "execution_count": 7,
      "metadata": {
        "colab": {
          "base_uri": "https://localhost:8080/"
        },
        "id": "tjmTPZEaFsCM",
        "outputId": "21b1cfb7-6974-4447-86ed-c00b4349f1d4"
      },
      "outputs": [
        {
          "output_type": "stream",
          "name": "stdout",
          "text": [
            "<class 'pandas.core.frame.DataFrame'>\n",
            "RangeIndex: 1390 entries, 0 to 1389\n",
            "Data columns (total 7 columns):\n",
            " #   Column      Non-Null Count  Dtype  \n",
            "---  ------      --------------  -----  \n",
            " 0   Tanggal     1390 non-null   object \n",
            " 1   Terakhir    1390 non-null   float64\n",
            " 2   Pembukaan   1390 non-null   float64\n",
            " 3   Tertinggi   1390 non-null   float64\n",
            " 4   Terendah    1390 non-null   float64\n",
            " 5   Vol.        1385 non-null   object \n",
            " 6   Perubahan%  1390 non-null   object \n",
            "dtypes: float64(4), object(3)\n",
            "memory usage: 76.1+ KB\n"
          ]
        }
      ],
      "source": [
        "df.info()"
      ]
    },
    {
      "cell_type": "markdown",
      "source": [
        "Dari hasil di atas kita dapat melihat bahwa Kolom Vol. jumlahnya hanya **1385** data dibanding yang lainnya yaitu **1390** yang berarti terdapat 5 data yang hilang. Selain itu, datatypenya masih berupa object yang seharusnya adalah float64 karena nantinya akan dilakukan perhitungan untuk Kolom Vol."
      ],
      "metadata": {
        "id": "Z6gBYzhwY3tU"
      }
    },
    {
      "cell_type": "markdown",
      "source": [
        "### Mengganti Nama Kolom"
      ],
      "metadata": {
        "id": "sDj-2CBsYLQh"
      }
    },
    {
      "cell_type": "code",
      "source": [
        "df = df.rename(columns={'Terakhir': 'Penutupan', 'Vol.':'Volume', 'Perubahan%': 'Perubahan'})"
      ],
      "metadata": {
        "id": "vrmESlapbFjF"
      },
      "execution_count": 8,
      "outputs": []
    },
    {
      "cell_type": "markdown",
      "source": [
        "Disini saya mengganti nama-nama kolom, untuk memudahkan pemanggilan nama tiap kolom guna dilakukannya perhitungan nantinya."
      ],
      "metadata": {
        "id": "ama6E34m7rFh"
      }
    },
    {
      "cell_type": "markdown",
      "metadata": {
        "id": "WYIZA44PQhjc"
      },
      "source": [
        "### Menghitung Jumlah Data yang Hilang (Missing Value)"
      ]
    },
    {
      "cell_type": "code",
      "source": [
        "sns.heatmap(df.isnull(),cmap = 'Reds',cbar = False);"
      ],
      "metadata": {
        "colab": {
          "base_uri": "https://localhost:8080/",
          "height": 504
        },
        "id": "x5gvjAipwiQd",
        "outputId": "9694c521-6645-4886-d355-1bfe7d51f155"
      },
      "execution_count": 9,
      "outputs": [
        {
          "output_type": "display_data",
          "data": {
            "text/plain": [
              "<Figure size 640x480 with 1 Axes>"
            ],
            "image/png": "[encoded data removed]"
          },
          "metadata": {}
        }
      ]
    },
    {
      "cell_type": "code",
      "execution_count": 10,
      "metadata": {
        "colab": {
          "base_uri": "https://localhost:8080/",
          "height": 303
        },
        "id": "zgv0ygnQF73d",
        "outputId": "1811d8f7-d121-4f90-9ddb-83bfc54349d0"
      },
      "outputs": [
        {
          "output_type": "execute_result",
          "data": {
            "text/plain": [
              "Tanggal      0\n",
              "Penutupan    0\n",
              "Pembukaan    0\n",
              "Tertinggi    0\n",
              "Terendah     0\n",
              "Volume       5\n",
              "Perubahan    0\n",
              "dtype: int64"
            ],
            "text/html": [
              "<div>\n",
              "<style scoped>\n",
              "    .dataframe tbody tr th:only-of-type {\n",
              "        vertical-align: middle;\n",
              "    }\n",
              "\n",
              "    .dataframe tbody tr th {\n",
              "        vertical-align: top;\n",
              "    }\n",
              "\n",
              "    .dataframe thead th {\n",
              "        text-align: right;\n",
              "    }\n",
              "</style>\n",
              "<table border=\"1\" class=\"dataframe\">\n",
              "  <thead>\n",
              "    <tr style=\"text-align: right;\">\n",
              "      <th></th>\n",
              "      <th>0</th>\n",
              "    </tr>\n",
              "  </thead>\n",
              "  <tbody>\n",
              "    <tr>\n",
              "      <th>Tanggal</th>\n",
              "      <td>0</td>\n",
              "    </tr>\n",
              "    <tr>\n",
              "      <th>Penutupan</th>\n",
              "      <td>0</td>\n",
              "    </tr>\n",
              "    <tr>\n",
              "      <th>Pembukaan</th>\n",
              "      <td>0</td>\n",
              "    </tr>\n",
              "    <tr>\n",
              "      <th>Tertinggi</th>\n",
              "      <td>0</td>\n",
              "    </tr>\n",
              "    <tr>\n",
              "      <th>Terendah</th>\n",
              "      <td>0</td>\n",
              "    </tr>\n",
              "    <tr>\n",
              "      <th>Volume</th>\n",
              "      <td>5</td>\n",
              "    </tr>\n",
              "    <tr>\n",
              "      <th>Perubahan</th>\n",
              "      <td>0</td>\n",
              "    </tr>\n",
              "  </tbody>\n",
              "</table>\n",
              "</div><br><label><b>dtype:</b> int64</label>"
            ]
          },
          "metadata": {},
          "execution_count": 10
        }
      ],
      "source": [
        "df.isnull().sum()"
      ]
    },
    {
      "cell_type": "markdown",
      "source": [
        "Setelah kita cek, memang benar bahwa Kolom Vol. memiliki missing values sejumlah **5 data**. Missing value akan diperbaiki saat memasuki data preprocessing."
      ],
      "metadata": {
        "id": "dU20uCiEaZhk"
      }
    },
    {
      "cell_type": "markdown",
      "metadata": {
        "id": "vE8SsWgSQdLJ"
      },
      "source": [
        "### Statistik Deskriptif"
      ]
    },
    {
      "cell_type": "code",
      "execution_count": 11,
      "metadata": {
        "colab": {
          "base_uri": "https://localhost:8080/",
          "height": 300
        },
        "id": "dJU3l6D5F2Zp",
        "outputId": "4decdfab-755b-45b8-bdc4-ab722828418d"
      },
      "outputs": [
        {
          "output_type": "execute_result",
          "data": {
            "text/plain": [
              "         Penutupan    Pembukaan    Tertinggi     Terendah\n",
              "count  1390.000000  1390.000000  1390.000000  1390.000000\n",
              "mean      3.721345     3.723511     3.763662     3.680288\n",
              "std       0.490229     0.488343     0.487201     0.488153\n",
              "min       2.560000     2.550000     2.590000     2.450000\n",
              "25%       3.310000     3.302500     3.360000     3.260000\n",
              "50%       3.800000     3.800000     3.840000     3.770000\n",
              "75%       4.080000     4.070000     4.120000     4.030000\n",
              "max       4.770000     4.850000     4.850000     4.720000"
            ],
            "text/html": [
              "\n",
              "  <div id=\"df-4350d0a3-20ee-41d9-b876-c36284d5591c\" class=\"colab-df-container\">\n",
              "    <div>\n",
              "<style scoped>\n",
              "    .dataframe tbody tr th:only-of-type {\n",
              "        vertical-align: middle;\n",
              "    }\n",
              "\n",
              "    .dataframe tbody tr th {\n",
              "        vertical-align: top;\n",
              "    }\n",
              "\n",
              "    .dataframe thead th {\n",
              "        text-align: right;\n",
              "    }\n",
              "</style>\n",
              "<table border=\"1\" class=\"dataframe\">\n",
              "  <thead>\n",
              "    <tr style=\"text-align: right;\">\n",
              "      <th></th>\n",
              "      <th>Penutupan</th>\n",
              "      <th>Pembukaan</th>\n",
              "      <th>Tertinggi</th>\n",
              "      <th>Terendah</th>\n",
              "    </tr>\n",
              "  </thead>\n",
              "  <tbody>\n",
              "    <tr>\n",
              "      <th>count</th>\n",
              "      <td>1390.000000</td>\n",
              "      <td>1390.000000</td>\n",
              "      <td>1390.000000</td>\n",
              "      <td>1390.000000</td>\n",
              "    </tr>\n",
              "    <tr>\n",
              "      <th>mean</th>\n",
              "      <td>3.721345</td>\n",
              "      <td>3.723511</td>\n",
              "      <td>3.763662</td>\n",
              "      <td>3.680288</td>\n",
              "    </tr>\n",
              "    <tr>\n",
              "      <th>std</th>\n",
              "      <td>0.490229</td>\n",
              "      <td>0.488343</td>\n",
              "      <td>0.487201</td>\n",
              "      <td>0.488153</td>\n",
              "    </tr>\n",
              "    <tr>\n",
              "      <th>min</th>\n",
              "      <td>2.560000</td>\n",
              "      <td>2.550000</td>\n",
              "      <td>2.590000</td>\n",
              "      <td>2.450000</td>\n",
              "    </tr>\n",
              "    <tr>\n",
              "      <th>25%</th>\n",
              "      <td>3.310000</td>\n",
              "      <td>3.302500</td>\n",
              "      <td>3.360000</td>\n",
              "      <td>3.260000</td>\n",
              "    </tr>\n",
              "    <tr>\n",
              "      <th>50%</th>\n",
              "      <td>3.800000</td>\n",
              "      <td>3.800000</td>\n",
              "      <td>3.840000</td>\n",
              "      <td>3.770000</td>\n",
              "    </tr>\n",
              "    <tr>\n",
              "      <th>75%</th>\n",
              "      <td>4.080000</td>\n",
              "      <td>4.070000</td>\n",
              "      <td>4.120000</td>\n",
              "      <td>4.030000</td>\n",
              "    </tr>\n",
              "    <tr>\n",
              "      <th>max</th>\n",
              "      <td>4.770000</td>\n",
              "      <td>4.850000</td>\n",
              "      <td>4.850000</td>\n",
              "      <td>4.720000</td>\n",
              "    </tr>\n",
              "  </tbody>\n",
              "</table>\n",
              "</div>\n",
              "    <div class=\"colab-df-buttons\">\n",
              "\n",
              "  <div class=\"colab-df-container\">\n",
              "    <button class=\"colab-df-convert\" onclick=\"convertToInteractive('df-4350d0a3-20ee-41d9-b876-c36284d5591c')\"\n",
              "            title=\"Convert this dataframe to an interactive table.\"\n",
              "            style=\"display:none;\">\n",
              "\n",
              "  <svg xmlns=\"http://www.w3.org/2000/svg\" height=\"24px\" viewBox=\"0 -960 960 960\">\n",
              "    <path d=\"M120-120v-720h720v720H120Zm60-500h600v-160H180v160Zm220 220h160v-160H400v160Zm0 220h160v-160H400v160ZM180-400h160v-160H180v160Zm440 0h160v-160H620v160ZM180-180h160v-160H180v160Zm440 0h160v-160H620v160Z\"/>\n",
              "  </svg>\n",
              "    </button>\n",
              "\n",
              "  <style>\n",
              "    .colab-df-container {\n",
              "      display:flex;\n",
              "      gap: 12px;\n",
              "    }\n",
              "\n",
              "    .colab-df-convert {\n",
              "      background-color: #E8F0FE;\n",
              "      border: none;\n",
              "      border-radius: 50%;\n",
              "      cursor: pointer;\n",
              "      display: none;\n",
              "      fill: #1967D2;\n",
              "      height: 32px;\n",
              "      padding: 0 0 0 0;\n",
              "      width: 32px;\n",
              "    }\n",
              "\n",
              "    .colab-df-convert:hover {\n",
              "      background-color: #E2EBFA;\n",
              "      box-shadow: 0px 1px 2px rgba(60, 64, 67, 0.3), 0px 1px 3px 1px rgba(60, 64, 67, 0.15);\n",
              "      fill: #174EA6;\n",
              "    }\n",
              "\n",
              "    .colab-df-buttons div {\n",
              "      margin-bottom: 4px;\n",
              "    }\n",
              "\n",
              "    [theme=dark] .colab-df-convert {\n",
              "      background-color: #3B4455;\n",
              "      fill: #D2E3FC;\n",
              "    }\n",
              "\n",
              "    [theme=dark] .colab-df-convert:hover {\n",
              "      background-color: #434B5C;\n",
              "      box-shadow: 0px 1px 3px 1px rgba(0, 0, 0, 0.15);\n",
              "      filter: drop-shadow(0px 1px 2px rgba(0, 0, 0, 0.3));\n",
              "      fill: #FFFFFF;\n",
              "    }\n",
              "  </style>\n",
              "\n",
              "    <script>\n",
              "      const buttonEl =\n",
              "        document.querySelector('#df-4350d0a3-20ee-41d9-b876-c36284d5591c button.colab-df-convert');\n",
              "      buttonEl.style.display =\n",
              "        google.colab.kernel.accessAllowed ? 'block' : 'none';\n",
              "\n",
              "      async function convertToInteractive(key) {\n",
              "        const element = document.querySelector('#df-4350d0a3-20ee-41d9-b876-c36284d5591c');\n",
              "        const dataTable =\n",
              "          await google.colab.kernel.invokeFunction('convertToInteractive',\n",
              "                                                    [key], {});\n",
              "        if (!dataTable) return;\n",
              "\n",
              "        const docLinkHtml = 'Like what you see? Visit the ' +\n",
              "          '<a target=\"_blank\" href=https://colab.research.google.com/notebooks/data_table.ipynb>data table notebook</a>'\n",
              "          + ' to learn more about interactive tables.';\n",
              "        element.innerHTML = '';\n",
              "        dataTable['output_type'] = 'display_data';\n",
              "        await google.colab.output.renderOutput(dataTable, element);\n",
              "        const docLink = document.createElement('div');\n",
              "        docLink.innerHTML = docLinkHtml;\n",
              "        element.appendChild(docLink);\n",
              "      }\n",
              "    </script>\n",
              "  </div>\n",
              "\n",
              "\n",
              "<div id=\"df-939a03e3-3004-49d4-956d-33d52d842781\">\n",
              "  <button class=\"colab-df-quickchart\" onclick=\"quickchart('df-939a03e3-3004-49d4-956d-33d52d842781')\"\n",
              "            title=\"Suggest charts\"\n",
              "            style=\"display:none;\">\n",
              "\n",
              "<svg xmlns=\"http://www.w3.org/2000/svg\" height=\"24px\"viewBox=\"0 0 24 24\"\n",
              "     width=\"24px\">\n",
              "    <g>\n",
              "        <path d=\"M19 3H5c-1.1 0-2 .9-2 2v14c0 1.1.9 2 2 2h14c1.1 0 2-.9 2-2V5c0-1.1-.9-2-2-2zM9 17H7v-7h2v7zm4 0h-2V7h2v10zm4 0h-2v-4h2v4z\"/>\n",
              "    </g>\n",
              "</svg>\n",
              "  </button>\n",
              "\n",
              "<style>\n",
              "  .colab-df-quickchart {\n",
              "      --bg-color: #E8F0FE;\n",
              "      --fill-color: #1967D2;\n",
              "      --hover-bg-color: #E2EBFA;\n",
              "      --hover-fill-color: #174EA6;\n",
              "      --disabled-fill-color: #AAA;\n",
              "      --disabled-bg-color: #DDD;\n",
              "  }\n",
              "\n",
              "  [theme=dark] .colab-df-quickchart {\n",
              "      --bg-color: #3B4455;\n",
              "      --fill-color: #D2E3FC;\n",
              "      --hover-bg-color: #434B5C;\n",
              "      --hover-fill-color: #FFFFFF;\n",
              "      --disabled-bg-color: #3B4455;\n",
              "      --disabled-fill-color: #666;\n",
              "  }\n",
              "\n",
              "  .colab-df-quickchart {\n",
              "    background-color: var(--bg-color);\n",
              "    border: none;\n",
              "    border-radius: 50%;\n",
              "    cursor: pointer;\n",
              "    display: none;\n",
              "    fill: var(--fill-color);\n",
              "    height: 32px;\n",
              "    padding: 0;\n",
              "    width: 32px;\n",
              "  }\n",
              "\n",
              "  .colab-df-quickchart:hover {\n",
              "    background-color: var(--hover-bg-color);\n",
              "    box-shadow: 0 1px 2px rgba(60, 64, 67, 0.3), 0 1px 3px 1px rgba(60, 64, 67, 0.15);\n",
              "    fill: var(--button-hover-fill-color);\n",
              "  }\n",
              "\n",
              "  .colab-df-quickchart-complete:disabled,\n",
              "  .colab-df-quickchart-complete:disabled:hover {\n",
              "    background-color: var(--disabled-bg-color);\n",
              "    fill: var(--disabled-fill-color);\n",
              "    box-shadow: none;\n",
              "  }\n",
              "\n",
              "  .colab-df-spinner {\n",
              "    border: 2px solid var(--fill-color);\n",
              "    border-color: transparent;\n",
              "    border-bottom-color: var(--fill-color);\n",
              "    animation:\n",
              "      spin 1s steps(1) infinite;\n",
              "  }\n",
              "\n",
              "  @keyframes spin {\n",
              "    0% {\n",
              "      border-color: transparent;\n",
              "      border-bottom-color: var(--fill-color);\n",
              "      border-left-color: var(--fill-color);\n",
              "    }\n",
              "    20% {\n",
              "      border-color: transparent;\n",
              "      border-left-color: var(--fill-color);\n",
              "      border-top-color: var(--fill-color);\n",
              "    }\n",
              "    30% {\n",
              "      border-color: transparent;\n",
              "      border-left-color: var(--fill-color);\n",
              "      border-top-color: var(--fill-color);\n",
              "      border-right-color: var(--fill-color);\n",
              "    }\n",
              "    40% {\n",
              "      border-color: transparent;\n",
              "      border-right-color: var(--fill-color);\n",
              "      border-top-color: var(--fill-color);\n",
              "    }\n",
              "    60% {\n",
              "      border-color: transparent;\n",
              "      border-right-color: var(--fill-color);\n",
              "    }\n",
              "    80% {\n",
              "      border-color: transparent;\n",
              "      border-right-color: var(--fill-color);\n",
              "      border-bottom-color: var(--fill-color);\n",
              "    }\n",
              "    90% {\n",
              "      border-color: transparent;\n",
              "      border-bottom-color: var(--fill-color);\n",
              "    }\n",
              "  }\n",
              "</style>\n",
              "\n",
              "  <script>\n",
              "    async function quickchart(key) {\n",
              "      const quickchartButtonEl =\n",
              "        document.querySelector('#' + key + ' button');\n",
              "      quickchartButtonEl.disabled = true;  // To prevent multiple clicks.\n",
              "      quickchartButtonEl.classList.add('colab-df-spinner');\n",
              "      try {\n",
              "        const charts = await google.colab.kernel.invokeFunction(\n",
              "            'suggestCharts', [key], {});\n",
              "      } catch (error) {\n",
              "        console.error('Error during call to suggestCharts:', error);\n",
              "      }\n",
              "      quickchartButtonEl.classList.remove('colab-df-spinner');\n",
              "      quickchartButtonEl.classList.add('colab-df-quickchart-complete');\n",
              "    }\n",
              "    (() => {\n",
              "      let quickchartButtonEl =\n",
              "        document.querySelector('#df-939a03e3-3004-49d4-956d-33d52d842781 button');\n",
              "      quickchartButtonEl.style.display =\n",
              "        google.colab.kernel.accessAllowed ? 'block' : 'none';\n",
              "    })();\n",
              "  </script>\n",
              "</div>\n",
              "\n",
              "    </div>\n",
              "  </div>\n"
            ],
            "application/vnd.google.colaboratory.intrinsic+json": {
              "type": "dataframe",
              "summary": "{\n  \"name\": \"df\",\n  \"rows\": 8,\n  \"fields\": [\n    {\n      \"column\": \"Penutupan\",\n      \"properties\": {\n        \"dtype\": \"number\",\n        \"std\": 490.292787893631,\n        \"min\": 0.49022921443086176,\n        \"max\": 1390.0,\n        \"num_unique_values\": 8,\n        \"samples\": [\n          3.7213453237410072,\n          3.8,\n          1390.0\n        ],\n        \"semantic_type\": \"\",\n        \"description\": \"\"\n      }\n    },\n    {\n      \"column\": \"Pembukaan\",\n      \"properties\": {\n        \"dtype\": \"number\",\n        \"std\": 490.2901597887107,\n        \"min\": 0.4883433650046665,\n        \"max\": 1390.0,\n        \"num_unique_values\": 8,\n        \"samples\": [\n          3.7235107913669068,\n          3.8,\n          1390.0\n        ],\n        \"semantic_type\": \"\",\n        \"description\": \"\"\n      }\n    },\n    {\n      \"column\": \"Tertinggi\",\n      \"properties\": {\n        \"dtype\": \"number\",\n        \"std\": 490.278737121338,\n        \"min\": 0.4872006556016458,\n        \"max\": 1390.0,\n        \"num_unique_values\": 8,\n        \"samples\": [\n          3.763661870503597,\n          3.84,\n          1390.0\n        ],\n        \"semantic_type\": \"\",\n        \"description\": \"\"\n      }\n    },\n    {\n      \"column\": \"Terendah\",\n      \"properties\": {\n        \"dtype\": \"number\",\n        \"std\": 490.3095925121922,\n        \"min\": 0.48815330955552516,\n        \"max\": 1390.0,\n        \"num_unique_values\": 8,\n        \"samples\": [\n          3.6802877697841727,\n          3.77,\n          1390.0\n        ],\n        \"semantic_type\": \"\",\n        \"description\": \"\"\n      }\n    }\n  ]\n}"
            }
          },
          "metadata": {},
          "execution_count": 11
        }
      ],
      "source": [
        "df.describe()"
      ]
    },
    {
      "cell_type": "markdown",
      "source": [
        "Tabel di atas menunjukkan statistik deskriptif untuk masing-masing kolom, antara lain: Penutupan, Pembukaan, Tertinggi, Terendah. Untuk kolom Volume dan Perubahan tidak diikut sertakan pada code ini karena dua kolom tersebut masih berupa object dan bukan float."
      ],
      "metadata": {
        "id": "sHY1_xTj8mbV"
      }
    },
    {
      "cell_type": "markdown",
      "metadata": {
        "id": "mW6vG-uhRUZF"
      },
      "source": [
        "### Mengkonversi Tanggal"
      ]
    },
    {
      "cell_type": "code",
      "execution_count": 12,
      "metadata": {
        "id": "3F10z4okGBo9",
        "colab": {
          "base_uri": "https://localhost:8080/",
          "height": 458
        },
        "outputId": "3e5c3c92-5abb-463d-b5d3-2e44df6e3bc7"
      },
      "outputs": [
        {
          "output_type": "execute_result",
          "data": {
            "text/plain": [
              "0      2019-01-02\n",
              "1      2019-01-03\n",
              "2      2019-01-04\n",
              "3      2019-01-07\n",
              "4      2019-01-08\n",
              "          ...    \n",
              "1385   2024-09-18\n",
              "1386   2024-09-19\n",
              "1387   2024-09-20\n",
              "1388   2024-09-23\n",
              "1389   2024-09-24\n",
              "Name: Tanggal, Length: 1390, dtype: datetime64[ns]"
            ],
            "text/html": [
              "<div>\n",
              "<style scoped>\n",
              "    .dataframe tbody tr th:only-of-type {\n",
              "        vertical-align: middle;\n",
              "    }\n",
              "\n",
              "    .dataframe tbody tr th {\n",
              "        vertical-align: top;\n",
              "    }\n",
              "\n",
              "    .dataframe thead th {\n",
              "        text-align: right;\n",
              "    }\n",
              "</style>\n",
              "<table border=\"1\" class=\"dataframe\">\n",
              "  <thead>\n",
              "    <tr style=\"text-align: right;\">\n",
              "      <th></th>\n",
              "      <th>Tanggal</th>\n",
              "    </tr>\n",
              "  </thead>\n",
              "  <tbody>\n",
              "    <tr>\n",
              "      <th>0</th>\n",
              "      <td>2019-01-02</td>\n",
              "    </tr>\n",
              "    <tr>\n",
              "      <th>1</th>\n",
              "      <td>2019-01-03</td>\n",
              "    </tr>\n",
              "    <tr>\n",
              "      <th>2</th>\n",
              "      <td>2019-01-04</td>\n",
              "    </tr>\n",
              "    <tr>\n",
              "      <th>3</th>\n",
              "      <td>2019-01-07</td>\n",
              "    </tr>\n",
              "    <tr>\n",
              "      <th>4</th>\n",
              "      <td>2019-01-08</td>\n",
              "    </tr>\n",
              "    <tr>\n",
              "      <th>...</th>\n",
              "      <td>...</td>\n",
              "    </tr>\n",
              "    <tr>\n",
              "      <th>1385</th>\n",
              "      <td>2024-09-18</td>\n",
              "    </tr>\n",
              "    <tr>\n",
              "      <th>1386</th>\n",
              "      <td>2024-09-19</td>\n",
              "    </tr>\n",
              "    <tr>\n",
              "      <th>1387</th>\n",
              "      <td>2024-09-20</td>\n",
              "    </tr>\n",
              "    <tr>\n",
              "      <th>1388</th>\n",
              "      <td>2024-09-23</td>\n",
              "    </tr>\n",
              "    <tr>\n",
              "      <th>1389</th>\n",
              "      <td>2024-09-24</td>\n",
              "    </tr>\n",
              "  </tbody>\n",
              "</table>\n",
              "<p>1390 rows × 1 columns</p>\n",
              "</div><br><label><b>dtype:</b> datetime64[ns]</label>"
            ]
          },
          "metadata": {},
          "execution_count": 12
        }
      ],
      "source": [
        "df['Tanggal'] = pd.to_datetime(df['Tanggal'], dayfirst=True)\n",
        "\n",
        "df['Tanggal']"
      ]
    },
    {
      "cell_type": "markdown",
      "source": [
        "Dilakukan konversi tanggal untuk mengubah formatnya menjadi 'dd-mm-yyyy' agar memudahkan kita untuk mengambil informasinya."
      ],
      "metadata": {
        "id": "O_Ko7Jyt9RJu"
      }
    },
    {
      "cell_type": "markdown",
      "metadata": {
        "id": "RbLOgMZERYL5"
      },
      "source": [
        "### Mengekstrak Tahun Dari Kolom Tanggal"
      ]
    },
    {
      "cell_type": "code",
      "execution_count": 13,
      "metadata": {
        "colab": {
          "base_uri": "https://localhost:8080/",
          "height": 458
        },
        "id": "iOkDSgADKOpj",
        "outputId": "11ad78ed-6af2-4e3f-cca4-8d6722dff175"
      },
      "outputs": [
        {
          "output_type": "execute_result",
          "data": {
            "text/plain": [
              "0       2019\n",
              "1       2019\n",
              "2       2019\n",
              "3       2019\n",
              "4       2019\n",
              "        ... \n",
              "1385    2024\n",
              "1386    2024\n",
              "1387    2024\n",
              "1388    2024\n",
              "1389    2024\n",
              "Name: Tahun, Length: 1390, dtype: int32"
            ],
            "text/html": [
              "<div>\n",
              "<style scoped>\n",
              "    .dataframe tbody tr th:only-of-type {\n",
              "        vertical-align: middle;\n",
              "    }\n",
              "\n",
              "    .dataframe tbody tr th {\n",
              "        vertical-align: top;\n",
              "    }\n",
              "\n",
              "    .dataframe thead th {\n",
              "        text-align: right;\n",
              "    }\n",
              "</style>\n",
              "<table border=\"1\" class=\"dataframe\">\n",
              "  <thead>\n",
              "    <tr style=\"text-align: right;\">\n",
              "      <th></th>\n",
              "      <th>Tahun</th>\n",
              "    </tr>\n",
              "  </thead>\n",
              "  <tbody>\n",
              "    <tr>\n",
              "      <th>0</th>\n",
              "      <td>2019</td>\n",
              "    </tr>\n",
              "    <tr>\n",
              "      <th>1</th>\n",
              "      <td>2019</td>\n",
              "    </tr>\n",
              "    <tr>\n",
              "      <th>2</th>\n",
              "      <td>2019</td>\n",
              "    </tr>\n",
              "    <tr>\n",
              "      <th>3</th>\n",
              "      <td>2019</td>\n",
              "    </tr>\n",
              "    <tr>\n",
              "      <th>4</th>\n",
              "      <td>2019</td>\n",
              "    </tr>\n",
              "    <tr>\n",
              "      <th>...</th>\n",
              "      <td>...</td>\n",
              "    </tr>\n",
              "    <tr>\n",
              "      <th>1385</th>\n",
              "      <td>2024</td>\n",
              "    </tr>\n",
              "    <tr>\n",
              "      <th>1386</th>\n",
              "      <td>2024</td>\n",
              "    </tr>\n",
              "    <tr>\n",
              "      <th>1387</th>\n",
              "      <td>2024</td>\n",
              "    </tr>\n",
              "    <tr>\n",
              "      <th>1388</th>\n",
              "      <td>2024</td>\n",
              "    </tr>\n",
              "    <tr>\n",
              "      <th>1389</th>\n",
              "      <td>2024</td>\n",
              "    </tr>\n",
              "  </tbody>\n",
              "</table>\n",
              "<p>1390 rows × 1 columns</p>\n",
              "</div><br><label><b>dtype:</b> int32</label>"
            ]
          },
          "metadata": {},
          "execution_count": 13
        }
      ],
      "source": [
        "df['Tahun'] = df['Tanggal'].dt.year\n",
        "\n",
        "df['Tahun']"
      ]
    },
    {
      "cell_type": "markdown",
      "source": [
        "Disini saya ambil data untuk tahun saja, agar nanti dapat kita buat visualisasi persebaran datanya, tahun ini nantinya akan dijadikan salah satu sumbunya."
      ],
      "metadata": {
        "id": "oRcYXZwH9sQr"
      }
    },
    {
      "cell_type": "markdown",
      "metadata": {
        "id": "TVA0zqpSS0cj"
      },
      "source": [
        "### Visualisasi Jumlah Data Berdasarkan Tahun"
      ]
    },
    {
      "cell_type": "code",
      "execution_count": 14,
      "metadata": {
        "colab": {
          "base_uri": "https://localhost:8080/",
          "height": 449
        },
        "id": "np1rdcalKjYV",
        "outputId": "f1b2fa08-0c46-4ee6-dad1-aabc8a2e772d"
      },
      "outputs": [
        {
          "output_type": "display_data",
          "data": {
            "text/plain": [
              "<Figure size 640x480 with 1 Axes>"
            ],
            "image/png": "[encoded data removed]"
          },
          "metadata": {}
        }
      ],
      "source": [
        "df_group_tahun = df.groupby('Tahun').sum(numeric_only=True)\n",
        "df_numerik = df_group_tahun.select_dtypes(include='number')\n",
        "\n",
        "df_numerik.plot()\n",
        "plt.show()"
      ]
    },
    {
      "cell_type": "markdown",
      "source": [
        "Diagram di atas merupakan visualisasi dari banyaknya data berdasarkan tahun yang tersedia, dapat dilihat bahwa jumlah data tiap fiturnya pada awal tahun 2019 menuju tahun 2020 mengalami penurunan yang signifikan, kemudian pada awal tahun 2020 hingga tahun 2022 mengalami kenaikan yang cukup stabil, dan berlanjut pada awal tahun 2023 mengalami penurunan yang cukup drastis."
      ],
      "metadata": {
        "id": "EoNHZahy-Rc8"
      }
    },
    {
      "cell_type": "markdown",
      "metadata": {
        "id": "0n_v8EyeUd1N"
      },
      "source": [
        "### Visualisasi Rata-Rata Data Berdasarkan Tahun"
      ]
    },
    {
      "cell_type": "code",
      "execution_count": 15,
      "metadata": {
        "colab": {
          "base_uri": "https://localhost:8080/",
          "height": 449
        },
        "id": "B2ReJPThToVV",
        "outputId": "eb330661-f669-4e3a-b033-90e7e0bd84c5"
      },
      "outputs": [
        {
          "output_type": "display_data",
          "data": {
            "text/plain": [
              "<Figure size 640x480 with 1 Axes>"
            ],
            "image/png": "[encoded data removed]"
          },
          "metadata": {}
        }
      ],
      "source": [
        "df_group_tahun = df.groupby('Tahun').mean(numeric_only=True)\n",
        "df_numerik = df_group_tahun.select_dtypes(include='number')\n",
        "\n",
        "df_numerik.plot()\n",
        "plt.show()"
      ]
    },
    {
      "cell_type": "markdown",
      "source": [
        "Diagram tersebut memvisualisasikan rata-rata nilai dari fitur-fitur numerik (Penutupan, Pembukaan, Tertinggi, Terendah) pada dataset harga saham PT Telkom Indonesia Tbk (TLKM) untuk setiap tahunnya."
      ],
      "metadata": {
        "id": "2QRJiq46FSiD"
      }
    },
    {
      "cell_type": "markdown",
      "metadata": {
        "id": "Jb-g9pPMUqTf"
      },
      "source": [
        "### Visualisasi Jumlah Volume Untuk Tiap Tahunnya"
      ]
    },
    {
      "cell_type": "markdown",
      "source": [
        "### Proses Konvert Kolom Vol. Menjadi Float\n",
        "\n"
      ],
      "metadata": {
        "id": "MLzllepLb4rv"
      }
    },
    {
      "cell_type": "code",
      "source": [
        "def convert_vol_to_float(vol):\n",
        "  if isinstance(vol, (int, float)):\n",
        "    return vol\n",
        "\n",
        "  vol = vol.replace(',', '.')\n",
        "\n",
        "  if 'M' in vol:\n",
        "    return float(vol.replace('M', '')) * 1_000_000\n",
        "  elif 'K' in vol:\n",
        "    return float(vol.replace('K', '')) * 1_000\n",
        "  elif 'B' in vol:\n",
        "    return float(vol.replace('B', '')) * 1_000_000_000\n",
        "  else:\n",
        "    try:\n",
        "      return float(vol)\n",
        "    except ValueError:\n",
        "      return vol"
      ],
      "metadata": {
        "id": "SbzZgCD2bli6"
      },
      "execution_count": 16,
      "outputs": []
    },
    {
      "cell_type": "code",
      "source": [
        "df['Volume'] = df['Volume'].apply(convert_vol_to_float)"
      ],
      "metadata": {
        "id": "QV4RRcGc7Hg0"
      },
      "execution_count": 17,
      "outputs": []
    },
    {
      "cell_type": "markdown",
      "source": [
        "Tujuan dari kode ini adalah untuk mengubah tipe data kolom 'Vol.' dari object menjadi float. Hal ini perlu dilakukan karena kolom 'Vol.' berisi informasi volume perdagangan saham yang penting untuk analisis dan pemodelan, tetapi masih mengandung karakter non-numerik (seperti \"M\" untuk juta dan \"K\" untuk ribu). Dengan mengubahnya menjadi float, kita dapat melakukan perhitungan matematika dan menggunakannya dalam algoritma machine learning."
      ],
      "metadata": {
        "id": "ExJJaxvDGkEu"
      }
    },
    {
      "cell_type": "code",
      "execution_count": 18,
      "metadata": {
        "colab": {
          "base_uri": "https://localhost:8080/",
          "height": 465
        },
        "id": "baI78nq1Uq1R",
        "outputId": "d4fcb7ef-56ba-4291-b25e-95d17ed65c61"
      },
      "outputs": [
        {
          "output_type": "display_data",
          "data": {
            "text/plain": [
              "<Figure size 640x480 with 1 Axes>"
            ],
            "image/png": "[encoded data removed]"
          },
          "metadata": {}
        }
      ],
      "source": [
        "df_group_tahun = df.groupby('Tahun').sum(numeric_only=True)\n",
        "df_group_tahun['Volume'].plot()\n",
        "\n",
        "plt.show()"
      ]
    },
    {
      "cell_type": "markdown",
      "source": [
        "Visualisasi jumlah volume untuk tiap tahunnya, kolom volumen ini saya bedakan dikarenakan untuk memastikan bahwa setiap kolom diproses dengan benar sesuai dengan tipe data dan karakteristiknya, sehingga perhitungan dapat dilakukan dengan akurat dan menghindari error."
      ],
      "metadata": {
        "id": "gJB397b_GnKH"
      }
    },
    {
      "cell_type": "markdown",
      "metadata": {
        "id": "oDA6E4Rq7lNX"
      },
      "source": [
        "### Korelasi Koefisien\n"
      ]
    },
    {
      "cell_type": "markdown",
      "source": [
        "Korelasi Pearson adalah ukuran statistik yang digunakan untuk menentukan kekuatan dan arah hubungan linier antara dua variabel kontinu. Nilai koefisien korelasi Pearson (dilambangkan sebagai **r**) berkisar antara -1 hingga 1:\n",
        "\n",
        "- **r = 1**: Hubungan linier positif sempurna. Ketika satu variabel meningkat, variabel lainnya meningkat secara proporsional.\n",
        "- **r = -1**: Hubungan linier negatif sempurna. Ketika satu variabel meningkat, variabel lainnya menurun secara proporsional.\n",
        "- **r = 0**: Tidak ada hubungan linier antara dua variabel.\n",
        "\n",
        "Rumus untuk korelasi Pearson adalah:\n",
        "\n",
        "$\n",
        "r = \\frac{\\sum (X_i - \\bar{X})(Y_i - \\bar{Y})}{\\sqrt{\\sum (X_i - \\bar{X})^2 \\sum (Y_i - \\bar{Y})^2}}\n",
        "$\n",
        "\n",
        "Dimana:\n",
        "- (X_i) dan (Y_i) adalah titik data individual dari dua variabel.\n",
        "- $(\\bar{X})$ dan $(\\bar{Y})$ masing-masing adalah rata-rata dari variabel (X) dan (Y)."
      ],
      "metadata": {
        "id": "MVqGdOK6J8Kv"
      }
    },
    {
      "cell_type": "markdown",
      "source": [
        "Sebelum melakukan visualisasi korelasi antar sesama fitur, perlu dilakukan kovert kolom perubahan yang tipe data awalnya adalah string dikarenakan terdapat '%' pada datanya lalu saya ubah menjadi float agar tidak terjadi error nantinya."
      ],
      "metadata": {
        "id": "RVZh7u04InVc"
      }
    },
    {
      "cell_type": "code",
      "source": [
        "df['Perubahan'] = df['Perubahan'].str.replace(',', '.').str.rstrip('%').astype(float) / 100\n",
        "\n",
        "df['Perubahan']"
      ],
      "metadata": {
        "colab": {
          "base_uri": "https://localhost:8080/",
          "height": 458
        },
        "id": "vUt2EeNKIZlr",
        "outputId": "01fd2f68-584e-410e-8021-c2862966848a"
      },
      "execution_count": 19,
      "outputs": [
        {
          "output_type": "execute_result",
          "data": {
            "text/plain": [
              "0      -0.0053\n",
              "1       0.0027\n",
              "2      -0.0080\n",
              "3       0.0162\n",
              "4       0.0080\n",
              "         ...  \n",
              "1385    0.0097\n",
              "1386    0.0064\n",
              "1387    0.0032\n",
              "1388    0.0063\n",
              "1389   -0.0032\n",
              "Name: Perubahan, Length: 1390, dtype: float64"
            ],
            "text/html": [
              "<div>\n",
              "<style scoped>\n",
              "    .dataframe tbody tr th:only-of-type {\n",
              "        vertical-align: middle;\n",
              "    }\n",
              "\n",
              "    .dataframe tbody tr th {\n",
              "        vertical-align: top;\n",
              "    }\n",
              "\n",
              "    .dataframe thead th {\n",
              "        text-align: right;\n",
              "    }\n",
              "</style>\n",
              "<table border=\"1\" class=\"dataframe\">\n",
              "  <thead>\n",
              "    <tr style=\"text-align: right;\">\n",
              "      <th></th>\n",
              "      <th>Perubahan</th>\n",
              "    </tr>\n",
              "  </thead>\n",
              "  <tbody>\n",
              "    <tr>\n",
              "      <th>0</th>\n",
              "      <td>-0.0053</td>\n",
              "    </tr>\n",
              "    <tr>\n",
              "      <th>1</th>\n",
              "      <td>0.0027</td>\n",
              "    </tr>\n",
              "    <tr>\n",
              "      <th>2</th>\n",
              "      <td>-0.0080</td>\n",
              "    </tr>\n",
              "    <tr>\n",
              "      <th>3</th>\n",
              "      <td>0.0162</td>\n",
              "    </tr>\n",
              "    <tr>\n",
              "      <th>4</th>\n",
              "      <td>0.0080</td>\n",
              "    </tr>\n",
              "    <tr>\n",
              "      <th>...</th>\n",
              "      <td>...</td>\n",
              "    </tr>\n",
              "    <tr>\n",
              "      <th>1385</th>\n",
              "      <td>0.0097</td>\n",
              "    </tr>\n",
              "    <tr>\n",
              "      <th>1386</th>\n",
              "      <td>0.0064</td>\n",
              "    </tr>\n",
              "    <tr>\n",
              "      <th>1387</th>\n",
              "      <td>0.0032</td>\n",
              "    </tr>\n",
              "    <tr>\n",
              "      <th>1388</th>\n",
              "      <td>0.0063</td>\n",
              "    </tr>\n",
              "    <tr>\n",
              "      <th>1389</th>\n",
              "      <td>-0.0032</td>\n",
              "    </tr>\n",
              "  </tbody>\n",
              "</table>\n",
              "<p>1390 rows × 1 columns</p>\n",
              "</div><br><label><b>dtype:</b> float64</label>"
            ]
          },
          "metadata": {},
          "execution_count": 19
        }
      ]
    },
    {
      "cell_type": "markdown",
      "source": [
        "Di atas merupakan hasil dari konvert yang telah saya lakukan yaitu dengan menghilangkan symbol '%' namun tidak mengubah inti dari isi datanya."
      ],
      "metadata": {
        "id": "ONKHlJzcJbrJ"
      }
    },
    {
      "cell_type": "code",
      "execution_count": 20,
      "metadata": {
        "colab": {
          "base_uri": "https://localhost:8080/",
          "height": 707
        },
        "id": "MLvQ0Q3Z7zYw",
        "outputId": "33b1df62-bf47-443f-8e77-70307677d403"
      },
      "outputs": [
        {
          "output_type": "display_data",
          "data": {
            "text/plain": [
              "<Figure size 1000x800 with 2 Axes>"
            ],
            "image/png": "[encoded data removed]"
          },
          "metadata": {}
        }
      ],
      "source": [
        "# Menghitung matriks korelasi\n",
        "correlation_matrix = df.corr()\n",
        "\n",
        "# Membuat heatmap\n",
        "plt.figure(figsize=(10, 8))  # Mengatur ukuran gambar\n",
        "sns.heatmap(correlation_matrix, annot=True, cmap='coolwarm', fmt=\".2f\")\n",
        "plt.title('Korelasi Antara Fitur-Fitur')\n",
        "plt.show()"
      ]
    },
    {
      "cell_type": "markdown",
      "source": [
        "Dari hasil visualisasi korelasi fitur-fitur di atas, saya mendapatkan kesimpulan antara lain:\n",
        "\n",
        "1. Korelasi Positif Kuat: Terdapat korelasi positif yang kuat antara fitur-fiturnya, yaitu 'Penutupan', 'Pembukaan', 'Tertinggi', dan 'Terendah'. Hal ini menunjukkan bahwa ketika salah satu fitur harga naik, fitur harga lainnya cenderung naik juga. Korelasi yang kuat ini logis karena fitur-fitur ini saling terkait dalam pergerakan harga saham harian.\n",
        "\n",
        "2. Korelasi Lemah: 'Volume' dan 'Perubahan' memiliki korelasi yang relatif lemah dengan fitur-fitur lainnya. Artinya, perubahan volume perdagangan atau persentase perubahan harga tidak memiliki pengaruh yang signifikan terhadap harga saham secara langsung.\n",
        "\n",
        "3. Korelasi Negatif: 'Tahun' menunjukkan korelasi negatif yang lemah dengan beberapa fitur. Ini bisa menunjukkan adanya tren penurunan harga saham dalam rentang waktu yang diwakili oleh data (2019-2024), meskipun korelasinya tidak terlalu kuat.\n",
        "\n",
        "Secara umum, visualisasi korelasi menunjukkan bahwa fitur-fitur (Penutupan, Pembukaan, Tertinggi, Terendah) memiliki hubungan yang erat, sedangkan Volume dan Perubahan memiliki hubungan yang lebih independen dengan fitur-fitur lainnya. Oleh karena itu, pada proses selanjutnya akan dilakukan penghapusan Kolom Perubahan dan Kolom Volume karena tidak akan terlalu berguna."
      ],
      "metadata": {
        "id": "-draOMnkJ-rZ"
      }
    },
    {
      "cell_type": "markdown",
      "metadata": {
        "id": "t1a5yn0B9Nfd"
      },
      "source": [
        "# Data Preprocessing"
      ]
    },
    {
      "cell_type": "markdown",
      "source": [
        "## Imputasi Missing Value"
      ],
      "metadata": {
        "id": "85v9vefnJniJ"
      }
    },
    {
      "cell_type": "markdown",
      "source": [
        "### Menampilkan baris data yang memiliki missing value"
      ],
      "metadata": {
        "id": "YwzqV9DlLT6k"
      }
    },
    {
      "cell_type": "code",
      "source": [
        "missing_data = df[df.isna().any(axis=1)]\n",
        "\n",
        "missing_data"
      ],
      "metadata": {
        "colab": {
          "base_uri": "https://localhost:8080/",
          "height": 206
        },
        "id": "vF-9yZJBJrQM",
        "outputId": "a6396364-f307-4aac-a976-ded4babb6f63"
      },
      "execution_count": 22,
      "outputs": [
        {
          "output_type": "execute_result",
          "data": {
            "text/plain": [
              "        Tanggal  Penutupan  Pembukaan  Tertinggi  Terendah  Volume  Perubahan  \\\n",
              "1384 2024-09-17       3.09       3.12       3.13      3.08     NaN    -0.0064   \n",
              "1385 2024-09-18       3.12       3.12       3.13      3.10     NaN     0.0097   \n",
              "1386 2024-09-19       3.14       3.14       3.15      3.12     NaN     0.0064   \n",
              "1387 2024-09-20       3.15       3.15       3.17      3.12     NaN     0.0032   \n",
              "1388 2024-09-23       3.17       3.15       3.18      3.13     NaN     0.0063   \n",
              "\n",
              "      Tahun  \n",
              "1384   2024  \n",
              "1385   2024  \n",
              "1386   2024  \n",
              "1387   2024  \n",
              "1388   2024  "
            ],
            "text/html": [
              "\n",
              "  <div id=\"df-85ab5d06-cc13-4635-a9e9-400982c52058\" class=\"colab-df-container\">\n",
              "    <div>\n",
              "<style scoped>\n",
              "    .dataframe tbody tr th:only-of-type {\n",
              "        vertical-align: middle;\n",
              "    }\n",
              "\n",
              "    .dataframe tbody tr th {\n",
              "        vertical-align: top;\n",
              "    }\n",
              "\n",
              "    .dataframe thead th {\n",
              "        text-align: right;\n",
              "    }\n",
              "</style>\n",
              "<table border=\"1\" class=\"dataframe\">\n",
              "  <thead>\n",
              "    <tr style=\"text-align: right;\">\n",
              "      <th></th>\n",
              "      <th>Tanggal</th>\n",
              "      <th>Penutupan</th>\n",
              "      <th>Pembukaan</th>\n",
              "      <th>Tertinggi</th>\n",
              "      <th>Terendah</th>\n",
              "      <th>Volume</th>\n",
              "      <th>Perubahan</th>\n",
              "      <th>Tahun</th>\n",
              "    </tr>\n",
              "  </thead>\n",
              "  <tbody>\n",
              "    <tr>\n",
              "      <th>1384</th>\n",
              "      <td>2024-09-17</td>\n",
              "      <td>3.09</td>\n",
              "      <td>3.12</td>\n",
              "      <td>3.13</td>\n",
              "      <td>3.08</td>\n",
              "      <td>NaN</td>\n",
              "      <td>-0.0064</td>\n",
              "      <td>2024</td>\n",
              "    </tr>\n",
              "    <tr>\n",
              "      <th>1385</th>\n",
              "      <td>2024-09-18</td>\n",
              "      <td>3.12</td>\n",
              "      <td>3.12</td>\n",
              "      <td>3.13</td>\n",
              "      <td>3.10</td>\n",
              "      <td>NaN</td>\n",
              "      <td>0.0097</td>\n",
              "      <td>2024</td>\n",
              "    </tr>\n",
              "    <tr>\n",
              "      <th>1386</th>\n",
              "      <td>2024-09-19</td>\n",
              "      <td>3.14</td>\n",
              "      <td>3.14</td>\n",
              "      <td>3.15</td>\n",
              "      <td>3.12</td>\n",
              "      <td>NaN</td>\n",
              "      <td>0.0064</td>\n",
              "      <td>2024</td>\n",
              "    </tr>\n",
              "    <tr>\n",
              "      <th>1387</th>\n",
              "      <td>2024-09-20</td>\n",
              "      <td>3.15</td>\n",
              "      <td>3.15</td>\n",
              "      <td>3.17</td>\n",
              "      <td>3.12</td>\n",
              "      <td>NaN</td>\n",
              "      <td>0.0032</td>\n",
              "      <td>2024</td>\n",
              "    </tr>\n",
              "    <tr>\n",
              "      <th>1388</th>\n",
              "      <td>2024-09-23</td>\n",
              "      <td>3.17</td>\n",
              "      <td>3.15</td>\n",
              "      <td>3.18</td>\n",
              "      <td>3.13</td>\n",
              "      <td>NaN</td>\n",
              "      <td>0.0063</td>\n",
              "      <td>2024</td>\n",
              "    </tr>\n",
              "  </tbody>\n",
              "</table>\n",
              "</div>\n",
              "    <div class=\"colab-df-buttons\">\n",
              "\n",
              "  <div class=\"colab-df-container\">\n",
              "    <button class=\"colab-df-convert\" onclick=\"convertToInteractive('df-85ab5d06-cc13-4635-a9e9-400982c52058')\"\n",
              "            title=\"Convert this dataframe to an interactive table.\"\n",
              "            style=\"display:none;\">\n",
              "\n",
              "  <svg xmlns=\"http://www.w3.org/2000/svg\" height=\"24px\" viewBox=\"0 -960 960 960\">\n",
              "    <path d=\"M120-120v-720h720v720H120Zm60-500h600v-160H180v160Zm220 220h160v-160H400v160Zm0 220h160v-160H400v160ZM180-400h160v-160H180v160Zm440 0h160v-160H620v160ZM180-180h160v-160H180v160Zm440 0h160v-160H620v160Z\"/>\n",
              "  </svg>\n",
              "    </button>\n",
              "\n",
              "  <style>\n",
              "    .colab-df-container {\n",
              "      display:flex;\n",
              "      gap: 12px;\n",
              "    }\n",
              "\n",
              "    .colab-df-convert {\n",
              "      background-color: #E8F0FE;\n",
              "      border: none;\n",
              "      border-radius: 50%;\n",
              "      cursor: pointer;\n",
              "      display: none;\n",
              "      fill: #1967D2;\n",
              "      height: 32px;\n",
              "      padding: 0 0 0 0;\n",
              "      width: 32px;\n",
              "    }\n",
              "\n",
              "    .colab-df-convert:hover {\n",
              "      background-color: #E2EBFA;\n",
              "      box-shadow: 0px 1px 2px rgba(60, 64, 67, 0.3), 0px 1px 3px 1px rgba(60, 64, 67, 0.15);\n",
              "      fill: #174EA6;\n",
              "    }\n",
              "\n",
              "    .colab-df-buttons div {\n",
              "      margin-bottom: 4px;\n",
              "    }\n",
              "\n",
              "    [theme=dark] .colab-df-convert {\n",
              "      background-color: #3B4455;\n",
              "      fill: #D2E3FC;\n",
              "    }\n",
              "\n",
              "    [theme=dark] .colab-df-convert:hover {\n",
              "      background-color: #434B5C;\n",
              "      box-shadow: 0px 1px 3px 1px rgba(0, 0, 0, 0.15);\n",
              "      filter: drop-shadow(0px 1px 2px rgba(0, 0, 0, 0.3));\n",
              "      fill: #FFFFFF;\n",
              "    }\n",
              "  </style>\n",
              "\n",
              "    <script>\n",
              "      const buttonEl =\n",
              "        document.querySelector('#df-85ab5d06-cc13-4635-a9e9-400982c52058 button.colab-df-convert');\n",
              "      buttonEl.style.display =\n",
              "        google.colab.kernel.accessAllowed ? 'block' : 'none';\n",
              "\n",
              "      async function convertToInteractive(key) {\n",
              "        const element = document.querySelector('#df-85ab5d06-cc13-4635-a9e9-400982c52058');\n",
              "        const dataTable =\n",
              "          await google.colab.kernel.invokeFunction('convertToInteractive',\n",
              "                                                    [key], {});\n",
              "        if (!dataTable) return;\n",
              "\n",
              "        const docLinkHtml = 'Like what you see? Visit the ' +\n",
              "          '<a target=\"_blank\" href=https://colab.research.google.com/notebooks/data_table.ipynb>data table notebook</a>'\n",
              "          + ' to learn more about interactive tables.';\n",
              "        element.innerHTML = '';\n",
              "        dataTable['output_type'] = 'display_data';\n",
              "        await google.colab.output.renderOutput(dataTable, element);\n",
              "        const docLink = document.createElement('div');\n",
              "        docLink.innerHTML = docLinkHtml;\n",
              "        element.appendChild(docLink);\n",
              "      }\n",
              "    </script>\n",
              "  </div>\n",
              "\n",
              "\n",
              "<div id=\"df-6e89dc99-b6ff-4bb3-afd9-50e1232bebd5\">\n",
              "  <button class=\"colab-df-quickchart\" onclick=\"quickchart('df-6e89dc99-b6ff-4bb3-afd9-50e1232bebd5')\"\n",
              "            title=\"Suggest charts\"\n",
              "            style=\"display:none;\">\n",
              "\n",
              "<svg xmlns=\"http://www.w3.org/2000/svg\" height=\"24px\"viewBox=\"0 0 24 24\"\n",
              "     width=\"24px\">\n",
              "    <g>\n",
              "        <path d=\"M19 3H5c-1.1 0-2 .9-2 2v14c0 1.1.9 2 2 2h14c1.1 0 2-.9 2-2V5c0-1.1-.9-2-2-2zM9 17H7v-7h2v7zm4 0h-2V7h2v10zm4 0h-2v-4h2v4z\"/>\n",
              "    </g>\n",
              "</svg>\n",
              "  </button>\n",
              "\n",
              "<style>\n",
              "  .colab-df-quickchart {\n",
              "      --bg-color: #E8F0FE;\n",
              "      --fill-color: #1967D2;\n",
              "      --hover-bg-color: #E2EBFA;\n",
              "      --hover-fill-color: #174EA6;\n",
              "      --disabled-fill-color: #AAA;\n",
              "      --disabled-bg-color: #DDD;\n",
              "  }\n",
              "\n",
              "  [theme=dark] .colab-df-quickchart {\n",
              "      --bg-color: #3B4455;\n",
              "      --fill-color: #D2E3FC;\n",
              "      --hover-bg-color: #434B5C;\n",
              "      --hover-fill-color: #FFFFFF;\n",
              "      --disabled-bg-color: #3B4455;\n",
              "      --disabled-fill-color: #666;\n",
              "  }\n",
              "\n",
              "  .colab-df-quickchart {\n",
              "    background-color: var(--bg-color);\n",
              "    border: none;\n",
              "    border-radius: 50%;\n",
              "    cursor: pointer;\n",
              "    display: none;\n",
              "    fill: var(--fill-color);\n",
              "    height: 32px;\n",
              "    padding: 0;\n",
              "    width: 32px;\n",
              "  }\n",
              "\n",
              "  .colab-df-quickchart:hover {\n",
              "    background-color: var(--hover-bg-color);\n",
              "    box-shadow: 0 1px 2px rgba(60, 64, 67, 0.3), 0 1px 3px 1px rgba(60, 64, 67, 0.15);\n",
              "    fill: var(--button-hover-fill-color);\n",
              "  }\n",
              "\n",
              "  .colab-df-quickchart-complete:disabled,\n",
              "  .colab-df-quickchart-complete:disabled:hover {\n",
              "    background-color: var(--disabled-bg-color);\n",
              "    fill: var(--disabled-fill-color);\n",
              "    box-shadow: none;\n",
              "  }\n",
              "\n",
              "  .colab-df-spinner {\n",
              "    border: 2px solid var(--fill-color);\n",
              "    border-color: transparent;\n",
              "    border-bottom-color: var(--fill-color);\n",
              "    animation:\n",
              "      spin 1s steps(1) infinite;\n",
              "  }\n",
              "\n",
              "  @keyframes spin {\n",
              "    0% {\n",
              "      border-color: transparent;\n",
              "      border-bottom-color: var(--fill-color);\n",
              "      border-left-color: var(--fill-color);\n",
              "    }\n",
              "    20% {\n",
              "      border-color: transparent;\n",
              "      border-left-color: var(--fill-color);\n",
              "      border-top-color: var(--fill-color);\n",
              "    }\n",
              "    30% {\n",
              "      border-color: transparent;\n",
              "      border-left-color: var(--fill-color);\n",
              "      border-top-color: var(--fill-color);\n",
              "      border-right-color: var(--fill-color);\n",
              "    }\n",
              "    40% {\n",
              "      border-color: transparent;\n",
              "      border-right-color: var(--fill-color);\n",
              "      border-top-color: var(--fill-color);\n",
              "    }\n",
              "    60% {\n",
              "      border-color: transparent;\n",
              "      border-right-color: var(--fill-color);\n",
              "    }\n",
              "    80% {\n",
              "      border-color: transparent;\n",
              "      border-right-color: var(--fill-color);\n",
              "      border-bottom-color: var(--fill-color);\n",
              "    }\n",
              "    90% {\n",
              "      border-color: transparent;\n",
              "      border-bottom-color: var(--fill-color);\n",
              "    }\n",
              "  }\n",
              "</style>\n",
              "\n",
              "  <script>\n",
              "    async function quickchart(key) {\n",
              "      const quickchartButtonEl =\n",
              "        document.querySelector('#' + key + ' button');\n",
              "      quickchartButtonEl.disabled = true;  // To prevent multiple clicks.\n",
              "      quickchartButtonEl.classList.add('colab-df-spinner');\n",
              "      try {\n",
              "        const charts = await google.colab.kernel.invokeFunction(\n",
              "            'suggestCharts', [key], {});\n",
              "      } catch (error) {\n",
              "        console.error('Error during call to suggestCharts:', error);\n",
              "      }\n",
              "      quickchartButtonEl.classList.remove('colab-df-spinner');\n",
              "      quickchartButtonEl.classList.add('colab-df-quickchart-complete');\n",
              "    }\n",
              "    (() => {\n",
              "      let quickchartButtonEl =\n",
              "        document.querySelector('#df-6e89dc99-b6ff-4bb3-afd9-50e1232bebd5 button');\n",
              "      quickchartButtonEl.style.display =\n",
              "        google.colab.kernel.accessAllowed ? 'block' : 'none';\n",
              "    })();\n",
              "  </script>\n",
              "</div>\n",
              "\n",
              "  <div id=\"id_e1e0807b-4c08-4579-87f3-008f94624c98\">\n",
              "    <style>\n",
              "      .colab-df-generate {\n",
              "        background-color: #E8F0FE;\n",
              "        border: none;\n",
              "        border-radius: 50%;\n",
              "        cursor: pointer;\n",
              "        display: none;\n",
              "        fill: #1967D2;\n",
              "        height: 32px;\n",
              "        padding: 0 0 0 0;\n",
              "        width: 32px;\n",
              "      }\n",
              "\n",
              "      .colab-df-generate:hover {\n",
              "        background-color: #E2EBFA;\n",
              "        box-shadow: 0px 1px 2px rgba(60, 64, 67, 0.3), 0px 1px 3px 1px rgba(60, 64, 67, 0.15);\n",
              "        fill: #174EA6;\n",
              "      }\n",
              "\n",
              "      [theme=dark] .colab-df-generate {\n",
              "        background-color: #3B4455;\n",
              "        fill: #D2E3FC;\n",
              "      }\n",
              "\n",
              "      [theme=dark] .colab-df-generate:hover {\n",
              "        background-color: #434B5C;\n",
              "        box-shadow: 0px 1px 3px 1px rgba(0, 0, 0, 0.15);\n",
              "        filter: drop-shadow(0px 1px 2px rgba(0, 0, 0, 0.3));\n",
              "        fill: #FFFFFF;\n",
              "      }\n",
              "    </style>\n",
              "    <button class=\"colab-df-generate\" onclick=\"generateWithVariable('missing_data')\"\n",
              "            title=\"Generate code using this dataframe.\"\n",
              "            style=\"display:none;\">\n",
              "\n",
              "  <svg xmlns=\"http://www.w3.org/2000/svg\" height=\"24px\"viewBox=\"0 0 24 24\"\n",
              "       width=\"24px\">\n",
              "    <path d=\"M7,19H8.4L18.45,9,17,7.55,7,17.6ZM5,21V16.75L18.45,3.32a2,2,0,0,1,2.83,0l1.4,1.43a1.91,1.91,0,0,1,.58,1.4,1.91,1.91,0,0,1-.58,1.4L9.25,21ZM18.45,9,17,7.55Zm-12,3A5.31,5.31,0,0,0,4.9,8.1,5.31,5.31,0,0,0,1,6.5,5.31,5.31,0,0,0,4.9,4.9,5.31,5.31,0,0,0,6.5,1,5.31,5.31,0,0,0,8.1,4.9,5.31,5.31,0,0,0,12,6.5,5.46,5.46,0,0,0,6.5,12Z\"/>\n",
              "  </svg>\n",
              "    </button>\n",
              "    <script>\n",
              "      (() => {\n",
              "      const buttonEl =\n",
              "        document.querySelector('#id_e1e0807b-4c08-4579-87f3-008f94624c98 button.colab-df-generate');\n",
              "      buttonEl.style.display =\n",
              "        google.colab.kernel.accessAllowed ? 'block' : 'none';\n",
              "\n",
              "      buttonEl.onclick = () => {\n",
              "        google.colab.notebook.generateWithVariable('missing_data');\n",
              "      }\n",
              "      })();\n",
              "    </script>\n",
              "  </div>\n",
              "\n",
              "    </div>\n",
              "  </div>\n"
            ],
            "application/vnd.google.colaboratory.intrinsic+json": {
              "type": "dataframe",
              "variable_name": "missing_data",
              "summary": "{\n  \"name\": \"missing_data\",\n  \"rows\": 5,\n  \"fields\": [\n    {\n      \"column\": \"Tanggal\",\n      \"properties\": {\n        \"dtype\": \"date\",\n        \"min\": \"2024-09-17 00:00:00\",\n        \"max\": \"2024-09-23 00:00:00\",\n        \"num_unique_values\": 5,\n        \"samples\": [\n          \"2024-09-18 00:00:00\",\n          \"2024-09-23 00:00:00\",\n          \"2024-09-19 00:00:00\"\n        ],\n        \"semantic_type\": \"\",\n        \"description\": \"\"\n      }\n    },\n    {\n      \"column\": \"Penutupan\",\n      \"properties\": {\n        \"dtype\": \"number\",\n        \"std\": 0.030495901363953824,\n        \"min\": 3.09,\n        \"max\": 3.17,\n        \"num_unique_values\": 5,\n        \"samples\": [\n          3.12,\n          3.17,\n          3.14\n        ],\n        \"semantic_type\": \"\",\n        \"description\": \"\"\n      }\n    },\n    {\n      \"column\": \"Pembukaan\",\n      \"properties\": {\n        \"dtype\": \"number\",\n        \"std\": 0.015165750888103013,\n        \"min\": 3.12,\n        \"max\": 3.15,\n        \"num_unique_values\": 3,\n        \"samples\": [\n          3.12,\n          3.14,\n          3.15\n        ],\n        \"semantic_type\": \"\",\n        \"description\": \"\"\n      }\n    },\n    {\n      \"column\": \"Tertinggi\",\n      \"properties\": {\n        \"dtype\": \"number\",\n        \"std\": 0.022803508501982848,\n        \"min\": 3.13,\n        \"max\": 3.18,\n        \"num_unique_values\": 4,\n        \"samples\": [\n          3.15,\n          3.18,\n          3.13\n        ],\n        \"semantic_type\": \"\",\n        \"description\": \"\"\n      }\n    },\n    {\n      \"column\": \"Terendah\",\n      \"properties\": {\n        \"dtype\": \"number\",\n        \"std\": 0.019999999999999962,\n        \"min\": 3.08,\n        \"max\": 3.13,\n        \"num_unique_values\": 4,\n        \"samples\": [\n          3.1,\n          3.13,\n          3.08\n        ],\n        \"semantic_type\": \"\",\n        \"description\": \"\"\n      }\n    },\n    {\n      \"column\": \"Volume\",\n      \"properties\": {\n        \"dtype\": \"number\",\n        \"std\": null,\n        \"min\": null,\n        \"max\": null,\n        \"num_unique_values\": 0,\n        \"samples\": [],\n        \"semantic_type\": \"\",\n        \"description\": \"\"\n      }\n    },\n    {\n      \"column\": \"Perubahan\",\n      \"properties\": {\n        \"dtype\": \"number\",\n        \"std\": 0.006168711372726074,\n        \"min\": -0.0064,\n        \"max\": 0.0097,\n        \"num_unique_values\": 5,\n        \"samples\": [],\n        \"semantic_type\": \"\",\n        \"description\": \"\"\n      }\n    },\n    {\n      \"column\": \"Tahun\",\n      \"properties\": {\n        \"dtype\": \"int32\",\n        \"num_unique_values\": 1,\n        \"samples\": [],\n        \"semantic_type\": \"\",\n        \"description\": \"\"\n      }\n    }\n  ]\n}"
            }
          },
          "metadata": {},
          "execution_count": 22
        }
      ]
    },
    {
      "cell_type": "markdown",
      "source": [
        "Dapat dilihat bahwa pada index 1384-1388 pada kolom Vol. terdapat 5 data yang berstatus 'NaN'."
      ],
      "metadata": {
        "id": "HTSqsQJ8Nt0v"
      }
    },
    {
      "cell_type": "markdown",
      "source": [
        "### Menampilkan kolom yang memiliki missing value"
      ],
      "metadata": {
        "id": "QepLYwmGMPlp"
      }
    },
    {
      "cell_type": "code",
      "source": [
        "missing_columns = df.columns[df.isna().any()].tolist()\n",
        "\n",
        "missing_columns"
      ],
      "metadata": {
        "colab": {
          "base_uri": "https://localhost:8080/"
        },
        "id": "fHFF5ASqMbLp",
        "outputId": "060319d8-38d6-465d-d228-bbdacb23f42f"
      },
      "execution_count": 23,
      "outputs": [
        {
          "output_type": "execute_result",
          "data": {
            "text/plain": [
              "['Volume']"
            ]
          },
          "metadata": {},
          "execution_count": 23
        }
      ]
    },
    {
      "cell_type": "markdown",
      "source": [
        "Kita pastikan kolom mana yang memeiliki missing values, dan hasilnya adalah Kolom Vol. saja yang terdapat missing value."
      ],
      "metadata": {
        "id": "kpbgdFo5OBQn"
      }
    },
    {
      "cell_type": "markdown",
      "source": [
        "###  Menampilkan total missing value per kolom"
      ],
      "metadata": {
        "id": "DiLOjBcwMpmQ"
      }
    },
    {
      "cell_type": "code",
      "source": [
        "missing_count = df.isna().sum()\n",
        "\n",
        "missing_count"
      ],
      "metadata": {
        "colab": {
          "base_uri": "https://localhost:8080/",
          "height": 335
        },
        "id": "bniQAX1rMbGC",
        "outputId": "d409db66-8701-427a-ae01-3eb847eb834e"
      },
      "execution_count": 24,
      "outputs": [
        {
          "output_type": "execute_result",
          "data": {
            "text/plain": [
              "Tanggal      0\n",
              "Penutupan    0\n",
              "Pembukaan    0\n",
              "Tertinggi    0\n",
              "Terendah     0\n",
              "Volume       5\n",
              "Perubahan    0\n",
              "Tahun        0\n",
              "dtype: int64"
            ],
            "text/html": [
              "<div>\n",
              "<style scoped>\n",
              "    .dataframe tbody tr th:only-of-type {\n",
              "        vertical-align: middle;\n",
              "    }\n",
              "\n",
              "    .dataframe tbody tr th {\n",
              "        vertical-align: top;\n",
              "    }\n",
              "\n",
              "    .dataframe thead th {\n",
              "        text-align: right;\n",
              "    }\n",
              "</style>\n",
              "<table border=\"1\" class=\"dataframe\">\n",
              "  <thead>\n",
              "    <tr style=\"text-align: right;\">\n",
              "      <th></th>\n",
              "      <th>0</th>\n",
              "    </tr>\n",
              "  </thead>\n",
              "  <tbody>\n",
              "    <tr>\n",
              "      <th>Tanggal</th>\n",
              "      <td>0</td>\n",
              "    </tr>\n",
              "    <tr>\n",
              "      <th>Penutupan</th>\n",
              "      <td>0</td>\n",
              "    </tr>\n",
              "    <tr>\n",
              "      <th>Pembukaan</th>\n",
              "      <td>0</td>\n",
              "    </tr>\n",
              "    <tr>\n",
              "      <th>Tertinggi</th>\n",
              "      <td>0</td>\n",
              "    </tr>\n",
              "    <tr>\n",
              "      <th>Terendah</th>\n",
              "      <td>0</td>\n",
              "    </tr>\n",
              "    <tr>\n",
              "      <th>Volume</th>\n",
              "      <td>5</td>\n",
              "    </tr>\n",
              "    <tr>\n",
              "      <th>Perubahan</th>\n",
              "      <td>0</td>\n",
              "    </tr>\n",
              "    <tr>\n",
              "      <th>Tahun</th>\n",
              "      <td>0</td>\n",
              "    </tr>\n",
              "  </tbody>\n",
              "</table>\n",
              "</div><br><label><b>dtype:</b> int64</label>"
            ]
          },
          "metadata": {},
          "execution_count": 24
        }
      ]
    },
    {
      "cell_type": "markdown",
      "source": [
        "Total missing values pada Kolom Vol. berjumlah 5 data."
      ],
      "metadata": {
        "id": "jwQG6gVRONar"
      }
    },
    {
      "cell_type": "markdown",
      "source": [
        "### Menampilkan persentase missing value per kolom"
      ],
      "metadata": {
        "id": "bEipHVBxMvjk"
      }
    },
    {
      "cell_type": "code",
      "source": [
        "missing_percentage = df.isna().mean() * 100\n",
        "\n",
        "missing_percentage"
      ],
      "metadata": {
        "colab": {
          "base_uri": "https://localhost:8080/",
          "height": 335
        },
        "id": "KbvirFXnM13H",
        "outputId": "f2e3e5bd-ac06-40e0-939b-a214e0a8febb"
      },
      "execution_count": 25,
      "outputs": [
        {
          "output_type": "execute_result",
          "data": {
            "text/plain": [
              "Tanggal      0.000000\n",
              "Penutupan    0.000000\n",
              "Pembukaan    0.000000\n",
              "Tertinggi    0.000000\n",
              "Terendah     0.000000\n",
              "Volume       0.359712\n",
              "Perubahan    0.000000\n",
              "Tahun        0.000000\n",
              "dtype: float64"
            ],
            "text/html": [
              "<div>\n",
              "<style scoped>\n",
              "    .dataframe tbody tr th:only-of-type {\n",
              "        vertical-align: middle;\n",
              "    }\n",
              "\n",
              "    .dataframe tbody tr th {\n",
              "        vertical-align: top;\n",
              "    }\n",
              "\n",
              "    .dataframe thead th {\n",
              "        text-align: right;\n",
              "    }\n",
              "</style>\n",
              "<table border=\"1\" class=\"dataframe\">\n",
              "  <thead>\n",
              "    <tr style=\"text-align: right;\">\n",
              "      <th></th>\n",
              "      <th>0</th>\n",
              "    </tr>\n",
              "  </thead>\n",
              "  <tbody>\n",
              "    <tr>\n",
              "      <th>Tanggal</th>\n",
              "      <td>0.000000</td>\n",
              "    </tr>\n",
              "    <tr>\n",
              "      <th>Penutupan</th>\n",
              "      <td>0.000000</td>\n",
              "    </tr>\n",
              "    <tr>\n",
              "      <th>Pembukaan</th>\n",
              "      <td>0.000000</td>\n",
              "    </tr>\n",
              "    <tr>\n",
              "      <th>Tertinggi</th>\n",
              "      <td>0.000000</td>\n",
              "    </tr>\n",
              "    <tr>\n",
              "      <th>Terendah</th>\n",
              "      <td>0.000000</td>\n",
              "    </tr>\n",
              "    <tr>\n",
              "      <th>Volume</th>\n",
              "      <td>0.359712</td>\n",
              "    </tr>\n",
              "    <tr>\n",
              "      <th>Perubahan</th>\n",
              "      <td>0.000000</td>\n",
              "    </tr>\n",
              "    <tr>\n",
              "      <th>Tahun</th>\n",
              "      <td>0.000000</td>\n",
              "    </tr>\n",
              "  </tbody>\n",
              "</table>\n",
              "</div><br><label><b>dtype:</b> float64</label>"
            ]
          },
          "metadata": {},
          "execution_count": 25
        }
      ]
    },
    {
      "cell_type": "markdown",
      "source": [
        "Presentasi missing values pada Kolom Vol. hanya sebesar **0.359712**, sehingga saya memutuskan untuk menangani missing values dengan menggunakan *Litwise Deletion* yaitu metode dalam statistik untuk menangani data yang hilang dengan cara menghapus seluruh catatan yang mengandung nilai yang hilang. Sehingga saya akan **menghapus data pada index 1384-1388**."
      ],
      "metadata": {
        "id": "qgKFpG5xOUBM"
      }
    },
    {
      "cell_type": "markdown",
      "source": [
        "### Litwise Deletion\n",
        "\n",
        "**Listwise Deletion** (atau *complete-case analysis*) adalah metode menangani data yang hilang (*missing data*) dengan cara menghapus seluruh baris yang memiliki setidaknya satu nilai hilang.\n",
        "\n",
        "### Rumus Dasar:\n",
        "Misalkan:\n",
        "- Dataset awal memiliki (n) observasi ((n) baris) dan (p) fitur ((p) kolom).\n",
        "- Dataset dilambangkan dengan matriks $( X \\in \\mathbb{R}^{n \\times p} )$.\n",
        "- $( X_{i,j} )$ merepresentasikan elemen pada baris ke-(i) dan kolom ke-(j).\n",
        "\n",
        "**Definisi**:\n",
        "- $( M_i = \\{j \\,|\\, X_{i,j} \\text{ kosong (missing)}\\} )$ adalah himpunan indeks fitur dengan nilai hilang pada baris ke-(i).\n",
        "- Baris (i) akan dihapus jika $( |M_i| > 0 )$ (ada elemen hilang).\n",
        "\n",
        "**Operasi Listwise Deletion**:\n",
        "\n",
        "Dataset hasil ( X' ) didefinisikan sebagai:\n",
        "\n",
        "\n",
        "$[\n",
        "X' = \\{X_i \\,|\\, M_i = \\emptyset\\}, \\quad X' \\in \\mathbb{R}^{m \\times p}\n",
        "$]\n",
        "\n",
        "\n",
        "- ( m ): Jumlah baris setelah penghapusan, $( m \\leq n )$.\n",
        "- $( M_i = \\emptyset )$: Tidak ada elemen hilang di baris ke-(i).\n",
        "\n",
        "### Intuisi:\n",
        "1. **Sebelum Listwise Deletion**:\n",
        "   Dataset lengkap memiliki ( n ) baris, tetapi beberapa baris memiliki nilai hilang.\n",
        "\n",
        "2. **Setelah Listwise Deletion**:\n",
        "   Hanya baris yang memiliki data lengkap (tidak ada nilai hilang) yang dipertahankan.\n",
        "\n",
        "Listwise Deletion cocok untuk dataset dengan sedikit nilai hilang, tetapi kurang ideal jika persentase data yang hilang tinggi."
      ],
      "metadata": {
        "id": "O8JJ2blpUlQ2"
      }
    },
    {
      "cell_type": "markdown",
      "source": [
        "### Menghapus baris yang memiliki missing value"
      ],
      "metadata": {
        "id": "uWfDtNyEPzRc"
      }
    },
    {
      "cell_type": "code",
      "source": [
        "df.dropna(subset=['Volume'],how='any',inplace=True)\n",
        "df['Volume'].isnull().sum()\n",
        "\n",
        "df['Volume']"
      ],
      "metadata": {
        "colab": {
          "base_uri": "https://localhost:8080/",
          "height": 458
        },
        "id": "YyMM5NZDNm1W",
        "outputId": "d739e504-4b8e-4f76-b4f8-13e5afb4e175"
      },
      "execution_count": 26,
      "outputs": [
        {
          "output_type": "execute_result",
          "data": {
            "text/plain": [
              "0        31360000.0\n",
              "1        83840000.0\n",
              "2        73940000.0\n",
              "3        83680000.0\n",
              "4        67960000.0\n",
              "           ...     \n",
              "1380     46440000.0\n",
              "1381     62900000.0\n",
              "1382     85790000.0\n",
              "1383    125030000.0\n",
              "1389     92260000.0\n",
              "Name: Volume, Length: 1385, dtype: float64"
            ],
            "text/html": [
              "<div>\n",
              "<style scoped>\n",
              "    .dataframe tbody tr th:only-of-type {\n",
              "        vertical-align: middle;\n",
              "    }\n",
              "\n",
              "    .dataframe tbody tr th {\n",
              "        vertical-align: top;\n",
              "    }\n",
              "\n",
              "    .dataframe thead th {\n",
              "        text-align: right;\n",
              "    }\n",
              "</style>\n",
              "<table border=\"1\" class=\"dataframe\">\n",
              "  <thead>\n",
              "    <tr style=\"text-align: right;\">\n",
              "      <th></th>\n",
              "      <th>Volume</th>\n",
              "    </tr>\n",
              "  </thead>\n",
              "  <tbody>\n",
              "    <tr>\n",
              "      <th>0</th>\n",
              "      <td>31360000.0</td>\n",
              "    </tr>\n",
              "    <tr>\n",
              "      <th>1</th>\n",
              "      <td>83840000.0</td>\n",
              "    </tr>\n",
              "    <tr>\n",
              "      <th>2</th>\n",
              "      <td>73940000.0</td>\n",
              "    </tr>\n",
              "    <tr>\n",
              "      <th>3</th>\n",
              "      <td>83680000.0</td>\n",
              "    </tr>\n",
              "    <tr>\n",
              "      <th>4</th>\n",
              "      <td>67960000.0</td>\n",
              "    </tr>\n",
              "    <tr>\n",
              "      <th>...</th>\n",
              "      <td>...</td>\n",
              "    </tr>\n",
              "    <tr>\n",
              "      <th>1380</th>\n",
              "      <td>46440000.0</td>\n",
              "    </tr>\n",
              "    <tr>\n",
              "      <th>1381</th>\n",
              "      <td>62900000.0</td>\n",
              "    </tr>\n",
              "    <tr>\n",
              "      <th>1382</th>\n",
              "      <td>85790000.0</td>\n",
              "    </tr>\n",
              "    <tr>\n",
              "      <th>1383</th>\n",
              "      <td>125030000.0</td>\n",
              "    </tr>\n",
              "    <tr>\n",
              "      <th>1389</th>\n",
              "      <td>92260000.0</td>\n",
              "    </tr>\n",
              "  </tbody>\n",
              "</table>\n",
              "<p>1385 rows × 1 columns</p>\n",
              "</div><br><label><b>dtype:</b> float64</label>"
            ]
          },
          "metadata": {},
          "execution_count": 26
        }
      ]
    },
    {
      "cell_type": "code",
      "source": [
        "missing_count = df.isna().sum()\n",
        "\n",
        "missing_count"
      ],
      "metadata": {
        "colab": {
          "base_uri": "https://localhost:8080/",
          "height": 335
        },
        "id": "S7oEQ49m8iD7",
        "outputId": "ab35d794-e3d5-4165-bb64-e9dfea4734e0"
      },
      "execution_count": 27,
      "outputs": [
        {
          "output_type": "execute_result",
          "data": {
            "text/plain": [
              "Tanggal      0\n",
              "Penutupan    0\n",
              "Pembukaan    0\n",
              "Tertinggi    0\n",
              "Terendah     0\n",
              "Volume       0\n",
              "Perubahan    0\n",
              "Tahun        0\n",
              "dtype: int64"
            ],
            "text/html": [
              "<div>\n",
              "<style scoped>\n",
              "    .dataframe tbody tr th:only-of-type {\n",
              "        vertical-align: middle;\n",
              "    }\n",
              "\n",
              "    .dataframe tbody tr th {\n",
              "        vertical-align: top;\n",
              "    }\n",
              "\n",
              "    .dataframe thead th {\n",
              "        text-align: right;\n",
              "    }\n",
              "</style>\n",
              "<table border=\"1\" class=\"dataframe\">\n",
              "  <thead>\n",
              "    <tr style=\"text-align: right;\">\n",
              "      <th></th>\n",
              "      <th>0</th>\n",
              "    </tr>\n",
              "  </thead>\n",
              "  <tbody>\n",
              "    <tr>\n",
              "      <th>Tanggal</th>\n",
              "      <td>0</td>\n",
              "    </tr>\n",
              "    <tr>\n",
              "      <th>Penutupan</th>\n",
              "      <td>0</td>\n",
              "    </tr>\n",
              "    <tr>\n",
              "      <th>Pembukaan</th>\n",
              "      <td>0</td>\n",
              "    </tr>\n",
              "    <tr>\n",
              "      <th>Tertinggi</th>\n",
              "      <td>0</td>\n",
              "    </tr>\n",
              "    <tr>\n",
              "      <th>Terendah</th>\n",
              "      <td>0</td>\n",
              "    </tr>\n",
              "    <tr>\n",
              "      <th>Volume</th>\n",
              "      <td>0</td>\n",
              "    </tr>\n",
              "    <tr>\n",
              "      <th>Perubahan</th>\n",
              "      <td>0</td>\n",
              "    </tr>\n",
              "    <tr>\n",
              "      <th>Tahun</th>\n",
              "      <td>0</td>\n",
              "    </tr>\n",
              "  </tbody>\n",
              "</table>\n",
              "</div><br><label><b>dtype:</b> int64</label>"
            ]
          },
          "metadata": {},
          "execution_count": 27
        }
      ]
    },
    {
      "cell_type": "markdown",
      "source": [
        "Namun, sesuai dengan hasil dari korelasi, kolom volume tidak akan digunakan sehingga untuk langkah ini hanya digunakan untuk menunjukkan cara untuk menghadapi missing value."
      ],
      "metadata": {
        "id": "1v5sn9rqDR1e"
      }
    },
    {
      "cell_type": "markdown",
      "source": [
        "## Cek Data yang ganda"
      ],
      "metadata": {
        "id": "W-6FdIOj9wUT"
      }
    },
    {
      "cell_type": "code",
      "source": [
        "duplicated_count = df.duplicated().sum()\n",
        "\n",
        "duplicated_count"
      ],
      "metadata": {
        "colab": {
          "base_uri": "https://localhost:8080/"
        },
        "id": "OWmmuu6W9oZK",
        "outputId": "fb0bed5f-db60-4156-9c2a-c91be298a6c3"
      },
      "execution_count": 28,
      "outputs": [
        {
          "output_type": "execute_result",
          "data": {
            "text/plain": [
              "0"
            ]
          },
          "metadata": {},
          "execution_count": 28
        }
      ]
    },
    {
      "cell_type": "markdown",
      "source": [
        "## Definisi Kolom"
      ],
      "metadata": {
        "id": "o_u_J-or-Fkb"
      }
    },
    {
      "cell_type": "code",
      "source": [
        "df['Tanggal'] = df['Tanggal'].astype(np.int64)"
      ],
      "metadata": {
        "id": "GseKL_tGyOwV"
      },
      "execution_count": 29,
      "outputs": []
    },
    {
      "cell_type": "markdown",
      "source": [
        "Saya mengubah type dari kolom tanggal menjadi integer, dikarenakan pada beberapa skenario yang saya coba dapat menyebabkan error karena dataframe yang memiliki kolom berjenis timestamp tidak dapat diproses dengann baik."
      ],
      "metadata": {
        "id": "EQKIkxxAELn8"
      }
    },
    {
      "cell_type": "markdown",
      "source": [
        "Langkah selanjutnya yaitu dengan mendefenisikan kolom, pada skenario di bawah akan digunakan 4 kolom, 3 sebagai kolom inputnya input (x) dan 1 sebagai parameter yang akan digunakan untuk memprediksi."
      ],
      "metadata": {
        "id": "fpnn-QzVEijG"
      }
    },
    {
      "cell_type": "code",
      "source": [
        "x_1 = df['Pembukaan']\n",
        "x_2 = df['Tertinggi']\n",
        "x_3 = df['Terendah']\n",
        "y = df['Penutupan']\n",
        "\n",
        "x_1 = x_1.values\n",
        "x_2 = x_2.values\n",
        "x_3 = x_3.values\n",
        "y = y.values"
      ],
      "metadata": {
        "id": "x8c2_arO-FBc"
      },
      "execution_count": 30,
      "outputs": []
    },
    {
      "cell_type": "code",
      "source": [
        "# convert to [rows, columns] structure\n",
        "x_1 = x_1.reshape((len(x_1), 1))\n",
        "x_2 = x_2.reshape((len(x_2), 1))\n",
        "x_3 = x_3.reshape((len(x_3), 1))\n",
        "y = y.reshape((len(y), 1))\n",
        "\n",
        "print (\"x_1.shape\" , x_1.shape)\n",
        "print (\"x_2.shape\" , x_2.shape)\n",
        "print (\"x_3.shape\" , x_3.shape)\n",
        "print (\"y.shape\" , y.shape)"
      ],
      "metadata": {
        "colab": {
          "base_uri": "https://localhost:8080/"
        },
        "id": "zFz8ywuH-UfT",
        "outputId": "1916b444-bbe1-4f3f-e2a5-6bd394731ece"
      },
      "execution_count": 31,
      "outputs": [
        {
          "output_type": "stream",
          "name": "stdout",
          "text": [
            "x_1.shape (1385, 1)\n",
            "x_2.shape (1385, 1)\n",
            "x_3.shape (1385, 1)\n",
            "y.shape (1385, 1)\n"
          ]
        }
      ]
    },
    {
      "cell_type": "markdown",
      "source": [
        "Dalam praktik umum, data biasanya diproses terlebih dahulu sebelum dibagi menjadi set pelatihan dan pengujian. Di sini, kita perlu melakukan transformasi data dengan menormalisasi setiap data variabel menggunakan MinMaxScaler. Langkah-langkahnya adalah sebagai berikut:\n",
        "\n",
        "1. membentuk ulang setiap variabel menjadi array 2D dengan konfigurasi :(jumlah data, 1) untuk penskalaan.\n",
        "2. Tentukan Scaler yang berkisar dari 0 hingga 1 dan sesuaikan setiap variabel data secara individual. Yang perlu diperhatikan : fungsi fit_transform() terdiri dari fungsi fit() dan transform(), yang memindai nilai maks dan min data dan mengubahnya antara 0 dan 1. Jika data memiliki rentang yang berbeda, transformasinya akan berbeda. Untuk info lebih lanjut: MinMaxScaler()\n",
        "3. Tumpuk semua variabel secara horizontal."
      ],
      "metadata": {
        "id": "REnIhCUYFU7e"
      }
    },
    {
      "cell_type": "markdown",
      "source": [
        "## Scale Fitur Data"
      ],
      "metadata": {
        "id": "-8z8tNy0ATNb"
      }
    },
    {
      "cell_type": "markdown",
      "source": [
        "### Rumus MinMaxScaler\n",
        "\n",
        "Rumus **MinMaxScaler** adalah sebagai berikut:\n",
        "\n",
        "$\n",
        "[\n",
        "X_{\\text{scaled}} = \\frac{X - X_{\\text{min}}}{X_{\\text{max}} - X_{\\text{min}}}\n",
        "]\n",
        "$\n",
        "\n",
        "Dimana:\n",
        "- ( X ) adalah nilai data asli.\n",
        "- $( X_{\\text{min}} )$ adalah nilai minimum dari dataset.\n",
        "- $( X_{\\text{max}} )$ adalah nilai maksimum dari dataset.\n",
        "- $( X_{\\text{scaled}} $) adalah hasil normalisasi dengan rentang antara 0 dan 1.\n",
        "\n",
        "Jika ingin mengubah rentang menjadi \\([a, b]\\), maka rumusnya:\n",
        "\n",
        "$[\n",
        "X_{\\text{scaled}} = a + \\frac{(X - X_{\\text{min}})(b - a)}{X_{\\text{max}} - X_{\\text{min}}}\n",
        "]$\n",
        "\n",
        "Dimana:\n",
        "- ( a ) adalah batas bawah rentang yang diinginkan.\n",
        "- ( b ) adalah batas atas rentang yang diinginkan.\n",
        "\n",
        "Rumus ini digunakan untuk memastikan data berada dalam rentang tertentu, biasanya untuk meningkatkan performa algoritma pembelajaran mesin yang sensitif terhadap skala fitur."
      ],
      "metadata": {
        "id": "BGm-vImtOioW"
      }
    },
    {
      "cell_type": "code",
      "source": [
        "# normalization features\n",
        "scaler = MinMaxScaler(feature_range=(0, 1))\n",
        "x_1_scaled = scaler.fit_transform(x_1)\n",
        "x_2_scaled = scaler.fit_transform(x_2)\n",
        "x_3_scaled = scaler.fit_transform(x_3)\n",
        "y_scaled = scaler.fit_transform(y)\n",
        "\n",
        "# horizontally stack columns\n",
        "dataset_stacked = hstack((x_1_scaled, x_2_scaled, x_3_scaled, y_scaled))\n",
        "\n",
        "print (\"dataset_stacked.shape\" , dataset_stacked.shape)"
      ],
      "metadata": {
        "id": "FMOPxY0mT03F",
        "colab": {
          "base_uri": "https://localhost:8080/"
        },
        "outputId": "e0db6de8-9c7a-4c4b-c86c-0c2e45871de7"
      },
      "execution_count": 32,
      "outputs": [
        {
          "output_type": "stream",
          "name": "stdout",
          "text": [
            "dataset_stacked.shape (1385, 4)\n"
          ]
        }
      ]
    },
    {
      "cell_type": "markdown",
      "source": [
        "## Splitting Dataset"
      ],
      "metadata": {
        "id": "8xIGPxPQT5eW"
      }
    },
    {
      "cell_type": "markdown",
      "source": [
        "Kita ingin model kita belajar dengan menghubungkan data [x1,x2,x3] sebelumnya dengan data [y] mendatang. Oleh karena itu, kita perlu mengatur ulang data kita dengan menggunakan fungsi split sequences() yang dibuat oleh MachineLearningMastery. Ada 2 argumen utama yang perlu kita tentukan yaitu:\n",
        "1. n_steps_in: Tentukan berapa banyak data yang ingin kita lihat kembali untuk prediksi\n",
        "2. n_step_out: Tentukan berapa banyak data multi-langkah yang ingin kita perkirakan"
      ],
      "metadata": {
        "id": "empb_n3BGXQA"
      }
    },
    {
      "cell_type": "markdown",
      "source": [
        "### Rumus\n",
        "\n",
        "Secara matematis, fungsi `split_sequences()` dapat dijelaskan dengan rumus berikut:\n",
        "\n",
        "### Diberikan:\n",
        "- $( S = \\{s_1, s_2, s_3, \\dots, s_T\\} )$ adalah dataset sekuensial dengan ( T ) baris dan ( F ) fitur (multivariate) yang direpresentasikan sebagai matriks $( S \\in \\mathbb{R}^{T \\times F} )$.\n",
        "- $( n_{\\text{steps}} ) $: panjang window (jumlah langkah untuk input sequence).\n",
        "\n",
        "### Proses:\n",
        "1. **Input (X)**:\n",
        "   Untuk setiap ( i ) dalam range $( 1 \\leq i \\leq T - n_{\\text{steps}} )$:\n",
        "   - Ambil subset data dari baris ( i ) hingga $( i + n_{\\text{steps}} - 1 )$ untuk semua fitur ( f ).\n",
        "   - Representasi matematis:\n",
        "\n",
        "     $[\n",
        "     X_i = \\{S[i], S[i+1], \\dots, S[i + n_{\\text{steps}} - 1]\\}, \\quad X \\in \\mathbb{R}^{n_{\\text{steps}} \\times F}.\n",
        "     ]$\n",
        "\n",
        "2. **Output (y)**:\n",
        "   - Pilih target ( y_i ) dari baris $( i + n_{\\text{steps}} )$ pada fitur target tertentu (misalnya, fitur terakhir ( f_F )).\n",
        "   - Representasi matematis:\n",
        "\n",
        "     $[\n",
        "     y_i = S[i + n_{\\text{steps}} - 1, F].\n",
        "     ]$\n",
        "\n",
        "3. **Hasil Akhir**:\n",
        "   - Setelah iterasi selesai, output adalah:\n",
        "\n",
        "     $[\n",
        "     X = \\{X_1, X_2, \\dots, X_N\\}, \\quad y = \\{y_1, y_2, \\dots, y_N\\},\n",
        "     $]\n",
        "     dengan $( N = T - n_{\\text{steps}} )$.\n",
        "\n",
        "### Intuisi:\n",
        "- Input ( X ) adalah window berisi $( n_{\\text{steps}} )$ langkah sebelumnya dari setiap fitur.\n",
        "- Output ( y ) adalah nilai target pada langkah berikutnya.\n"
      ],
      "metadata": {
        "id": "pZj-8HrwPV9m"
      }
    },
    {
      "cell_type": "code",
      "source": [
        "# split a multivariate sequence into samples\n",
        "def split_sequences(sequences, n_steps_in, n_steps_out):\n",
        "\tX, y = list(), list()\n",
        "\tfor i in range(len(sequences)):\n",
        "\t\t# find the end of this pattern\n",
        "\t\tend_ix = i + n_steps_in\n",
        "\t\tout_end_ix = end_ix + n_steps_out-1\n",
        "\t\t# check if we are beyond the dataset\n",
        "\t\tif out_end_ix > len(sequences):\n",
        "\t\t\tbreak\n",
        "\t\t# gather input and output parts of the pattern\n",
        "\t\tseq_x, seq_y = sequences[i:end_ix, :-1], sequences[end_ix-1:out_end_ix, -1]\n",
        "\t\tX.append(seq_x)\n",
        "\t\ty.append(seq_y)\n",
        "\treturn array(X), array(y)"
      ],
      "metadata": {
        "id": "pLG9RAyA5BzE"
      },
      "execution_count": 33,
      "outputs": []
    },
    {
      "cell_type": "code",
      "source": [
        "# choose a number of time steps #change this accordingly\n",
        "n_steps_in, n_steps_out = 60 , 30\n",
        "\n",
        "# covert into input/output\n",
        "X, y = split_sequences(dataset_stacked, n_steps_in, n_steps_out)\n",
        "\n",
        "print (\"X.shape\" , X.shape)\n",
        "print (\"y.shape\" , y.shape)"
      ],
      "metadata": {
        "colab": {
          "base_uri": "https://localhost:8080/"
        },
        "id": "QM_VfhW-5Jdv",
        "outputId": "75ab18d4-1a27-472e-d5ea-79338619e8c7"
      },
      "execution_count": 35,
      "outputs": [
        {
          "output_type": "stream",
          "name": "stdout",
          "text": [
            "X.shape (1297, 60, 3)\n",
            "y.shape (1297, 30)\n"
          ]
        }
      ]
    },
    {
      "cell_type": "code",
      "source": [
        "split_percentage = 0.8  # Use 80% of data for training\n",
        "split = int(len(df) * split_percentage)\n",
        "train_X , train_y = X[:split, :] , y[:split, :]\n",
        "test_X , test_y = X[split:, :] , y[split:, :]\n",
        "\n",
        "n_features = train_X.shape[2]"
      ],
      "metadata": {
        "id": "JyVu427x-186"
      },
      "execution_count": 37,
      "outputs": []
    },
    {
      "cell_type": "code",
      "source": [
        "print (\"train_X.shape\" , train_X.shape)\n",
        "print (\"train_y.shape\" , train_y.shape)\n",
        "print (\"test_X.shape\" , test_X.shape)\n",
        "print (\"test_y.shape\" , test_y.shape)\n",
        "print (\"n_features\" , n_features)"
      ],
      "metadata": {
        "colab": {
          "base_uri": "https://localhost:8080/"
        },
        "id": "14qQWrBTqNx7",
        "outputId": "cc605f61-c73e-42f9-9045-590b98a2af3f"
      },
      "execution_count": 39,
      "outputs": [
        {
          "output_type": "stream",
          "name": "stdout",
          "text": [
            "train_X.shape (1108, 60, 3)\n",
            "train_y.shape (1108, 30)\n",
            "test_X.shape (189, 60, 3)\n",
            "test_y.shape (189, 30)\n",
            "n_features 3\n"
          ]
        }
      ]
    },
    {
      "cell_type": "markdown",
      "source": [
        "# Modeling"
      ],
      "metadata": {
        "id": "VVUjN28wDnos"
      }
    },
    {
      "cell_type": "markdown",
      "source": [
        "## Menggunakan LSTM"
      ],
      "metadata": {
        "id": "pJuKh2GpqXKD"
      }
    },
    {
      "cell_type": "markdown",
      "source": [
        "Di sini, kita akan mulai mengatur arsitektur model LSTM dengan menginisialisasi laju pembelajaran pengoptimal serta jumlah lapisan dalam jaringan. Jaringan saraf terdiri dari: 2 simpul LSTM dengan 50 unit tersembunyi, lapisan padat yang menentukan keluaran model berdasarkan n_steps_out (berapa banyak data masa depan yang ingin kita perkirakan) dan diakhiri dengan fungsi aktivasi."
      ],
      "metadata": {
        "id": "ruamctuxGmuA"
      }
    },
    {
      "cell_type": "markdown",
      "source": [
        "### **LSTM (Long Short-Term Memory)**\n",
        "\n",
        "adalah jenis unit dalam jaringan neural rekursif (RNN) yang dirancang untuk mengatasi masalah *vanishing gradient* dengan menggunakan struktur internal seperti *gates*. Berikut adalah rumus matematis untuk LSTM:\n",
        "\n",
        "### Komponen Utama:\n",
        "1. **Input Gate ((i_t))**: Mengontrol informasi baru yang masuk ke sel memori.\n",
        "2. **Forget Gate ((f_t))**: Mengontrol informasi lama yang harus dilupakan dari sel memori.\n",
        "3. **Cell State ((C_t))**: Menyimpan informasi yang relevan untuk waktu yang lama.\n",
        "4. **Output Gate ((o_t))**: Mengontrol informasi yang keluar untuk prediksi.\n",
        "5. **Hidden State ((h_t))**: Output utama untuk waktu (t).\n",
        "\n",
        "---\n",
        "\n",
        "### Rumus LSTM:\n",
        "#### 1. Forget Gate ((f_t)):\n",
        "$[\n",
        "f_t = \\sigma(W_f \\cdot [h_{t-1}, x_t] + b_f)\n",
        "]$\n",
        "- $(W_f$): Bobot forget gate.\n",
        "- $(b_f$): Bias forget gate.\n",
        "- $([h_{t-1}, x_t])$: Kombinasi hidden state sebelumnya dan input saat ini.\n",
        "- $(\\sigma)$: Fungsi sigmoid (untuk menghasilkan nilai antara 0 dan 1).\n",
        "\n",
        "#### 2. Input Gate ((i_t)) dan Candidate Cell State $((\\tilde{C}_t))$:\n",
        "$[\n",
        "i_t = \\sigma(W_i \\cdot [h_{t-1}, x_t] + b_i)\n",
        "]$\n",
        "$[\n",
        "\\tilde{C}_t = \\tanh(W_c \\cdot [h_{t-1}, x_t] + b_c)\n",
        "]$\n",
        "- (W_i, W_c): Bobot untuk input gate dan candidate cell state.\n",
        "- (b_i, b_c): Bias masing-masing.\n",
        "- $(\\tanh)$: Fungsi aktivasi tanh (menghasilkan nilai antara -1 dan 1).\n",
        "\n",
        "#### 3. Cell State ((C_t)):\n",
        "$[\n",
        "C_t = f_t \\odot C_{t-1} + i_t \\odot \\tilde{C}_t\n",
        "]$\n",
        "- $(\\odot)$: Operasi perkalian elemen-wise (Hadamard product).\n",
        "- $(C_{t-1})$: Cell state sebelumnya.\n",
        "\n",
        "#### 4. Output Gate (\\(o_t\\)):\n",
        "$[\n",
        "o_t = \\sigma(W_o \\cdot [h_{t-1}, x_t] + b_o)\n",
        "]$\n",
        "- $(W_o, b_o)$: Bobot dan bias output gate.\n",
        "\n",
        "#### 5. Hidden State (\\(h_t\\)):\n",
        "$[\n",
        "h_t = o_t \\odot \\tanh(C_t)\n",
        "]$\n",
        "\n",
        "---\n",
        "\n",
        "### Penjelasan:\n",
        "1. **Forget Gate ((f_t))**: Menentukan bagian dari cell state lama $((C_{t-1}))$ yang akan dilupakan.\n",
        "2. **Input Gate ((i_t))**: Memutuskan informasi baru $((\\tilde{C}_t))$ yang akan ditambahkan ke cell state.\n",
        "3. **Cell State ((C_t))**: Memadukan informasi lama dan baru untuk menghasilkan cell state saat ini.\n",
        "4. **Output Gate ((o_t))**: Mengontrol informasi dalam hidden state ((h_t)) yang digunakan untuk prediksi.\n",
        "\n",
        "### Diagram Aliran LSTM:\n",
        "- **Input**: (x_t) dan $(h_{t-1})$.\n",
        "- **Output**: (h_t) dan (C_t).\n",
        "- **Gates**:\n",
        "  - Forget Gate: Membatasi informasi lama.\n",
        "  - Input Gate: Menambahkan informasi baru.\n",
        "  - Output Gate: Menentukan bagian dari cell state yang diproses menjadi hidden state.\n",
        "\n",
        "LSTM dirancang untuk belajar menangani informasi jangka panjang sambil secara dinamis memutuskan apa yang harus diingat dan dilupakan pada setiap langkah waktu."
      ],
      "metadata": {
        "id": "ODV65QhqQNwz"
      }
    },
    {
      "cell_type": "code",
      "source": [
        "#optimizer learning rate\n",
        "opt = keras.optimizers.Adam(learning_rate=0.01)\n",
        "\n",
        "# define model\n",
        "model = Sequential()\n",
        "model.add(LSTM(50, activation='relu', return_sequences=True, input_shape=(n_steps_in, X.shape[2]))) # Use X.shape[2] directly\n",
        "model.add(LSTM(50, activation='relu'))\n",
        "model.add(Dense(n_steps_out))\n",
        "model.add(Activation('linear'))\n",
        "model.compile(loss='mse' , optimizer=opt , metrics=['mse'])"
      ],
      "metadata": {
        "colab": {
          "base_uri": "https://localhost:8080/"
        },
        "id": "Srh2ObsRqY4L",
        "outputId": "f7839131-f2d8-4bee-e12f-eaa1e50bc2cb"
      },
      "execution_count": 40,
      "outputs": [
        {
          "output_type": "stream",
          "name": "stderr",
          "text": [
            "/usr/local/lib/python3.10/dist-packages/keras/src/layers/rnn/rnn.py:204: UserWarning: Do not pass an `input_shape`/`input_dim` argument to a layer. When using Sequential models, prefer using an `Input(shape)` object as the first layer in the model instead.\n",
            "  super().__init__(**kwargs)\n"
          ]
        }
      ]
    },
    {
      "cell_type": "markdown",
      "source": [
        "\n",
        "Catatan: Input_shape dari node LSTM pertama menentukan bentuk data input untuk prediksi dalam fase evaluasi. Sementara itu, Dense Layer menentukan bentuk output model berdasarkan n_steps_out"
      ],
      "metadata": {
        "id": "gASTshLOGppR"
      }
    },
    {
      "cell_type": "markdown",
      "source": [
        "Dalam pelatihan, kita memiliki 32 kelompok dataset, oleh karena itu langkah_per_epoch akan menjadi 32.\n",
        "\n",
        "Namun secara umum langkah_per_epoch dihitung dengan membagi jumlah total data training (len(train_X)) dengan ukuran batch (batch_size).\n",
        "\n",
        "```\n",
        "batch_size = 32  gunakan\n",
        "   steps_per_epoch = len(train_X) // batch_size\n",
        "```\n",
        "\n",
        "Dalam setiap langkah, akan dibutuhkan 1385 titik data (1 kelompok) untuk pelatihan. Dengan 32 langkah per epoch, semua 32 kelompok akan dilatih dalam setiap epoch. Dengan 80 epoch, setiap kelompok akan dilatih 80 kali.\n",
        "\n",
        "Epoch merepresentasikan berapa kali seluruh dataset training telah diproses oleh model selama proses training. Menentukan jumlah epoch yang tepat sangat penting karena:\n",
        "\n",
        "* Epoch terlalu sedikit: Model mungkin underfit, artinya belum belajar pola data dengan baik dan performanya buruk.\n",
        "* Epoch terlalu banyak: Model mungkin overfit, artinya terlalu fokus pada data training dan performanya buruk pada data baru (unseen data).\n",
        "\n",
        "Seluruh kemajuan pelatihan seharusnya kurang dari 15 menit dengan Google Colab."
      ],
      "metadata": {
        "id": "kH-EcHeNITbc"
      }
    },
    {
      "cell_type": "code",
      "source": [
        "# Reshape input data to 3D for LSTM\n",
        "train_X = train_X.reshape((train_X.shape[0], train_X.shape[1], train_X.shape[2]))\n",
        "test_X = test_X.reshape((test_X.shape[0], test_X.shape[1], test_X.shape[2]))\n",
        "\n",
        "# Fit network\n",
        "history = model.fit(\n",
        "    train_X,\n",
        "    train_y,\n",
        "    epochs=80,\n",
        "    steps_per_epoch=25,\n",
        "    verbose=1,\n",
        "    validation_data=(test_X, test_y),\n",
        "    shuffle=False,\n",
        ")"
      ],
      "metadata": {
        "colab": {
          "base_uri": "https://localhost:8080/"
        },
        "id": "fTcOhnZdqaWf",
        "outputId": "af6b33ac-b12b-4817-cd30-1e41f0e5e9de"
      },
      "execution_count": 41,
      "outputs": [
        {
          "output_type": "stream",
          "name": "stdout",
          "text": [
            "Epoch 1/80\n",
            "\u001b[1m25/25\u001b[0m \u001b[32m━━━━━━━━━━━━━━━━━━━━\u001b[0m\u001b[37m\u001b[0m \u001b[1m7s\u001b[0m 76ms/step - loss: 18.6496 - mse: 18.6496 - val_loss: 0.1086 - val_mse: 0.1086\n",
            "Epoch 2/80\n",
            "\u001b[1m25/25\u001b[0m \u001b[32m━━━━━━━━━━━━━━━━━━━━\u001b[0m\u001b[37m\u001b[0m \u001b[1m0s\u001b[0m 5ms/step - loss: 0.0000e+00 - mse: 0.0000e+00 - val_loss: 0.1086 - val_mse: 0.1086\n",
            "Epoch 3/80\n",
            "\u001b[1m 1/25\u001b[0m \u001b[37m━━━━━━━━━━━━━━━━━━━━\u001b[0m \u001b[1m1s\u001b[0m 74ms/step - loss: 0.2095 - mse: 0.2095"
          ]
        },
        {
          "output_type": "stream",
          "name": "stderr",
          "text": [
            "/usr/lib/python3.10/contextlib.py:153: UserWarning: Your input ran out of data; interrupting training. Make sure that your dataset or generator can generate at least `steps_per_epoch * epochs` batches. You may need to use the `.repeat()` function when building your dataset.\n",
            "  self.gen.throw(typ, value, traceback)\n"
          ]
        },
        {
          "output_type": "stream",
          "name": "stdout",
          "text": [
            "\u001b[1m25/25\u001b[0m \u001b[32m━━━━━━━━━━━━━━━━━━━━\u001b[0m\u001b[37m\u001b[0m \u001b[1m1s\u001b[0m 59ms/step - loss: 0.2048 - mse: 0.2048 - val_loss: 0.1059 - val_mse: 0.1059\n",
            "Epoch 4/80\n",
            "\u001b[1m25/25\u001b[0m \u001b[32m━━━━━━━━━━━━━━━━━━━━\u001b[0m\u001b[37m\u001b[0m \u001b[1m0s\u001b[0m 5ms/step - loss: 0.0000e+00 - mse: 0.0000e+00 - val_loss: 0.1059 - val_mse: 0.1059\n",
            "Epoch 5/80\n",
            "\u001b[1m25/25\u001b[0m \u001b[32m━━━━━━━━━━━━━━━━━━━━\u001b[0m\u001b[37m\u001b[0m \u001b[1m2s\u001b[0m 57ms/step - loss: 0.2603 - mse: 0.2603 - val_loss: 0.1080 - val_mse: 0.1080\n",
            "Epoch 6/80\n",
            "\u001b[1m25/25\u001b[0m \u001b[32m━━━━━━━━━━━━━━━━━━━━\u001b[0m\u001b[37m\u001b[0m \u001b[1m0s\u001b[0m 4ms/step - loss: 0.0000e+00 - mse: 0.0000e+00 - val_loss: 0.1080 - val_mse: 0.1080\n",
            "Epoch 7/80\n",
            "\u001b[1m25/25\u001b[0m \u001b[32m━━━━━━━━━━━━━━━━━━━━\u001b[0m\u001b[37m\u001b[0m \u001b[1m2s\u001b[0m 59ms/step - loss: 0.1763 - mse: 0.1763 - val_loss: 0.0827 - val_mse: 0.0827\n",
            "Epoch 8/80\n",
            "\u001b[1m25/25\u001b[0m \u001b[32m━━━━━━━━━━━━━━━━━━━━\u001b[0m\u001b[37m\u001b[0m \u001b[1m0s\u001b[0m 4ms/step - loss: 0.0000e+00 - mse: 0.0000e+00 - val_loss: 0.0827 - val_mse: 0.0827\n",
            "Epoch 9/80\n",
            "\u001b[1m25/25\u001b[0m \u001b[32m━━━━━━━━━━━━━━━━━━━━\u001b[0m\u001b[37m\u001b[0m \u001b[1m3s\u001b[0m 76ms/step - loss: 0.0780 - mse: 0.0780 - val_loss: 0.0417 - val_mse: 0.0417\n",
            "Epoch 10/80\n",
            "\u001b[1m25/25\u001b[0m \u001b[32m━━━━━━━━━━━━━━━━━━━━\u001b[0m\u001b[37m\u001b[0m \u001b[1m0s\u001b[0m 7ms/step - loss: 0.0000e+00 - mse: 0.0000e+00 - val_loss: 0.0417 - val_mse: 0.0417\n",
            "Epoch 11/80\n",
            "\u001b[1m25/25\u001b[0m \u001b[32m━━━━━━━━━━━━━━━━━━━━\u001b[0m\u001b[37m\u001b[0m \u001b[1m2s\u001b[0m 94ms/step - loss: 0.0491 - mse: 0.0491 - val_loss: 0.0368 - val_mse: 0.0368\n",
            "Epoch 12/80\n",
            "\u001b[1m25/25\u001b[0m \u001b[32m━━━━━━━━━━━━━━━━━━━━\u001b[0m\u001b[37m\u001b[0m \u001b[1m0s\u001b[0m 8ms/step - loss: 0.0000e+00 - mse: 0.0000e+00 - val_loss: 0.0368 - val_mse: 0.0368\n",
            "Epoch 13/80\n",
            "\u001b[1m25/25\u001b[0m \u001b[32m━━━━━━━━━━━━━━━━━━━━\u001b[0m\u001b[37m\u001b[0m \u001b[1m4s\u001b[0m 58ms/step - loss: 0.0222 - mse: 0.0222 - val_loss: 0.0390 - val_mse: 0.0390\n",
            "Epoch 14/80\n",
            "\u001b[1m25/25\u001b[0m \u001b[32m━━━━━━━━━━━━━━━━━━━━\u001b[0m\u001b[37m\u001b[0m \u001b[1m0s\u001b[0m 4ms/step - loss: 0.0000e+00 - mse: 0.0000e+00 - val_loss: 0.0390 - val_mse: 0.0390\n",
            "Epoch 15/80\n",
            "\u001b[1m25/25\u001b[0m \u001b[32m━━━━━━━━━━━━━━━━━━━━\u001b[0m\u001b[37m\u001b[0m \u001b[1m2s\u001b[0m 57ms/step - loss: 0.0229 - mse: 0.0229 - val_loss: 0.0361 - val_mse: 0.0361\n",
            "Epoch 16/80\n",
            "\u001b[1m25/25\u001b[0m \u001b[32m━━━━━━━━━━━━━━━━━━━━\u001b[0m\u001b[37m\u001b[0m \u001b[1m0s\u001b[0m 5ms/step - loss: 0.0000e+00 - mse: 0.0000e+00 - val_loss: 0.0361 - val_mse: 0.0361\n",
            "Epoch 17/80\n",
            "\u001b[1m25/25\u001b[0m \u001b[32m━━━━━━━━━━━━━━━━━━━━\u001b[0m\u001b[37m\u001b[0m \u001b[1m1s\u001b[0m 57ms/step - loss: 0.0214 - mse: 0.0214 - val_loss: 0.0350 - val_mse: 0.0350\n",
            "Epoch 18/80\n",
            "\u001b[1m25/25\u001b[0m \u001b[32m━━━━━━━━━━━━━━━━━━━━\u001b[0m\u001b[37m\u001b[0m \u001b[1m0s\u001b[0m 4ms/step - loss: 0.0000e+00 - mse: 0.0000e+00 - val_loss: 0.0350 - val_mse: 0.0350\n",
            "Epoch 19/80\n",
            "\u001b[1m25/25\u001b[0m \u001b[32m━━━━━━━━━━━━━━━━━━━━\u001b[0m\u001b[37m\u001b[0m \u001b[1m1s\u001b[0m 58ms/step - loss: 0.0206 - mse: 0.0206 - val_loss: 0.0345 - val_mse: 0.0345\n",
            "Epoch 20/80\n",
            "\u001b[1m25/25\u001b[0m \u001b[32m━━━━━━━━━━━━━━━━━━━━\u001b[0m\u001b[37m\u001b[0m \u001b[1m0s\u001b[0m 5ms/step - loss: 0.0000e+00 - mse: 0.0000e+00 - val_loss: 0.0345 - val_mse: 0.0345\n",
            "Epoch 21/80\n",
            "\u001b[1m25/25\u001b[0m \u001b[32m━━━━━━━━━━━━━━━━━━━━\u001b[0m\u001b[37m\u001b[0m \u001b[1m2s\u001b[0m 74ms/step - loss: 0.0205 - mse: 0.0205 - val_loss: 0.0339 - val_mse: 0.0339\n",
            "Epoch 22/80\n",
            "\u001b[1m25/25\u001b[0m \u001b[32m━━━━━━━━━━━━━━━━━━━━\u001b[0m\u001b[37m\u001b[0m \u001b[1m0s\u001b[0m 7ms/step - loss: 0.0000e+00 - mse: 0.0000e+00 - val_loss: 0.0339 - val_mse: 0.0339\n",
            "Epoch 23/80\n",
            "\u001b[1m25/25\u001b[0m \u001b[32m━━━━━━━━━━━━━━━━━━━━\u001b[0m\u001b[37m\u001b[0m \u001b[1m3s\u001b[0m 95ms/step - loss: 0.0204 - mse: 0.0204 - val_loss: 0.0330 - val_mse: 0.0330\n",
            "Epoch 24/80\n",
            "\u001b[1m25/25\u001b[0m \u001b[32m━━━━━━━━━━━━━━━━━━━━\u001b[0m\u001b[37m\u001b[0m \u001b[1m0s\u001b[0m 7ms/step - loss: 0.0000e+00 - mse: 0.0000e+00 - val_loss: 0.0330 - val_mse: 0.0330\n",
            "Epoch 25/80\n",
            "\u001b[1m25/25\u001b[0m \u001b[32m━━━━━━━━━━━━━━━━━━━━\u001b[0m\u001b[37m\u001b[0m \u001b[1m4s\u001b[0m 59ms/step - loss: 0.0200 - mse: 0.0200 - val_loss: 0.0319 - val_mse: 0.0319\n",
            "Epoch 26/80\n",
            "\u001b[1m25/25\u001b[0m \u001b[32m━━━━━━━━━━━━━━━━━━━━\u001b[0m\u001b[37m\u001b[0m \u001b[1m0s\u001b[0m 4ms/step - loss: 0.0000e+00 - mse: 0.0000e+00 - val_loss: 0.0319 - val_mse: 0.0319\n",
            "Epoch 27/80\n",
            "\u001b[1m25/25\u001b[0m \u001b[32m━━━━━━━━━━━━━━━━━━━━\u001b[0m\u001b[37m\u001b[0m \u001b[1m1s\u001b[0m 56ms/step - loss: 0.0193 - mse: 0.0193 - val_loss: 0.0307 - val_mse: 0.0307\n",
            "Epoch 28/80\n",
            "\u001b[1m25/25\u001b[0m \u001b[32m━━━━━━━━━━━━━━━━━━━━\u001b[0m\u001b[37m\u001b[0m \u001b[1m0s\u001b[0m 4ms/step - loss: 0.0000e+00 - mse: 0.0000e+00 - val_loss: 0.0307 - val_mse: 0.0307\n",
            "Epoch 29/80\n",
            "\u001b[1m25/25\u001b[0m \u001b[32m━━━━━━━━━━━━━━━━━━━━\u001b[0m\u001b[37m\u001b[0m \u001b[1m1s\u001b[0m 59ms/step - loss: 0.0185 - mse: 0.0185 - val_loss: 0.0297 - val_mse: 0.0297\n",
            "Epoch 30/80\n",
            "\u001b[1m25/25\u001b[0m \u001b[32m━━━━━━━━━━━━━━━━━━━━\u001b[0m\u001b[37m\u001b[0m \u001b[1m0s\u001b[0m 5ms/step - loss: 0.0000e+00 - mse: 0.0000e+00 - val_loss: 0.0297 - val_mse: 0.0297\n",
            "Epoch 31/80\n",
            "\u001b[1m25/25\u001b[0m \u001b[32m━━━━━━━━━━━━━━━━━━━━\u001b[0m\u001b[37m\u001b[0m \u001b[1m2s\u001b[0m 58ms/step - loss: 0.0178 - mse: 0.0178 - val_loss: 0.0288 - val_mse: 0.0288\n",
            "Epoch 32/80\n",
            "\u001b[1m25/25\u001b[0m \u001b[32m━━━━━━━━━━━━━━━━━━━━\u001b[0m\u001b[37m\u001b[0m \u001b[1m0s\u001b[0m 4ms/step - loss: 0.0000e+00 - mse: 0.0000e+00 - val_loss: 0.0288 - val_mse: 0.0288\n",
            "Epoch 33/80\n",
            "\u001b[1m25/25\u001b[0m \u001b[32m━━━━━━━━━━━━━━━━━━━━\u001b[0m\u001b[37m\u001b[0m \u001b[1m2s\u001b[0m 86ms/step - loss: 0.0172 - mse: 0.0172 - val_loss: 0.0279 - val_mse: 0.0279\n",
            "Epoch 34/80\n",
            "\u001b[1m25/25\u001b[0m \u001b[32m━━━━━━━━━━━━━━━━━━━━\u001b[0m\u001b[37m\u001b[0m \u001b[1m0s\u001b[0m 6ms/step - loss: 0.0000e+00 - mse: 0.0000e+00 - val_loss: 0.0279 - val_mse: 0.0279\n",
            "Epoch 35/80\n",
            "\u001b[1m25/25\u001b[0m \u001b[32m━━━━━━━━━━━━━━━━━━━━\u001b[0m\u001b[37m\u001b[0m \u001b[1m3s\u001b[0m 92ms/step - loss: 0.0167 - mse: 0.0167 - val_loss: 0.0272 - val_mse: 0.0272\n",
            "Epoch 36/80\n",
            "\u001b[1m25/25\u001b[0m \u001b[32m━━━━━━━━━━━━━━━━━━━━\u001b[0m\u001b[37m\u001b[0m \u001b[1m0s\u001b[0m 6ms/step - loss: 0.0000e+00 - mse: 0.0000e+00 - val_loss: 0.0272 - val_mse: 0.0272\n",
            "Epoch 37/80\n",
            "\u001b[1m25/25\u001b[0m \u001b[32m━━━━━━━━━━━━━━━━━━━━\u001b[0m\u001b[37m\u001b[0m \u001b[1m1s\u001b[0m 58ms/step - loss: 0.0162 - mse: 0.0162 - val_loss: 0.0265 - val_mse: 0.0265\n",
            "Epoch 38/80\n",
            "\u001b[1m25/25\u001b[0m \u001b[32m━━━━━━━━━━━━━━━━━━━━\u001b[0m\u001b[37m\u001b[0m \u001b[1m0s\u001b[0m 4ms/step - loss: 0.0000e+00 - mse: 0.0000e+00 - val_loss: 0.0265 - val_mse: 0.0265\n",
            "Epoch 39/80\n",
            "\u001b[1m25/25\u001b[0m \u001b[32m━━━━━━━━━━━━━━━━━━━━\u001b[0m\u001b[37m\u001b[0m \u001b[1m2s\u001b[0m 60ms/step - loss: 0.0158 - mse: 0.0158 - val_loss: 0.0258 - val_mse: 0.0258\n",
            "Epoch 40/80\n",
            "\u001b[1m25/25\u001b[0m \u001b[32m━━━━━━━━━━━━━━━━━━━━\u001b[0m\u001b[37m\u001b[0m \u001b[1m0s\u001b[0m 5ms/step - loss: 0.0000e+00 - mse: 0.0000e+00 - val_loss: 0.0258 - val_mse: 0.0258\n",
            "Epoch 41/80\n",
            "\u001b[1m25/25\u001b[0m \u001b[32m━━━━━━━━━━━━━━━━━━━━\u001b[0m\u001b[37m\u001b[0m \u001b[1m1s\u001b[0m 58ms/step - loss: 0.0154 - mse: 0.0154 - val_loss: 0.0252 - val_mse: 0.0252\n",
            "Epoch 42/80\n",
            "\u001b[1m25/25\u001b[0m \u001b[32m━━━━━━━━━━━━━━━━━━━━\u001b[0m\u001b[37m\u001b[0m \u001b[1m0s\u001b[0m 4ms/step - loss: 0.0000e+00 - mse: 0.0000e+00 - val_loss: 0.0252 - val_mse: 0.0252\n",
            "Epoch 43/80\n",
            "\u001b[1m25/25\u001b[0m \u001b[32m━━━━━━━━━━━━━━━━━━━━\u001b[0m\u001b[37m\u001b[0m \u001b[1m1s\u001b[0m 58ms/step - loss: 0.0150 - mse: 0.0150 - val_loss: 0.0247 - val_mse: 0.0247\n",
            "Epoch 44/80\n",
            "\u001b[1m25/25\u001b[0m \u001b[32m━━━━━━━━━━━━━━━━━━━━\u001b[0m\u001b[37m\u001b[0m \u001b[1m0s\u001b[0m 4ms/step - loss: 0.0000e+00 - mse: 0.0000e+00 - val_loss: 0.0247 - val_mse: 0.0247\n",
            "Epoch 45/80\n",
            "\u001b[1m25/25\u001b[0m \u001b[32m━━━━━━━━━━━━━━━━━━━━\u001b[0m\u001b[37m\u001b[0m \u001b[1m2s\u001b[0m 56ms/step - loss: 0.0147 - mse: 0.0147 - val_loss: 0.0242 - val_mse: 0.0242\n",
            "Epoch 46/80\n",
            "\u001b[1m25/25\u001b[0m \u001b[32m━━━━━━━━━━━━━━━━━━━━\u001b[0m\u001b[37m\u001b[0m \u001b[1m0s\u001b[0m 4ms/step - loss: 0.0000e+00 - mse: 0.0000e+00 - val_loss: 0.0242 - val_mse: 0.0242\n",
            "Epoch 47/80\n",
            "\u001b[1m25/25\u001b[0m \u001b[32m━━━━━━━━━━━━━━━━━━━━\u001b[0m\u001b[37m\u001b[0m \u001b[1m2s\u001b[0m 66ms/step - loss: 0.0144 - mse: 0.0144 - val_loss: 0.0238 - val_mse: 0.0238\n",
            "Epoch 48/80\n",
            "\u001b[1m25/25\u001b[0m \u001b[32m━━━━━━━━━━━━━━━━━━━━\u001b[0m\u001b[37m\u001b[0m \u001b[1m0s\u001b[0m 6ms/step - loss: 0.0000e+00 - mse: 0.0000e+00 - val_loss: 0.0238 - val_mse: 0.0238\n",
            "Epoch 49/80\n",
            "\u001b[1m25/25\u001b[0m \u001b[32m━━━━━━━━━━━━━━━━━━━━\u001b[0m\u001b[37m\u001b[0m \u001b[1m2s\u001b[0m 89ms/step - loss: 0.0141 - mse: 0.0141 - val_loss: 0.0234 - val_mse: 0.0234\n",
            "Epoch 50/80\n",
            "\u001b[1m25/25\u001b[0m \u001b[32m━━━━━━━━━━━━━━━━━━━━\u001b[0m\u001b[37m\u001b[0m \u001b[1m0s\u001b[0m 7ms/step - loss: 0.0000e+00 - mse: 0.0000e+00 - val_loss: 0.0234 - val_mse: 0.0234\n",
            "Epoch 51/80\n",
            "\u001b[1m25/25\u001b[0m \u001b[32m━━━━━━━━━━━━━━━━━━━━\u001b[0m\u001b[37m\u001b[0m \u001b[1m2s\u001b[0m 91ms/step - loss: 0.0139 - mse: 0.0139 - val_loss: 0.0231 - val_mse: 0.0231\n",
            "Epoch 52/80\n",
            "\u001b[1m25/25\u001b[0m \u001b[32m━━━━━━━━━━━━━━━━━━━━\u001b[0m\u001b[37m\u001b[0m \u001b[1m0s\u001b[0m 4ms/step - loss: 0.0000e+00 - mse: 0.0000e+00 - val_loss: 0.0231 - val_mse: 0.0231\n",
            "Epoch 53/80\n",
            "\u001b[1m25/25\u001b[0m \u001b[32m━━━━━━━━━━━━━━━━━━━━\u001b[0m\u001b[37m\u001b[0m \u001b[1m2s\u001b[0m 59ms/step - loss: 0.0137 - mse: 0.0137 - val_loss: 0.0228 - val_mse: 0.0228\n",
            "Epoch 54/80\n",
            "\u001b[1m25/25\u001b[0m \u001b[32m━━━━━━━━━━━━━━━━━━━━\u001b[0m\u001b[37m\u001b[0m \u001b[1m0s\u001b[0m 4ms/step - loss: 0.0000e+00 - mse: 0.0000e+00 - val_loss: 0.0228 - val_mse: 0.0228\n",
            "Epoch 55/80\n",
            "\u001b[1m25/25\u001b[0m \u001b[32m━━━━━━━━━━━━━━━━━━━━\u001b[0m\u001b[37m\u001b[0m \u001b[1m1s\u001b[0m 58ms/step - loss: 0.0135 - mse: 0.0135 - val_loss: 0.0225 - val_mse: 0.0225\n",
            "Epoch 56/80\n",
            "\u001b[1m25/25\u001b[0m \u001b[32m━━━━━━━━━━━━━━━━━━━━\u001b[0m\u001b[37m\u001b[0m \u001b[1m0s\u001b[0m 4ms/step - loss: 0.0000e+00 - mse: 0.0000e+00 - val_loss: 0.0225 - val_mse: 0.0225\n",
            "Epoch 57/80\n",
            "\u001b[1m25/25\u001b[0m \u001b[32m━━━━━━━━━━━━━━━━━━━━\u001b[0m\u001b[37m\u001b[0m \u001b[1m2s\u001b[0m 59ms/step - loss: 0.0134 - mse: 0.0134 - val_loss: 0.0223 - val_mse: 0.0223\n",
            "Epoch 58/80\n",
            "\u001b[1m25/25\u001b[0m \u001b[32m━━━━━━━━━━━━━━━━━━━━\u001b[0m\u001b[37m\u001b[0m \u001b[1m0s\u001b[0m 4ms/step - loss: 0.0000e+00 - mse: 0.0000e+00 - val_loss: 0.0223 - val_mse: 0.0223\n",
            "Epoch 59/80\n",
            "\u001b[1m25/25\u001b[0m \u001b[32m━━━━━━━━━━━━━━━━━━━━\u001b[0m\u001b[37m\u001b[0m \u001b[1m1s\u001b[0m 58ms/step - loss: 0.0132 - mse: 0.0132 - val_loss: 0.0221 - val_mse: 0.0221\n",
            "Epoch 60/80\n",
            "\u001b[1m25/25\u001b[0m \u001b[32m━━━━━━━━━━━━━━━━━━━━\u001b[0m\u001b[37m\u001b[0m \u001b[1m0s\u001b[0m 4ms/step - loss: 0.0000e+00 - mse: 0.0000e+00 - val_loss: 0.0221 - val_mse: 0.0221\n",
            "Epoch 61/80\n",
            "\u001b[1m25/25\u001b[0m \u001b[32m━━━━━━━━━━━━━━━━━━━━\u001b[0m\u001b[37m\u001b[0m \u001b[1m2s\u001b[0m 59ms/step - loss: 0.0131 - mse: 0.0131 - val_loss: 0.0220 - val_mse: 0.0220\n",
            "Epoch 62/80\n",
            "\u001b[1m25/25\u001b[0m \u001b[32m━━━━━━━━━━━━━━━━━━━━\u001b[0m\u001b[37m\u001b[0m \u001b[1m0s\u001b[0m 5ms/step - loss: 0.0000e+00 - mse: 0.0000e+00 - val_loss: 0.0220 - val_mse: 0.0220\n",
            "Epoch 63/80\n",
            "\u001b[1m25/25\u001b[0m \u001b[32m━━━━━━━━━━━━━━━━━━━━\u001b[0m\u001b[37m\u001b[0m \u001b[1m2s\u001b[0m 74ms/step - loss: 0.0130 - mse: 0.0130 - val_loss: 0.0218 - val_mse: 0.0218\n",
            "Epoch 64/80\n",
            "\u001b[1m25/25\u001b[0m \u001b[32m━━━━━━━━━━━━━━━━━━━━\u001b[0m\u001b[37m\u001b[0m \u001b[1m0s\u001b[0m 6ms/step - loss: 0.0000e+00 - mse: 0.0000e+00 - val_loss: 0.0218 - val_mse: 0.0218\n",
            "Epoch 65/80\n",
            "\u001b[1m25/25\u001b[0m \u001b[32m━━━━━━━━━━━━━━━━━━━━\u001b[0m\u001b[37m\u001b[0m \u001b[1m3s\u001b[0m 91ms/step - loss: 0.0129 - mse: 0.0129 - val_loss: 0.0217 - val_mse: 0.0217\n",
            "Epoch 66/80\n",
            "\u001b[1m25/25\u001b[0m \u001b[32m━━━━━━━━━━━━━━━━━━━━\u001b[0m\u001b[37m\u001b[0m \u001b[1m0s\u001b[0m 8ms/step - loss: 0.0000e+00 - mse: 0.0000e+00 - val_loss: 0.0217 - val_mse: 0.0217\n",
            "Epoch 67/80\n",
            "\u001b[1m25/25\u001b[0m \u001b[32m━━━━━━━━━━━━━━━━━━━━\u001b[0m\u001b[37m\u001b[0m \u001b[1m2s\u001b[0m 73ms/step - loss: 0.0129 - mse: 0.0129 - val_loss: 0.0216 - val_mse: 0.0216\n",
            "Epoch 68/80\n",
            "\u001b[1m25/25\u001b[0m \u001b[32m━━━━━━━━━━━━━━━━━━━━\u001b[0m\u001b[37m\u001b[0m \u001b[1m0s\u001b[0m 4ms/step - loss: 0.0000e+00 - mse: 0.0000e+00 - val_loss: 0.0216 - val_mse: 0.0216\n",
            "Epoch 69/80\n",
            "\u001b[1m25/25\u001b[0m \u001b[32m━━━━━━━━━━━━━━━━━━━━\u001b[0m\u001b[37m\u001b[0m \u001b[1m2s\u001b[0m 59ms/step - loss: 0.0128 - mse: 0.0128 - val_loss: 0.0215 - val_mse: 0.0215\n",
            "Epoch 70/80\n",
            "\u001b[1m25/25\u001b[0m \u001b[32m━━━━━━━━━━━━━━━━━━━━\u001b[0m\u001b[37m\u001b[0m \u001b[1m0s\u001b[0m 4ms/step - loss: 0.0000e+00 - mse: 0.0000e+00 - val_loss: 0.0215 - val_mse: 0.0215\n",
            "Epoch 71/80\n",
            "\u001b[1m25/25\u001b[0m \u001b[32m━━━━━━━━━━━━━━━━━━━━\u001b[0m\u001b[37m\u001b[0m \u001b[1m2s\u001b[0m 60ms/step - loss: 0.0127 - mse: 0.0127 - val_loss: 0.0214 - val_mse: 0.0214\n",
            "Epoch 72/80\n",
            "\u001b[1m25/25\u001b[0m \u001b[32m━━━━━━━━━━━━━━━━━━━━\u001b[0m\u001b[37m\u001b[0m \u001b[1m0s\u001b[0m 4ms/step - loss: 0.0000e+00 - mse: 0.0000e+00 - val_loss: 0.0214 - val_mse: 0.0214\n",
            "Epoch 73/80\n",
            "\u001b[1m25/25\u001b[0m \u001b[32m━━━━━━━━━━━━━━━━━━━━\u001b[0m\u001b[37m\u001b[0m \u001b[1m2s\u001b[0m 59ms/step - loss: 0.0126 - mse: 0.0126 - val_loss: 0.0213 - val_mse: 0.0213\n",
            "Epoch 74/80\n",
            "\u001b[1m25/25\u001b[0m \u001b[32m━━━━━━━━━━━━━━━━━━━━\u001b[0m\u001b[37m\u001b[0m \u001b[1m0s\u001b[0m 4ms/step - loss: 0.0000e+00 - mse: 0.0000e+00 - val_loss: 0.0213 - val_mse: 0.0213\n",
            "Epoch 75/80\n",
            "\u001b[1m25/25\u001b[0m \u001b[32m━━━━━━━━━━━━━━━━━━━━\u001b[0m\u001b[37m\u001b[0m \u001b[1m2s\u001b[0m 59ms/step - loss: 0.0126 - mse: 0.0126 - val_loss: 0.0212 - val_mse: 0.0212\n",
            "Epoch 76/80\n",
            "\u001b[1m25/25\u001b[0m \u001b[32m━━━━━━━━━━━━━━━━━━━━\u001b[0m\u001b[37m\u001b[0m \u001b[1m0s\u001b[0m 5ms/step - loss: 0.0000e+00 - mse: 0.0000e+00 - val_loss: 0.0212 - val_mse: 0.0212\n",
            "Epoch 77/80\n",
            "\u001b[1m25/25\u001b[0m \u001b[32m━━━━━━━━━━━━━━━━━━━━\u001b[0m\u001b[37m\u001b[0m \u001b[1m4s\u001b[0m 106ms/step - loss: 0.0125 - mse: 0.0125 - val_loss: 0.0212 - val_mse: 0.0212\n",
            "Epoch 78/80\n",
            "\u001b[1m25/25\u001b[0m \u001b[32m━━━━━━━━━━━━━━━━━━━━\u001b[0m\u001b[37m\u001b[0m \u001b[1m0s\u001b[0m 6ms/step - loss: 0.0000e+00 - mse: 0.0000e+00 - val_loss: 0.0212 - val_mse: 0.0212\n",
            "Epoch 79/80\n",
            "\u001b[1m25/25\u001b[0m \u001b[32m━━━━━━━━━━━━━━━━━━━━\u001b[0m\u001b[37m\u001b[0m \u001b[1m2s\u001b[0m 85ms/step - loss: 0.0125 - mse: 0.0125 - val_loss: 0.0211 - val_mse: 0.0211\n",
            "Epoch 80/80\n",
            "\u001b[1m25/25\u001b[0m \u001b[32m━━━━━━━━━━━━━━━━━━━━\u001b[0m\u001b[37m\u001b[0m \u001b[1m0s\u001b[0m 5ms/step - loss: 0.0000e+00 - mse: 0.0000e+00 - val_loss: 0.0211 - val_mse: 0.0211\n"
          ]
        }
      ]
    },
    {
      "cell_type": "markdown",
      "source": [
        "# Evaluasi"
      ],
      "metadata": {
        "id": "pDIou71tzMUY"
      }
    },
    {
      "cell_type": "markdown",
      "source": [
        "Selanjutnya, kita akan menggunakan fungsi prep_data untuk menyiapkan data uji dan memasukkannya ke dalam model terlatih kita untuk meramalkan 30 data berikutnya. Selain itu, fungsi ini juga menyiapkan data masa lalu untuk keperluan plotting serta groundtruth untuk validasi. Argumen — start , end dan last akan dimaksudkan oleh —\n",
        "\n",
        "mulai, akhir: Untuk menentukan rentang Data Uji berdasarkan n_steps_in . dapat berupa titik mana pun dalam kumpulan data uji.\n",
        "terakhir : data terakhir dari nilai prediksi berdasarkan n_step_out .\n",
        "Untuk menggunakan fungsi ini, cukup masukkan x1_test_scaled , x2_test_scaled, y_test dan tentukan argumen awal . Akhir & akhir akan dihitung secara otomatis."
      ],
      "metadata": {
        "id": "4FutxLS4MR4P"
      }
    },
    {
      "cell_type": "code",
      "source": [
        "# definisi data\n",
        "x1_test = df['Pembukaan'].values\n",
        "x2_test =  df['Tertinggi'].values\n",
        "x3_test =  df['Terendah'].values\n",
        "y_test = df['Penutupan'].values # no need to scale\n",
        "\n",
        "# convert to [rows, columns] structure\n",
        "x1_test = x1_test.reshape((len(x1_test), 1))\n",
        "x2_test = x2_test.reshape((len(x2_test), 1))\n",
        "x3_test = x3_test.reshape((len(x3_test), 1))\n",
        "y_test = y_test.reshape((len(y_test), 1))\n",
        "\n",
        "x1_test_scaled = scaler.fit_transform(x1_test)\n",
        "x2_test_scaled = scaler.fit_transform(x2_test)\n",
        "x3_test_scaled = scaler.fit_transform(x3_test)"
      ],
      "metadata": {
        "id": "ekdQ9JHj5vYI"
      },
      "execution_count": 42,
      "outputs": []
    },
    {
      "cell_type": "markdown",
      "source": [
        "Selanjutnya, kita akan mengevaluasi hasil prakiraan dengan metrik MAE dan RMSE dengan menggunakan fungsi evaluate_prediction . Cukup masukkan hasil prakiraan dan groundtruth dari fungsi prep_data ."
      ],
      "metadata": {
        "id": "RXV8TsIxMW68"
      }
    },
    {
      "cell_type": "code",
      "source": [
        "def prep_data(x1_test_scaled , x2_test_scaled , x3_test_scaled, y_test , start , end , last):\n",
        "    #prepare test data X\n",
        "    dataset_test = hstack((x1_test_scaled, x2_test_scaled, x3_test_scaled))\n",
        "    dataset_test_X = dataset_test[start:end, :]\n",
        "    test_X_new = dataset_test_X.reshape(1, dataset_test_X.shape[0] , dataset_test_X.shape[1])\n",
        "\n",
        "    #prepare past and groundtruth\n",
        "    past_data = y_test[:end , :]\n",
        "    dataset_test_y = y_test[end:last , :]\n",
        "    scaler1 = MinMaxScaler(feature_range=(0, 1))\n",
        "    scaler1.fit(dataset_test_y)\n",
        "\n",
        "    # predictions\n",
        "    y_pred = model.predict(test_X_new)\n",
        "    y_pred_inv = scaler1.inverse_transform(y_pred)\n",
        "    y_pred_inv = y_pred_inv.reshape(n_steps_out,1)\n",
        "    y_pred_inv = y_pred_inv[:,0]\n",
        "\n",
        "    return y_pred_inv , dataset_test_y , past_data\n",
        "\n",
        "# Calculate MAE and RMSE\n",
        "def evaluate_prediction(predictions, actual, model_name , start , end):\n",
        "    errors = predictions - actual\n",
        "    mse = np.square(errors).mean()\n",
        "    rmse = np.sqrt(mse)\n",
        "    mae = np.abs(errors).mean()\n",
        "\n",
        "    print(\"Test Data from {} to {}\".format(start, end))\n",
        "    print('Mean Absolute Error: {:.2f}'.format(mae))\n",
        "    print('Root Mean Square Error: {:.2f}'.format(rmse))\n",
        "    print('')\n",
        "    print('')\n",
        "\n",
        "# Plot history and future\n",
        "def plot_multistep(history, prediction1 , groundtruth , start , end):\n",
        "\n",
        "    plt.figure(figsize=(20, 4))\n",
        "\n",
        "    y_mean = mean(prediction1)\n",
        "\n",
        "    range_history = len(history)\n",
        "    range_future = list(range(range_history, range_history + len(prediction1)))\n",
        "\n",
        "    plt.plot(np.arange(range_history), np.array(history), label='History')\n",
        "    plt.plot(range_future, np.array(prediction1),label='Forecasted with LSTM')\n",
        "    plt.plot(range_future, np.array(groundtruth),label='GroundTruth')\n",
        "\n",
        "    plt.legend(loc='upper right')\n",
        "    plt.title(\"Test Data from {} to {} , Mean = {:.2f}\".format(start, end, y_mean) ,  fontsize=18)\n",
        "    plt.xlabel('Time step' ,  fontsize=18)\n",
        "    plt.ylabel('y-value' , fontsize=18)"
      ],
      "metadata": {
        "id": "vmoUmTupzOC0"
      },
      "execution_count": 43,
      "outputs": []
    },
    {
      "cell_type": "markdown",
      "source": [
        "Terakhir, kita akan memplot grafik dengan menggunakan fungsi plot_multistep . Cukup masukkan past_data, hasil perkiraan, dan groundtruth."
      ],
      "metadata": {
        "id": "AY8UxbRfMfyr"
      }
    },
    {
      "cell_type": "code",
      "source": [
        "# Plot history and future\n",
        "def plot_multistep(history, prediction1 , groundtruth , start , end):\n",
        "    plt.figure(figsize=(20, 4))\n",
        "    y_mean = mean(prediction1)\n",
        "    range_history = len(history)\n",
        "    range_future = list(range(range_history, range_history + len(prediction1)))\n",
        "    plt.plot(np.arange(range_history), np.array(history), label='History')\n",
        "    plt.plot(range_future, np.array(prediction1),label='Forecasted with LSTM')\n",
        "    plt.plot(range_future, np.array(groundtruth),label='GroundTruth')\n",
        "    plt.legend(loc='upper right')\n",
        "    plt.title(\"Test Data from {} to {} , Mean = {:.2f}\".format(start, end, y_mean) ,  fontsize=18)\n",
        "    plt.xlabel('Time step' ,  fontsize=18)\n",
        "    plt.ylabel('y-value' , fontsize=18)"
      ],
      "metadata": {
        "id": "snkET0OdzRQ5"
      },
      "execution_count": 44,
      "outputs": []
    },
    {
      "cell_type": "markdown",
      "source": [
        "Untuk setiap kumpulan data uji, 120 hingga 180 dan 180 hingga 240 akan menjadi data pengujian yang akan dimasukkan ke dalam model yang dilatih."
      ],
      "metadata": {
        "id": "WVkpLWJsMk3m"
      }
    },
    {
      "cell_type": "code",
      "source": [
        "for i in range(120,240,60):\n",
        "    start = i\n",
        "    end = start + n_steps_in\n",
        "    last = end + n_steps_out\n",
        "    y_pred_inv , dataset_test_y , past_data = prep_data(x1_test_scaled , x2_test_scaled, x3_test_scaled , y_test , start , end , last)\n",
        "    evaluate_prediction(y_pred_inv , dataset_test_y, 'LSTM' , start , end)\n",
        "    plot_multistep(past_data , y_pred_inv , dataset_test_y , start , end)\n"
      ],
      "metadata": {
        "colab": {
          "base_uri": "https://localhost:8080/",
          "height": 624
        },
        "id": "p4BYuyPjzUd9",
        "outputId": "451c8271-fb6c-4237-ece6-f7a4aca8aaff"
      },
      "execution_count": 45,
      "outputs": [
        {
          "output_type": "stream",
          "name": "stdout",
          "text": [
            "\u001b[1m1/1\u001b[0m \u001b[32m━━━━━━━━━━━━━━━━━━━━\u001b[0m\u001b[37m\u001b[0m \u001b[1m0s\u001b[0m 306ms/step\n",
            "Test Data from 120 to 180\n",
            "Mean Absolute Error: 0.11\n",
            "Root Mean Square Error: 0.12\n",
            "\n",
            "\n",
            "\u001b[1m1/1\u001b[0m \u001b[32m━━━━━━━━━━━━━━━━━━━━\u001b[0m\u001b[37m\u001b[0m \u001b[1m0s\u001b[0m 25ms/step\n",
            "Test Data from 180 to 240\n",
            "Mean Absolute Error: 0.07\n",
            "Root Mean Square Error: 0.09\n",
            "\n",
            "\n"
          ]
        },
        {
          "output_type": "display_data",
          "data": {
            "text/plain": [
              "<Figure size 2000x400 with 1 Axes>"
            ],
            "image/png": "[encoded data removed]"
          },
          "metadata": {}
        },
        {
          "output_type": "display_data",
          "data": {
            "text/plain": [
              "<Figure size 2000x400 with 1 Axes>"
            ],
            "image/png": "[encoded data removed]"
          },
          "metadata": {}
        }
      ]
    },
    {
      "cell_type": "markdown",
      "source": [
        "## Save & Load Model"
      ],
      "metadata": {
        "id": "A6cXm1eZxDJ4"
      }
    },
    {
      "cell_type": "markdown",
      "source": [
        "Langkah selanjutnya adalah melakukan deployment menggunakan model terbaik, dari skenario yang saya lakukan model LSTM dengan menggunakan Multivariate dan Multi-Step ini memiliki nilai error yang paling sedikit, sehingga model ini akan saya simpan dan akan saya gunakan untuk deployment nantinya."
      ],
      "metadata": {
        "id": "iVEYNP7ENBwD"
      }
    },
    {
      "cell_type": "code",
      "source": [
        "model_url = '/content/drive/MyDrive/PSD/model/lstm-multistep-multivariate.h5'\n",
        "model.save(model_url)\n",
        "print(\"Saved\")"
      ],
      "metadata": {
        "colab": {
          "base_uri": "https://localhost:8080/"
        },
        "id": "OEND5rHqxB0i",
        "outputId": "90f02aa9-b2fb-42c7-a023-75091b21dedb"
      },
      "execution_count": 46,
      "outputs": [
        {
          "output_type": "stream",
          "name": "stderr",
          "text": [
            "WARNING:absl:You are saving your model as an HDF5 file via `model.save()` or `keras.saving.save_model(model)`. This file format is considered legacy. We recommend using instead the native Keras format, e.g. `model.save('my_model.keras')` or `keras.saving.save_model(model, 'my_model.keras')`. \n"
          ]
        },
        {
          "output_type": "stream",
          "name": "stdout",
          "text": [
            "Saved\n"
          ]
        }
      ]
    },
    {
      "cell_type": "code",
      "source": [
        "model_url = '/content/drive/MyDrive/PSD/model/lstm-multistep-multivariate.h5'\n",
        "model = tf.keras.models.load_model(model_url, custom_objects={'mse': tf.keras.losses.MeanSquaredError()})\n",
        "print(\"Loaded\")\n",
        "model.summary()"
      ],
      "metadata": {
        "colab": {
          "base_uri": "https://localhost:8080/",
          "height": 329
        },
        "id": "O5S-SR8lxHUy",
        "outputId": "19b6e795-db40-4d7c-abe0-1fb247e00665"
      },
      "execution_count": 47,
      "outputs": [
        {
          "output_type": "stream",
          "name": "stderr",
          "text": [
            "WARNING:absl:Compiled the loaded model, but the compiled metrics have yet to be built. `model.compile_metrics` will be empty until you train or evaluate the model.\n"
          ]
        },
        {
          "output_type": "stream",
          "name": "stdout",
          "text": [
            "Loaded\n"
          ]
        },
        {
          "output_type": "display_data",
          "data": {
            "text/plain": [
              "\u001b[1mModel: \"sequential\"\u001b[0m\n"
            ],
            "text/html": [
              "<pre style=\"white-space:pre;overflow-x:auto;line-height:normal;font-family:Menlo,'DejaVu Sans Mono',consolas,'Courier New',monospace\"><span style=\"font-weight: bold\">Model: \"sequential\"</span>\n",
              "</pre>\n"
            ]
          },
          "metadata": {}
        },
        {
          "output_type": "display_data",
          "data": {
            "text/plain": [
              "┏━━━━━━━━━━━━━━━━━━━━━━━━━━━━━━━━━━━━━━┳━━━━━━━━━━━━━━━━━━━━━━━━━━━━━┳━━━━━━━━━━━━━━━━━┓\n",
              "┃\u001b[1m \u001b[0m\u001b[1mLayer (type)                        \u001b[0m\u001b[1m \u001b[0m┃\u001b[1m \u001b[0m\u001b[1mOutput Shape               \u001b[0m\u001b[1m \u001b[0m┃\u001b[1m \u001b[0m\u001b[1m        Param #\u001b[0m\u001b[1m \u001b[0m┃\n",
              "┡━━━━━━━━━━━━━━━━━━━━━━━━━━━━━━━━━━━━━━╇━━━━━━━━━━━━━━━━━━━━━━━━━━━━━╇━━━━━━━━━━━━━━━━━┩\n",
              "│ lstm (\u001b[38;5;33mLSTM\u001b[0m)                          │ (\u001b[38;5;45mNone\u001b[0m, \u001b[38;5;34m60\u001b[0m, \u001b[38;5;34m50\u001b[0m)              │          \u001b[38;5;34m10,800\u001b[0m │\n",
              "├──────────────────────────────────────┼─────────────────────────────┼─────────────────┤\n",
              "│ lstm_1 (\u001b[38;5;33mLSTM\u001b[0m)                        │ (\u001b[38;5;45mNone\u001b[0m, \u001b[38;5;34m50\u001b[0m)                  │          \u001b[38;5;34m20,200\u001b[0m │\n",
              "├──────────────────────────────────────┼─────────────────────────────┼─────────────────┤\n",
              "│ dense (\u001b[38;5;33mDense\u001b[0m)                        │ (\u001b[38;5;45mNone\u001b[0m, \u001b[38;5;34m30\u001b[0m)                  │           \u001b[38;5;34m1,530\u001b[0m │\n",
              "├──────────────────────────────────────┼─────────────────────────────┼─────────────────┤\n",
              "│ activation (\u001b[38;5;33mActivation\u001b[0m)              │ (\u001b[38;5;45mNone\u001b[0m, \u001b[38;5;34m30\u001b[0m)                  │               \u001b[38;5;34m0\u001b[0m │\n",
              "└──────────────────────────────────────┴─────────────────────────────┴─────────────────┘\n"
            ],
            "text/html": [
              "<pre style=\"white-space:pre;overflow-x:auto;line-height:normal;font-family:Menlo,'DejaVu Sans Mono',consolas,'Courier New',monospace\">┏━━━━━━━━━━━━━━━━━━━━━━━━━━━━━━━━━━━━━━┳━━━━━━━━━━━━━━━━━━━━━━━━━━━━━┳━━━━━━━━━━━━━━━━━┓\n",
              "┃<span style=\"font-weight: bold\"> Layer (type)                         </span>┃<span style=\"font-weight: bold\"> Output Shape                </span>┃<span style=\"font-weight: bold\">         Param # </span>┃\n",
              "┡━━━━━━━━━━━━━━━━━━━━━━━━━━━━━━━━━━━━━━╇━━━━━━━━━━━━━━━━━━━━━━━━━━━━━╇━━━━━━━━━━━━━━━━━┩\n",
              "│ lstm (<span style=\"color: #0087ff; text-decoration-color: #0087ff\">LSTM</span>)                          │ (<span style=\"color: #00d7ff; text-decoration-color: #00d7ff\">None</span>, <span style=\"color: #00af00; text-decoration-color: #00af00\">60</span>, <span style=\"color: #00af00; text-decoration-color: #00af00\">50</span>)              │          <span style=\"color: #00af00; text-decoration-color: #00af00\">10,800</span> │\n",
              "├──────────────────────────────────────┼─────────────────────────────┼─────────────────┤\n",
              "│ lstm_1 (<span style=\"color: #0087ff; text-decoration-color: #0087ff\">LSTM</span>)                        │ (<span style=\"color: #00d7ff; text-decoration-color: #00d7ff\">None</span>, <span style=\"color: #00af00; text-decoration-color: #00af00\">50</span>)                  │          <span style=\"color: #00af00; text-decoration-color: #00af00\">20,200</span> │\n",
              "├──────────────────────────────────────┼─────────────────────────────┼─────────────────┤\n",
              "│ dense (<span style=\"color: #0087ff; text-decoration-color: #0087ff\">Dense</span>)                        │ (<span style=\"color: #00d7ff; text-decoration-color: #00d7ff\">None</span>, <span style=\"color: #00af00; text-decoration-color: #00af00\">30</span>)                  │           <span style=\"color: #00af00; text-decoration-color: #00af00\">1,530</span> │\n",
              "├──────────────────────────────────────┼─────────────────────────────┼─────────────────┤\n",
              "│ activation (<span style=\"color: #0087ff; text-decoration-color: #0087ff\">Activation</span>)              │ (<span style=\"color: #00d7ff; text-decoration-color: #00d7ff\">None</span>, <span style=\"color: #00af00; text-decoration-color: #00af00\">30</span>)                  │               <span style=\"color: #00af00; text-decoration-color: #00af00\">0</span> │\n",
              "└──────────────────────────────────────┴─────────────────────────────┴─────────────────┘\n",
              "</pre>\n"
            ]
          },
          "metadata": {}
        },
        {
          "output_type": "display_data",
          "data": {
            "text/plain": [
              "\u001b[1m Total params: \u001b[0m\u001b[38;5;34m32,532\u001b[0m (127.08 KB)\n"
            ],
            "text/html": [
              "<pre style=\"white-space:pre;overflow-x:auto;line-height:normal;font-family:Menlo,'DejaVu Sans Mono',consolas,'Courier New',monospace\"><span style=\"font-weight: bold\"> Total params: </span><span style=\"color: #00af00; text-decoration-color: #00af00\">32,532</span> (127.08 KB)\n",
              "</pre>\n"
            ]
          },
          "metadata": {}
        },
        {
          "output_type": "display_data",
          "data": {
            "text/plain": [
              "\u001b[1m Trainable params: \u001b[0m\u001b[38;5;34m32,530\u001b[0m (127.07 KB)\n"
            ],
            "text/html": [
              "<pre style=\"white-space:pre;overflow-x:auto;line-height:normal;font-family:Menlo,'DejaVu Sans Mono',consolas,'Courier New',monospace\"><span style=\"font-weight: bold\"> Trainable params: </span><span style=\"color: #00af00; text-decoration-color: #00af00\">32,530</span> (127.07 KB)\n",
              "</pre>\n"
            ]
          },
          "metadata": {}
        },
        {
          "output_type": "display_data",
          "data": {
            "text/plain": [
              "\u001b[1m Non-trainable params: \u001b[0m\u001b[38;5;34m0\u001b[0m (0.00 B)\n"
            ],
            "text/html": [
              "<pre style=\"white-space:pre;overflow-x:auto;line-height:normal;font-family:Menlo,'DejaVu Sans Mono',consolas,'Courier New',monospace\"><span style=\"font-weight: bold\"> Non-trainable params: </span><span style=\"color: #00af00; text-decoration-color: #00af00\">0</span> (0.00 B)\n",
              "</pre>\n"
            ]
          },
          "metadata": {}
        },
        {
          "output_type": "display_data",
          "data": {
            "text/plain": [
              "\u001b[1m Optimizer params: \u001b[0m\u001b[38;5;34m2\u001b[0m (12.00 B)\n"
            ],
            "text/html": [
              "<pre style=\"white-space:pre;overflow-x:auto;line-height:normal;font-family:Menlo,'DejaVu Sans Mono',consolas,'Courier New',monospace\"><span style=\"font-weight: bold\"> Optimizer params: </span><span style=\"color: #00af00; text-decoration-color: #00af00\">2</span> (12.00 B)\n",
              "</pre>\n"
            ]
          },
          "metadata": {}
        }
      ]
    }
  ],
  "metadata": {
    "colab": {
      "provenance": [],
      "toc_visible": true
    },
    "kernelspec": {
      "display_name": "Python 3",
      "name": "python3"
    },
    "language_info": {
      "name": "python"
    }
  },
  "nbformat": 4,
  "nbformat_minor": 0
}