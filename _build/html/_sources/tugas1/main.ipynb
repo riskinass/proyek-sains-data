{
  "cells": [
    {
      "cell_type": "markdown",
      "metadata": {
        "id": "LgHGXsExDsRo"
      },
      "source": [
        "# PENDAHULUAN\n"
      ]
    },
    {
      "cell_type": "markdown",
      "metadata": {
        "id": "VIcKcoThD9ni"
      },
      "source": [
        "## Latar Belakang\n",
        "Pada dasarnya tujuan didirikannya suatu perusahaan adalah untuk memperoleh laba, meningkatkan penjualan, memaksimalkan nilai saham, dan meningkatkan kesejahteraan pemegang saham. Namun, Laju perubahan harga saham terbilang cukup cepat, yaitu hanya dalam kurun waktu hitungan detik. Penyebabnya adalah adanya penilaian sesaat oleh para pembeli maupun penjual. Hal ini merupakan hal yang lumrah terjadi maka dari itu dengan selalu memperhatikan indeks harga saham dapat berguna sebagai alat prediksi dan analisis seperti harga saham yang tertinggi dan terendah.\n",
        "\n",
        "## Visi Misi\n",
        "PT Telkom Indonesia Tbk merupakan salah satu perusahaan telekomunikasi terkemuka di Indonesia yang berkomitmen untuk memberikan layanan komunikasi yang berkualitas. Visi perusahaan adalah \"Menjadi perusahaan telekomunikasi digital terdepan yang memberikan solusi terbaik untuk pelanggan.\" Misi PT Telkom Indonesia mencakup pengembangan infrastruktur telekomunikasi yang canggih, penyediaan layanan digital yang inovatif, serta penciptaan nilai bagi pemangku kepentingan.\n",
        "\n",
        "## Strategi Bisnis\n",
        "Strategi bisnis perusahaan berfokus pada transformasi digital dan peningkatan layanan berbasis teknologi informasi, termasuk penyediaan layanan internet cepat, mobile, dan solusi ICT (Information and Communication Technology) yang mendukung berbagai sektor. Dalam menghadapi era digital yang semakin kompetitif, PT Telkom berupaya untuk memperluas jangkauan layanannya, meningkatkan pengalaman pelanggan, dan menjalin kemitraan strategis untuk memperkuat posisinya di pasar.\n",
        "\n",
        "## Target Bisnis\n",
        "Target bisnis PT Telkom Indonesia adalah untuk mencapai pertumbuhan yang berkelanjutan dengan meningkatkan pangsa pasar di segmen layanan digital dan meningkatkan kepuasan pelanggan. Selain itu, perusahaan berkomitmen untuk meningkatkan kontribusi terhadap perekonomian nasional melalui inisiatif yang mendukung inklusi digital dan pemerataan akses layanan telekomunikasi di seluruh wilayah Indonesia.\n",
        "\n",
        "\n"
      ]
    },
    {
      "cell_type": "markdown",
      "metadata": {
        "id": "Faqav6IxD4BG"
      },
      "source": [
        "## Rumusan Masalah\n",
        "1. Data apa yang diperlukan untuk membangun model prediksi harga saham PT Telkom Indonesia Tbk?\n",
        "2. Metode analisis data apa yang paling efektif untuk memprediksi harga saham PT Telkom Indonesia Tbk berdasarkan data historis dan faktor-faktor eksternal?\n",
        "3. Bagaimana hasil prediksi dapat digunakan untuk mendukung keputusan investasi yang lebih baik dalam konteks PT Telkom Indonesia Tbk?"
      ]
    },
    {
      "cell_type": "markdown",
      "metadata": {
        "id": "SjKHJWUND1ht"
      },
      "source": [
        "## Tujuan\n",
        "1. Membangun model prediksi harga saham PT Telkom Indonesia Tbk berdasarkan data historis dan faktor-faktor eksternal yang relevan.\n",
        "2. Mengidentifikasi metode analisis data yang paling efektif untuk memprediksi pergerakan harga saham perusahaan secara akurat.\n",
        "3. Menyediakan hasil prediksi yang dapat digunakan untuk mendukung pengambilan keputusan investasi yang lebih cerdas dan menguntungkan."
      ]
    }
  ],
  "metadata": {
    "colab": {
      "provenance": []
    },
    "kernelspec": {
      "display_name": "Python 3",
      "name": "python3"
    },
    "language_info": {
      "name": "python"
    }
  },
  "nbformat": 4,
  "nbformat_minor": 0
}
