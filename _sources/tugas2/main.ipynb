{
  "cells": [
    {
      "cell_type": "markdown",
      "metadata": {
        "id": "HOPdPbpKAMuO"
      },
      "source": [
        "# DATA UNDERSTANDING"
      ]
    },
    {
      "cell_type": "markdown",
      "metadata": {
        "id": "N4R7V8tzMpzC"
      },
      "source": [
        "Saham adalah surat yang menjadi bukti kepemilikan sebagian modal suatu perusahaan. Saham merupakan salah satu instrumen investasi yang populer dan menjanjikan keuntungan.\n",
        "\n",
        "Investasi saham adalah kegiatan menanamkan modal pada perusahaan dengan membeli saham. Investor saham bisa mendapatkan keuntungan dari kenaikan harga saham (capital gain) dan dividen yang dibagikan perusahaan. Namun masih banyak investor yang ragu dengan resiko berinvestasi, khawatir yang diinvestasikan tidak sesuai dengan harapan dikarenakan fluktuasi indeks harga saham dalam waktu yang singkat.\n",
        "\n",
        "Untuk itu agar investor tidak mengalami kerugian saat membeli saham, maka diperlukan analisis terhadap saham yang ingin dibeli. Seperti dengan melakukan analisis pada saham PT Telkom Indonesia (TLKM) dan melakukan prediksi pada hari berikutnya dengan analisis teknikal.\n",
        "\n",
        "Pada studi kasusu kali ini saya akan menggunakan 2 (dua) metode Machine Learing untuk melakukan prediksi, yaitu Regresi Linear dan salah satu jenis Neural Network, yakni Long Short Term Memory (LSTM).\n",
        "\n",
        "\n",
        "\n"
      ]
    },
    {
      "cell_type": "markdown",
      "metadata": {
        "id": "YL-K__eEBXaB"
      },
      "source": [
        "## Requirment\n"
      ]
    },
    {
      "cell_type": "code",
      "execution_count": null,
      "metadata": {
        "id": "2QeJnCdNBlPB"
      },
      "outputs": [],
      "source": [
        "import pandas as pd\n",
        "import numpy as np\n",
        "import seaborn as sns\n",
        "import matplotlib.pyplot as plt\n",
        "import plotly.express as px"
      ]
    },
    {
      "cell_type": "markdown",
      "metadata": {
        "id": "KR2rq3wjRuXE"
      },
      "source": [
        "## Load Data"
      ]
    },
    {
      "cell_type": "code",
      "execution_count": null,
      "metadata": {
        "id": "9nFywQDHEEvb"
      },
      "outputs": [],
      "source": [
        "df = pd.read_csv('/content/drive/MyDrive/PSD/Tugas3/Data_Historis_TLKM.csv')"
      ]
    },
    {
      "cell_type": "markdown",
      "metadata": {
        "id": "eNMvReo3FVI3"
      },
      "source": [
        "## Deskripsi Data"
      ]
    },
    {
      "cell_type": "markdown",
      "metadata": {
        "id": "y1_ENTnHQX2O"
      },
      "source": [
        "Berdasarkan studi kasus saya, dataset yang akan saya gunakan merupakan data historis harga saham PT Telkom Indonesia Tbk (TLKM). Data ini berisi informasi tentang harga saham TLKM dari waktu ke waktu, termasuk harga penutupan, harga pembukaan, harga tertinggi, harga terendah, volume perdagangan, dan perubahan harga dalam persentase.Setiap baris data merepresentasikan data saham pada satu hari.\n",
        "\n",
        "Informasi penting yang terdapat pada dataset ini adalah:\n",
        "\n",
        "* Harga: Informasi harga saham dicatat dalam beberapa aspek yaitu harga terakhir, harga pembukaan, harga tertinggi, dan harga terendah dalam satu hari. Informasi ini menunjukkan fluktuasi harga saham TLKM dalam periode waktu tersebut.\n",
        "* Volume Perdagangan: Fitur 'Vol.' menunjukkan jumlah saham TLKM yang diperdagangkan pada hari itu. Volume perdagangan yang tinggi bisa mengindikasikan adanya aktivitas jual-beli yang aktif.\n",
        "* Perubahan Harga: Fitur 'Perubahan %' memberikan gambaran tentang persentase perubahan harga saham TLKM pada hari itu dibandingkan dengan hari sebelumnya. Nilainya bisa positif (menunjukkan kenaikan harga) atau negatif (menunjukkan penurunan harga).\n",
        "* Tanggal: Data ini menunjukkan kapan informasi harga saham tersebut direkam. Dengan informasi tanggal, saya dapat melakukan analisis berdasarkan waktu seperti tren pergerakan harga dalam periode tertentu.\n",
        "\n",
        "**Tujuan**:\n",
        "\n",
        "Tujuan saya menggunakan dataset ini adalah untuk melakukan prediksi harga saham TLKM di masa mendatang dengan menggunakan metode Machine Learning seperti Regresi Linear dan Long Short-Term Memory (LSTM). Dengan mempelajari pola historis dari data ini, model machine learning dapat dilatih untuk memperkirakan harga saham di hari berikutnya.\n",
        "\n",
        "**Tantangan**:\n",
        "\n",
        "Salah satu tantangan dalam mengolah dataset ini adalah tipe data pada fitur 'Vol.' dan 'Perubahan %' yang masih berupa 'object' dan perlu diubah ke tipe data numerik (float) sebelum digunakan untuk membuat model.\n",
        "\n",
        "**Kesimpulan**:\n",
        "\n",
        "Dataset ini memberikan informasi yang cukup lengkap tentang pergerakan harga saham TLKM. Dengan melakukan analisis dan pemrosesan data yang tepat, dataset ini dapat digunakan untuk membangun model prediksi harga saham yang akurat."
      ]
    },
    {
      "cell_type": "markdown",
      "metadata": {
        "id": "SsFfQxZYFaZc"
      },
      "source": [
        "## Penjelasan Fitur"
      ]
    },
    {
      "cell_type": "markdown",
      "metadata": {
        "id": "DHGH0diEPuu8"
      },
      "source": [
        "\n",
        "Dari dataset yang kami miliki terdapat beberapa attribut sebagai berikut:\n",
        "\n",
        "\n",
        "1.   **Tanggal**:\n",
        "      Data ini berisi tanggal saham dengan format Tanggal-Bulan-Tahun. Data ini memiliki tanggal minimum 01 Januari 2019 dan tanggal maksimum 29 September 2024. Tipe datanya adalah datetime (Nominal).\n",
        "\n",
        "\n",
        "2.   **Terakhir**: Menunjukkan harga penutupan saham pada hari tersebut. Tipe datanya adalah float64 (Numerik).\n",
        "\n",
        "\n",
        "3.   **Pembukaan**: Menunjukkan harga pembukaan saham pada hari tersebut. Tipe datanya adalah float64 (Numerik).\n",
        "\n",
        "\n",
        "4.   **Tinggi**: Menunjukkan harga saham tertinggi yang dicapai pada hari tersebut. Tipe datanya adalah float64 (Numerik).\n",
        "\n",
        "\n",
        "5.   **Rendah**: Menunjukkan harga terendah saham yang dicapai pada hari tersebut. Tipe datanya adalah float64 (Numerik).\n",
        "\n",
        "\n",
        "6.   **Vol. (Volume)**: Menunjukkan volume perdagangan saham pada hari tersebut, yaitu jumlah saham yang diperdagangkan. Tipe datanya adalah obyek karena mengandung karakter non-numerik.\n",
        "\n",
        "\n",
        "7.   **Perubahan %** : Menunjukkan persentase perubahan harga saham pada hari tersebut dibandingkan dengan hari sebelumnya. Tipe datanya adalah obyek karena mengandung karakter non-numerik.\n",
        "\n",
        "\n",
        "\n"
      ]
    },
    {
      "cell_type": "markdown",
      "metadata": {
        "id": "bn6HUeeuFPEt"
      },
      "source": [
        "## EDA"
      ]
    },
    {
      "cell_type": "code",
      "execution_count": null,
      "metadata": {
        "colab": {
          "base_uri": "https://localhost:8080/"
        },
        "id": "WHDtj0_07n96",
        "outputId": "3a7571d0-28a5-4fb9-80f3-2568c031aa5d"
      },
      "outputs": [
        {
          "name": "stdout",
          "output_type": "stream",
          "text": [
            "shape: (1390, 7)\n",
            "count of rows with missing values: 5\n",
            "columns: Index(['Tanggal', 'Terakhir', 'Pembukaan', 'Tertinggi', 'Terendah', 'Vol.',\n",
            "       'Perubahan%'],\n",
            "      dtype='object')\n"
          ]
        }
      ],
      "source": [
        "print(f\"shape: {df.shape}\")\n",
        "print(f\"count of rows with missing values: {len(df[df.isna().any(axis=1)])}\") # 0\n",
        "print(f\"columns: {df.columns}\")"
      ]
    },
    {
      "cell_type": "markdown",
      "metadata": {
        "id": "AWY3vNp5UGxj"
      },
      "source": [
        "Dari informasi di atas kita mendapatkan informasi mengenai beberapa hal, antara lain:\n",
        "\n",
        "1. df.shape => menampilkan jumlah kolom dan baris dari dataset, terdapat **1390** baris dan **7** kolom.\n",
        "2. Terdapat missing values sebanyak **5**\n",
        "3. Isi kolomnya antara lain => Tanggal, Terakhir, Pembukaan, Tertinggi, Terendah, Vol., Perubahan%"
      ]
    },
    {
      "cell_type": "markdown",
      "metadata": {
        "id": "3i7slYjjGqVd"
      },
      "source": [
        "### Mengecek Beberapa Baris Pertama Dataset"
      ]
    },
    {
      "cell_type": "code",
      "execution_count": null,
      "metadata": {
        "colab": {
          "base_uri": "https://localhost:8080/",
          "height": 206
        },
        "id": "Qcsqc5KBFnEE",
        "outputId": "2d614ef2-ae15-48ad-aeab-0251749c5b60"
      },
      "outputs": [
        {
          "data": {
            "application/vnd.google.colaboratory.intrinsic+json": {
              "summary": "{\n  \"name\": \"df\",\n  \"rows\": 1390,\n  \"fields\": [\n    {\n      \"column\": \"Tanggal\",\n      \"properties\": {\n        \"dtype\": \"string\",\n        \"num_unique_values\": 1390,\n        \"samples\": [\n          \"16/04/2021\",\n          \"11/09/2019\",\n          \"20/12/2019\"\n        ],\n        \"semantic_type\": \"\",\n        \"description\": \"\"\n      }\n    },\n    {\n      \"column\": \"Terakhir\",\n      \"properties\": {\n        \"dtype\": \"number\",\n        \"std\": 0.49022921443086176,\n        \"min\": 2.56,\n        \"max\": 4.77,\n        \"num_unique_values\": 207,\n        \"samples\": [\n          3.48,\n          3.84,\n          3.96\n        ],\n        \"semantic_type\": \"\",\n        \"description\": \"\"\n      }\n    },\n    {\n      \"column\": \"Pembukaan\",\n      \"properties\": {\n        \"dtype\": \"number\",\n        \"std\": 0.4883433650046665,\n        \"min\": 2.55,\n        \"max\": 4.85,\n        \"num_unique_values\": 207,\n        \"samples\": [\n          3.45,\n          3.88,\n          4.03\n        ],\n        \"semantic_type\": \"\",\n        \"description\": \"\"\n      }\n    },\n    {\n      \"column\": \"Tertinggi\",\n      \"properties\": {\n        \"dtype\": \"number\",\n        \"std\": 0.4872006556016458,\n        \"min\": 2.59,\n        \"max\": 4.85,\n        \"num_unique_values\": 211,\n        \"samples\": [\n          4.03,\n          4.39,\n          2.69\n        ],\n        \"semantic_type\": \"\",\n        \"description\": \"\"\n      }\n    },\n    {\n      \"column\": \"Terendah\",\n      \"properties\": {\n        \"dtype\": \"number\",\n        \"std\": 0.48815330955552516,\n        \"min\": 2.45,\n        \"max\": 4.72,\n        \"num_unique_values\": 210,\n        \"samples\": [\n          3.94,\n          4.12,\n          3.27\n        ],\n        \"semantic_type\": \"\",\n        \"description\": \"\"\n      }\n    },\n    {\n      \"column\": \"Vol.\",\n      \"properties\": {\n        \"dtype\": \"string\",\n        \"num_unique_values\": 1328,\n        \"samples\": [\n          \"129,35M\",\n          \"130,15M\",\n          \"57,52M\"\n        ],\n        \"semantic_type\": \"\",\n        \"description\": \"\"\n      }\n    },\n    {\n      \"column\": \"Perubahan%\",\n      \"properties\": {\n        \"dtype\": \"category\",\n        \"num_unique_values\": 526,\n        \"samples\": [\n          \"0,29%\",\n          \"-0,68%\",\n          \"1,88%\"\n        ],\n        \"semantic_type\": \"\",\n        \"description\": \"\"\n      }\n    }\n  ]\n}",
              "type": "dataframe",
              "variable_name": "df"
            },
            "text/html": [
              "\n",
              "  <div id=\"df-f1aee309-9f25-47a7-a054-2a915c9eb062\" class=\"colab-df-container\">\n",
              "    <div>\n",
              "<style scoped>\n",
              "    .dataframe tbody tr th:only-of-type {\n",
              "        vertical-align: middle;\n",
              "    }\n",
              "\n",
              "    .dataframe tbody tr th {\n",
              "        vertical-align: top;\n",
              "    }\n",
              "\n",
              "    .dataframe thead th {\n",
              "        text-align: right;\n",
              "    }\n",
              "</style>\n",
              "<table border=\"1\" class=\"dataframe\">\n",
              "  <thead>\n",
              "    <tr style=\"text-align: right;\">\n",
              "      <th></th>\n",
              "      <th>Tanggal</th>\n",
              "      <th>Terakhir</th>\n",
              "      <th>Pembukaan</th>\n",
              "      <th>Tertinggi</th>\n",
              "      <th>Terendah</th>\n",
              "      <th>Vol.</th>\n",
              "      <th>Perubahan%</th>\n",
              "    </tr>\n",
              "  </thead>\n",
              "  <tbody>\n",
              "    <tr>\n",
              "      <th>0</th>\n",
              "      <td>02/01/2019</td>\n",
              "      <td>3.73</td>\n",
              "      <td>3.75</td>\n",
              "      <td>3.76</td>\n",
              "      <td>3.70</td>\n",
              "      <td>31,36M</td>\n",
              "      <td>-0,53%</td>\n",
              "    </tr>\n",
              "    <tr>\n",
              "      <th>1</th>\n",
              "      <td>03/01/2019</td>\n",
              "      <td>3.74</td>\n",
              "      <td>3.71</td>\n",
              "      <td>3.77</td>\n",
              "      <td>3.69</td>\n",
              "      <td>83,84M</td>\n",
              "      <td>0,27%</td>\n",
              "    </tr>\n",
              "    <tr>\n",
              "      <th>2</th>\n",
              "      <td>04/01/2019</td>\n",
              "      <td>3.71</td>\n",
              "      <td>3.69</td>\n",
              "      <td>3.74</td>\n",
              "      <td>3.69</td>\n",
              "      <td>73,94M</td>\n",
              "      <td>-0,80%</td>\n",
              "    </tr>\n",
              "    <tr>\n",
              "      <th>3</th>\n",
              "      <td>07/01/2019</td>\n",
              "      <td>3.77</td>\n",
              "      <td>3.76</td>\n",
              "      <td>3.79</td>\n",
              "      <td>3.75</td>\n",
              "      <td>83,68M</td>\n",
              "      <td>1,62%</td>\n",
              "    </tr>\n",
              "    <tr>\n",
              "      <th>4</th>\n",
              "      <td>08/01/2019</td>\n",
              "      <td>3.80</td>\n",
              "      <td>3.77</td>\n",
              "      <td>3.80</td>\n",
              "      <td>3.75</td>\n",
              "      <td>67,96M</td>\n",
              "      <td>0,80%</td>\n",
              "    </tr>\n",
              "  </tbody>\n",
              "</table>\n",
              "</div>\n",
              "    <div class=\"colab-df-buttons\">\n",
              "\n",
              "  <div class=\"colab-df-container\">\n",
              "    <button class=\"colab-df-convert\" onclick=\"convertToInteractive('df-f1aee309-9f25-47a7-a054-2a915c9eb062')\"\n",
              "            title=\"Convert this dataframe to an interactive table.\"\n",
              "            style=\"display:none;\">\n",
              "\n",
              "  <svg xmlns=\"http://www.w3.org/2000/svg\" height=\"24px\" viewBox=\"0 -960 960 960\">\n",
              "    <path d=\"M120-120v-720h720v720H120Zm60-500h600v-160H180v160Zm220 220h160v-160H400v160Zm0 220h160v-160H400v160ZM180-400h160v-160H180v160Zm440 0h160v-160H620v160ZM180-180h160v-160H180v160Zm440 0h160v-160H620v160Z\"/>\n",
              "  </svg>\n",
              "    </button>\n",
              "\n",
              "  <style>\n",
              "    .colab-df-container {\n",
              "      display:flex;\n",
              "      gap: 12px;\n",
              "    }\n",
              "\n",
              "    .colab-df-convert {\n",
              "      background-color: #E8F0FE;\n",
              "      border: none;\n",
              "      border-radius: 50%;\n",
              "      cursor: pointer;\n",
              "      display: none;\n",
              "      fill: #1967D2;\n",
              "      height: 32px;\n",
              "      padding: 0 0 0 0;\n",
              "      width: 32px;\n",
              "    }\n",
              "\n",
              "    .colab-df-convert:hover {\n",
              "      background-color: #E2EBFA;\n",
              "      box-shadow: 0px 1px 2px rgba(60, 64, 67, 0.3), 0px 1px 3px 1px rgba(60, 64, 67, 0.15);\n",
              "      fill: #174EA6;\n",
              "    }\n",
              "\n",
              "    .colab-df-buttons div {\n",
              "      margin-bottom: 4px;\n",
              "    }\n",
              "\n",
              "    [theme=dark] .colab-df-convert {\n",
              "      background-color: #3B4455;\n",
              "      fill: #D2E3FC;\n",
              "    }\n",
              "\n",
              "    [theme=dark] .colab-df-convert:hover {\n",
              "      background-color: #434B5C;\n",
              "      box-shadow: 0px 1px 3px 1px rgba(0, 0, 0, 0.15);\n",
              "      filter: drop-shadow(0px 1px 2px rgba(0, 0, 0, 0.3));\n",
              "      fill: #FFFFFF;\n",
              "    }\n",
              "  </style>\n",
              "\n",
              "    <script>\n",
              "      const buttonEl =\n",
              "        document.querySelector('#df-f1aee309-9f25-47a7-a054-2a915c9eb062 button.colab-df-convert');\n",
              "      buttonEl.style.display =\n",
              "        google.colab.kernel.accessAllowed ? 'block' : 'none';\n",
              "\n",
              "      async function convertToInteractive(key) {\n",
              "        const element = document.querySelector('#df-f1aee309-9f25-47a7-a054-2a915c9eb062');\n",
              "        const dataTable =\n",
              "          await google.colab.kernel.invokeFunction('convertToInteractive',\n",
              "                                                    [key], {});\n",
              "        if (!dataTable) return;\n",
              "\n",
              "        const docLinkHtml = 'Like what you see? Visit the ' +\n",
              "          '<a target=\"_blank\" href=https://colab.research.google.com/notebooks/data_table.ipynb>data table notebook</a>'\n",
              "          + ' to learn more about interactive tables.';\n",
              "        element.innerHTML = '';\n",
              "        dataTable['output_type'] = 'display_data';\n",
              "        await google.colab.output.renderOutput(dataTable, element);\n",
              "        const docLink = document.createElement('div');\n",
              "        docLink.innerHTML = docLinkHtml;\n",
              "        element.appendChild(docLink);\n",
              "      }\n",
              "    </script>\n",
              "  </div>\n",
              "\n",
              "\n",
              "<div id=\"df-ff4944b8-4fd1-4e93-b518-29cf89c8f372\">\n",
              "  <button class=\"colab-df-quickchart\" onclick=\"quickchart('df-ff4944b8-4fd1-4e93-b518-29cf89c8f372')\"\n",
              "            title=\"Suggest charts\"\n",
              "            style=\"display:none;\">\n",
              "\n",
              "<svg xmlns=\"http://www.w3.org/2000/svg\" height=\"24px\"viewBox=\"0 0 24 24\"\n",
              "     width=\"24px\">\n",
              "    <g>\n",
              "        <path d=\"M19 3H5c-1.1 0-2 .9-2 2v14c0 1.1.9 2 2 2h14c1.1 0 2-.9 2-2V5c0-1.1-.9-2-2-2zM9 17H7v-7h2v7zm4 0h-2V7h2v10zm4 0h-2v-4h2v4z\"/>\n",
              "    </g>\n",
              "</svg>\n",
              "  </button>\n",
              "\n",
              "<style>\n",
              "  .colab-df-quickchart {\n",
              "      --bg-color: #E8F0FE;\n",
              "      --fill-color: #1967D2;\n",
              "      --hover-bg-color: #E2EBFA;\n",
              "      --hover-fill-color: #174EA6;\n",
              "      --disabled-fill-color: #AAA;\n",
              "      --disabled-bg-color: #DDD;\n",
              "  }\n",
              "\n",
              "  [theme=dark] .colab-df-quickchart {\n",
              "      --bg-color: #3B4455;\n",
              "      --fill-color: #D2E3FC;\n",
              "      --hover-bg-color: #434B5C;\n",
              "      --hover-fill-color: #FFFFFF;\n",
              "      --disabled-bg-color: #3B4455;\n",
              "      --disabled-fill-color: #666;\n",
              "  }\n",
              "\n",
              "  .colab-df-quickchart {\n",
              "    background-color: var(--bg-color);\n",
              "    border: none;\n",
              "    border-radius: 50%;\n",
              "    cursor: pointer;\n",
              "    display: none;\n",
              "    fill: var(--fill-color);\n",
              "    height: 32px;\n",
              "    padding: 0;\n",
              "    width: 32px;\n",
              "  }\n",
              "\n",
              "  .colab-df-quickchart:hover {\n",
              "    background-color: var(--hover-bg-color);\n",
              "    box-shadow: 0 1px 2px rgba(60, 64, 67, 0.3), 0 1px 3px 1px rgba(60, 64, 67, 0.15);\n",
              "    fill: var(--button-hover-fill-color);\n",
              "  }\n",
              "\n",
              "  .colab-df-quickchart-complete:disabled,\n",
              "  .colab-df-quickchart-complete:disabled:hover {\n",
              "    background-color: var(--disabled-bg-color);\n",
              "    fill: var(--disabled-fill-color);\n",
              "    box-shadow: none;\n",
              "  }\n",
              "\n",
              "  .colab-df-spinner {\n",
              "    border: 2px solid var(--fill-color);\n",
              "    border-color: transparent;\n",
              "    border-bottom-color: var(--fill-color);\n",
              "    animation:\n",
              "      spin 1s steps(1) infinite;\n",
              "  }\n",
              "\n",
              "  @keyframes spin {\n",
              "    0% {\n",
              "      border-color: transparent;\n",
              "      border-bottom-color: var(--fill-color);\n",
              "      border-left-color: var(--fill-color);\n",
              "    }\n",
              "    20% {\n",
              "      border-color: transparent;\n",
              "      border-left-color: var(--fill-color);\n",
              "      border-top-color: var(--fill-color);\n",
              "    }\n",
              "    30% {\n",
              "      border-color: transparent;\n",
              "      border-left-color: var(--fill-color);\n",
              "      border-top-color: var(--fill-color);\n",
              "      border-right-color: var(--fill-color);\n",
              "    }\n",
              "    40% {\n",
              "      border-color: transparent;\n",
              "      border-right-color: var(--fill-color);\n",
              "      border-top-color: var(--fill-color);\n",
              "    }\n",
              "    60% {\n",
              "      border-color: transparent;\n",
              "      border-right-color: var(--fill-color);\n",
              "    }\n",
              "    80% {\n",
              "      border-color: transparent;\n",
              "      border-right-color: var(--fill-color);\n",
              "      border-bottom-color: var(--fill-color);\n",
              "    }\n",
              "    90% {\n",
              "      border-color: transparent;\n",
              "      border-bottom-color: var(--fill-color);\n",
              "    }\n",
              "  }\n",
              "</style>\n",
              "\n",
              "  <script>\n",
              "    async function quickchart(key) {\n",
              "      const quickchartButtonEl =\n",
              "        document.querySelector('#' + key + ' button');\n",
              "      quickchartButtonEl.disabled = true;  // To prevent multiple clicks.\n",
              "      quickchartButtonEl.classList.add('colab-df-spinner');\n",
              "      try {\n",
              "        const charts = await google.colab.kernel.invokeFunction(\n",
              "            'suggestCharts', [key], {});\n",
              "      } catch (error) {\n",
              "        console.error('Error during call to suggestCharts:', error);\n",
              "      }\n",
              "      quickchartButtonEl.classList.remove('colab-df-spinner');\n",
              "      quickchartButtonEl.classList.add('colab-df-quickchart-complete');\n",
              "    }\n",
              "    (() => {\n",
              "      let quickchartButtonEl =\n",
              "        document.querySelector('#df-ff4944b8-4fd1-4e93-b518-29cf89c8f372 button');\n",
              "      quickchartButtonEl.style.display =\n",
              "        google.colab.kernel.accessAllowed ? 'block' : 'none';\n",
              "    })();\n",
              "  </script>\n",
              "</div>\n",
              "\n",
              "    </div>\n",
              "  </div>\n"
            ],
            "text/plain": [
              "      Tanggal  Terakhir  Pembukaan  Tertinggi  Terendah    Vol. Perubahan%\n",
              "0  02/01/2019      3.73       3.75       3.76      3.70  31,36M     -0,53%\n",
              "1  03/01/2019      3.74       3.71       3.77      3.69  83,84M      0,27%\n",
              "2  04/01/2019      3.71       3.69       3.74      3.69  73,94M     -0,80%\n",
              "3  07/01/2019      3.77       3.76       3.79      3.75  83,68M      1,62%\n",
              "4  08/01/2019      3.80       3.77       3.80      3.75  67,96M      0,80%"
            ]
          },
          "execution_count": 4,
          "metadata": {},
          "output_type": "execute_result"
        }
      ],
      "source": [
        "df.head()"
      ]
    },
    {
      "cell_type": "markdown",
      "metadata": {
        "id": "UYz1aW9bVtHe"
      },
      "source": [
        "df.head di atas menampilkan 5 data yang berada pada indeks atas, terdapat beberapa hal yang perlu dilakukan perubahan, antara lain:\n",
        "1. Kolom Tanggal\n",
        "\n",
        "    Perlu dilakukan perubahan format tanggal, agar dapat dibaca mesin dengan mudah.\n",
        "\n",
        "2. Kolom Vol.\n",
        "\n",
        "    Perubahan nama kolom dari Vol. menjadi Volume agar mudah mengidentifikasi nama kolomnya, selain itu format dari isi kolomnya masih terdapat string ('M') yang mana perlu dilakukan perubahan menjadi 0 sesuai data awalnya, ('M' = 1.000.000.000).\n",
        "\n",
        "3. Kolom Perubahan\n",
        "\n",
        "    Kemungkinan besar kita tidak akan menggunakan kolom ini, sehingga nantinya akan kita hapus, sebelum itu akan kita cek korelasinya dengan fitur lain agar mengetahui keterkaitannya dengan fitur lain, sehingga apabila kita hapus tidak akan berdampak dengan fitur lainnya."
      ]
    },
    {
      "cell_type": "markdown",
      "metadata": {
        "id": "VL758HTqGmcg"
      },
      "source": [
        "### Mengecek Format Kolom"
      ]
    },
    {
      "cell_type": "code",
      "execution_count": null,
      "metadata": {
        "colab": {
          "base_uri": "https://localhost:8080/"
        },
        "id": "tjmTPZEaFsCM",
        "outputId": "41ade62b-b956-44c3-f6c0-56cf0469e7d5"
      },
      "outputs": [
        {
          "name": "stdout",
          "output_type": "stream",
          "text": [
            "<class 'pandas.core.frame.DataFrame'>\n",
            "RangeIndex: 1390 entries, 0 to 1389\n",
            "Data columns (total 7 columns):\n",
            " #   Column      Non-Null Count  Dtype  \n",
            "---  ------      --------------  -----  \n",
            " 0   Tanggal     1390 non-null   object \n",
            " 1   Terakhir    1390 non-null   float64\n",
            " 2   Pembukaan   1390 non-null   float64\n",
            " 3   Tertinggi   1390 non-null   float64\n",
            " 4   Terendah    1390 non-null   float64\n",
            " 5   Vol.        1385 non-null   object \n",
            " 6   Perubahan%  1390 non-null   object \n",
            "dtypes: float64(4), object(3)\n",
            "memory usage: 76.1+ KB\n"
          ]
        }
      ],
      "source": [
        "df.info()"
      ]
    },
    {
      "cell_type": "markdown",
      "metadata": {
        "id": "Z6gBYzhwY3tU"
      },
      "source": [
        "Dari hasil di atas kita dapat melihat bahwa Kolom Vol. jumlahnya hanya **1385** data dibanding yang lainnya yaitu **1390** yang berarti terdapat 5 data yang hilang. Selain itu, datatypenya masih berupa object yang seharusnya adalah float64 karena nantinya akan dilakukan perhitungan untuk Kolom Vol."
      ]
    },
    {
      "cell_type": "markdown",
      "metadata": {
        "id": "sDj-2CBsYLQh"
      },
      "source": [
        "### Mengganti Nama Kolom"
      ]
    },
    {
      "cell_type": "code",
      "execution_count": null,
      "metadata": {
        "id": "vrmESlapbFjF"
      },
      "outputs": [],
      "source": [
        "df = df.rename(columns={'Terakhir': 'Penutupan', 'Vol.':'Volume', 'Perubahan%': 'Perubahan'})"
      ]
    },
    {
      "cell_type": "markdown",
      "metadata": {
        "id": "ama6E34m7rFh"
      },
      "source": [
        "Disini saya mengganti nama-nama kolom, untuk memudahkan pemanggilan nama tiap kolom guna dilakukannya perhitungan nantinya."
      ]
    },
    {
      "cell_type": "markdown",
      "metadata": {
        "id": "WYIZA44PQhjc"
      },
      "source": [
        "### Menghitung Jumlah Data yang Hilang (Missing Value)"
      ]
    },
    {
      "cell_type": "code",
      "execution_count": null,
      "metadata": {
        "colab": {
          "base_uri": "https://localhost:8080/",
          "height": 304
        },
        "id": "zgv0ygnQF73d",
        "outputId": "a75a6a11-5437-4272-8478-f845bfa3a518"
      },
      "outputs": [
        {
          "data": {
            "text/html": [
              "<div>\n",
              "<style scoped>\n",
              "    .dataframe tbody tr th:only-of-type {\n",
              "        vertical-align: middle;\n",
              "    }\n",
              "\n",
              "    .dataframe tbody tr th {\n",
              "        vertical-align: top;\n",
              "    }\n",
              "\n",
              "    .dataframe thead th {\n",
              "        text-align: right;\n",
              "    }\n",
              "</style>\n",
              "<table border=\"1\" class=\"dataframe\">\n",
              "  <thead>\n",
              "    <tr style=\"text-align: right;\">\n",
              "      <th></th>\n",
              "      <th>0</th>\n",
              "    </tr>\n",
              "  </thead>\n",
              "  <tbody>\n",
              "    <tr>\n",
              "      <th>Tanggal</th>\n",
              "      <td>0</td>\n",
              "    </tr>\n",
              "    <tr>\n",
              "      <th>Penutupan</th>\n",
              "      <td>0</td>\n",
              "    </tr>\n",
              "    <tr>\n",
              "      <th>Pembukaan</th>\n",
              "      <td>0</td>\n",
              "    </tr>\n",
              "    <tr>\n",
              "      <th>Tertinggi</th>\n",
              "      <td>0</td>\n",
              "    </tr>\n",
              "    <tr>\n",
              "      <th>Terendah</th>\n",
              "      <td>0</td>\n",
              "    </tr>\n",
              "    <tr>\n",
              "      <th>Volume</th>\n",
              "      <td>5</td>\n",
              "    </tr>\n",
              "    <tr>\n",
              "      <th>Perubahan</th>\n",
              "      <td>0</td>\n",
              "    </tr>\n",
              "  </tbody>\n",
              "</table>\n",
              "</div><br><label><b>dtype:</b> int64</label>"
            ],
            "text/plain": [
              "Tanggal      0\n",
              "Penutupan    0\n",
              "Pembukaan    0\n",
              "Tertinggi    0\n",
              "Terendah     0\n",
              "Volume       5\n",
              "Perubahan    0\n",
              "dtype: int64"
            ]
          },
          "execution_count": 7,
          "metadata": {},
          "output_type": "execute_result"
        }
      ],
      "source": [
        "df.isnull().sum()"
      ]
    },
    {
      "cell_type": "markdown",
      "metadata": {
        "id": "dU20uCiEaZhk"
      },
      "source": [
        "Setelah kita cek, memang benar bahwa Kolom Vol. memiliki missing values sejumlah **5 data**. Missing value akan diperbaiki saat memasuki data preprocessing."
      ]
    },
    {
      "cell_type": "markdown",
      "metadata": {
        "id": "vE8SsWgSQdLJ"
      },
      "source": [
        "### Statistik Deskriptif"
      ]
    },
    {
      "cell_type": "code",
      "execution_count": null,
      "metadata": {
        "colab": {
          "base_uri": "https://localhost:8080/",
          "height": 300
        },
        "id": "dJU3l6D5F2Zp",
        "outputId": "9c9ae22c-6f31-4099-f00a-747764d68d15"
      },
      "outputs": [
        {
          "data": {
            "application/vnd.google.colaboratory.intrinsic+json": {
              "summary": "{\n  \"name\": \"df\",\n  \"rows\": 8,\n  \"fields\": [\n    {\n      \"column\": \"Penutupan\",\n      \"properties\": {\n        \"dtype\": \"number\",\n        \"std\": 490.292787893631,\n        \"min\": 0.49022921443086176,\n        \"max\": 1390.0,\n        \"num_unique_values\": 8,\n        \"samples\": [\n          3.7213453237410072,\n          3.8,\n          1390.0\n        ],\n        \"semantic_type\": \"\",\n        \"description\": \"\"\n      }\n    },\n    {\n      \"column\": \"Pembukaan\",\n      \"properties\": {\n        \"dtype\": \"number\",\n        \"std\": 490.2901597887107,\n        \"min\": 0.4883433650046665,\n        \"max\": 1390.0,\n        \"num_unique_values\": 8,\n        \"samples\": [\n          3.7235107913669068,\n          3.8,\n          1390.0\n        ],\n        \"semantic_type\": \"\",\n        \"description\": \"\"\n      }\n    },\n    {\n      \"column\": \"Tertinggi\",\n      \"properties\": {\n        \"dtype\": \"number\",\n        \"std\": 490.278737121338,\n        \"min\": 0.4872006556016458,\n        \"max\": 1390.0,\n        \"num_unique_values\": 8,\n        \"samples\": [\n          3.763661870503597,\n          3.84,\n          1390.0\n        ],\n        \"semantic_type\": \"\",\n        \"description\": \"\"\n      }\n    },\n    {\n      \"column\": \"Terendah\",\n      \"properties\": {\n        \"dtype\": \"number\",\n        \"std\": 490.3095925121922,\n        \"min\": 0.48815330955552516,\n        \"max\": 1390.0,\n        \"num_unique_values\": 8,\n        \"samples\": [\n          3.6802877697841727,\n          3.77,\n          1390.0\n        ],\n        \"semantic_type\": \"\",\n        \"description\": \"\"\n      }\n    }\n  ]\n}",
              "type": "dataframe"
            },
            "text/html": [
              "\n",
              "  <div id=\"df-ffba6bcd-8d02-451f-af7d-08883334363e\" class=\"colab-df-container\">\n",
              "    <div>\n",
              "<style scoped>\n",
              "    .dataframe tbody tr th:only-of-type {\n",
              "        vertical-align: middle;\n",
              "    }\n",
              "\n",
              "    .dataframe tbody tr th {\n",
              "        vertical-align: top;\n",
              "    }\n",
              "\n",
              "    .dataframe thead th {\n",
              "        text-align: right;\n",
              "    }\n",
              "</style>\n",
              "<table border=\"1\" class=\"dataframe\">\n",
              "  <thead>\n",
              "    <tr style=\"text-align: right;\">\n",
              "      <th></th>\n",
              "      <th>Penutupan</th>\n",
              "      <th>Pembukaan</th>\n",
              "      <th>Tertinggi</th>\n",
              "      <th>Terendah</th>\n",
              "    </tr>\n",
              "  </thead>\n",
              "  <tbody>\n",
              "    <tr>\n",
              "      <th>count</th>\n",
              "      <td>1390.000000</td>\n",
              "      <td>1390.000000</td>\n",
              "      <td>1390.000000</td>\n",
              "      <td>1390.000000</td>\n",
              "    </tr>\n",
              "    <tr>\n",
              "      <th>mean</th>\n",
              "      <td>3.721345</td>\n",
              "      <td>3.723511</td>\n",
              "      <td>3.763662</td>\n",
              "      <td>3.680288</td>\n",
              "    </tr>\n",
              "    <tr>\n",
              "      <th>std</th>\n",
              "      <td>0.490229</td>\n",
              "      <td>0.488343</td>\n",
              "      <td>0.487201</td>\n",
              "      <td>0.488153</td>\n",
              "    </tr>\n",
              "    <tr>\n",
              "      <th>min</th>\n",
              "      <td>2.560000</td>\n",
              "      <td>2.550000</td>\n",
              "      <td>2.590000</td>\n",
              "      <td>2.450000</td>\n",
              "    </tr>\n",
              "    <tr>\n",
              "      <th>25%</th>\n",
              "      <td>3.310000</td>\n",
              "      <td>3.302500</td>\n",
              "      <td>3.360000</td>\n",
              "      <td>3.260000</td>\n",
              "    </tr>\n",
              "    <tr>\n",
              "      <th>50%</th>\n",
              "      <td>3.800000</td>\n",
              "      <td>3.800000</td>\n",
              "      <td>3.840000</td>\n",
              "      <td>3.770000</td>\n",
              "    </tr>\n",
              "    <tr>\n",
              "      <th>75%</th>\n",
              "      <td>4.080000</td>\n",
              "      <td>4.070000</td>\n",
              "      <td>4.120000</td>\n",
              "      <td>4.030000</td>\n",
              "    </tr>\n",
              "    <tr>\n",
              "      <th>max</th>\n",
              "      <td>4.770000</td>\n",
              "      <td>4.850000</td>\n",
              "      <td>4.850000</td>\n",
              "      <td>4.720000</td>\n",
              "    </tr>\n",
              "  </tbody>\n",
              "</table>\n",
              "</div>\n",
              "    <div class=\"colab-df-buttons\">\n",
              "\n",
              "  <div class=\"colab-df-container\">\n",
              "    <button class=\"colab-df-convert\" onclick=\"convertToInteractive('df-ffba6bcd-8d02-451f-af7d-08883334363e')\"\n",
              "            title=\"Convert this dataframe to an interactive table.\"\n",
              "            style=\"display:none;\">\n",
              "\n",
              "  <svg xmlns=\"http://www.w3.org/2000/svg\" height=\"24px\" viewBox=\"0 -960 960 960\">\n",
              "    <path d=\"M120-120v-720h720v720H120Zm60-500h600v-160H180v160Zm220 220h160v-160H400v160Zm0 220h160v-160H400v160ZM180-400h160v-160H180v160Zm440 0h160v-160H620v160ZM180-180h160v-160H180v160Zm440 0h160v-160H620v160Z\"/>\n",
              "  </svg>\n",
              "    </button>\n",
              "\n",
              "  <style>\n",
              "    .colab-df-container {\n",
              "      display:flex;\n",
              "      gap: 12px;\n",
              "    }\n",
              "\n",
              "    .colab-df-convert {\n",
              "      background-color: #E8F0FE;\n",
              "      border: none;\n",
              "      border-radius: 50%;\n",
              "      cursor: pointer;\n",
              "      display: none;\n",
              "      fill: #1967D2;\n",
              "      height: 32px;\n",
              "      padding: 0 0 0 0;\n",
              "      width: 32px;\n",
              "    }\n",
              "\n",
              "    .colab-df-convert:hover {\n",
              "      background-color: #E2EBFA;\n",
              "      box-shadow: 0px 1px 2px rgba(60, 64, 67, 0.3), 0px 1px 3px 1px rgba(60, 64, 67, 0.15);\n",
              "      fill: #174EA6;\n",
              "    }\n",
              "\n",
              "    .colab-df-buttons div {\n",
              "      margin-bottom: 4px;\n",
              "    }\n",
              "\n",
              "    [theme=dark] .colab-df-convert {\n",
              "      background-color: #3B4455;\n",
              "      fill: #D2E3FC;\n",
              "    }\n",
              "\n",
              "    [theme=dark] .colab-df-convert:hover {\n",
              "      background-color: #434B5C;\n",
              "      box-shadow: 0px 1px 3px 1px rgba(0, 0, 0, 0.15);\n",
              "      filter: drop-shadow(0px 1px 2px rgba(0, 0, 0, 0.3));\n",
              "      fill: #FFFFFF;\n",
              "    }\n",
              "  </style>\n",
              "\n",
              "    <script>\n",
              "      const buttonEl =\n",
              "        document.querySelector('#df-ffba6bcd-8d02-451f-af7d-08883334363e button.colab-df-convert');\n",
              "      buttonEl.style.display =\n",
              "        google.colab.kernel.accessAllowed ? 'block' : 'none';\n",
              "\n",
              "      async function convertToInteractive(key) {\n",
              "        const element = document.querySelector('#df-ffba6bcd-8d02-451f-af7d-08883334363e');\n",
              "        const dataTable =\n",
              "          await google.colab.kernel.invokeFunction('convertToInteractive',\n",
              "                                                    [key], {});\n",
              "        if (!dataTable) return;\n",
              "\n",
              "        const docLinkHtml = 'Like what you see? Visit the ' +\n",
              "          '<a target=\"_blank\" href=https://colab.research.google.com/notebooks/data_table.ipynb>data table notebook</a>'\n",
              "          + ' to learn more about interactive tables.';\n",
              "        element.innerHTML = '';\n",
              "        dataTable['output_type'] = 'display_data';\n",
              "        await google.colab.output.renderOutput(dataTable, element);\n",
              "        const docLink = document.createElement('div');\n",
              "        docLink.innerHTML = docLinkHtml;\n",
              "        element.appendChild(docLink);\n",
              "      }\n",
              "    </script>\n",
              "  </div>\n",
              "\n",
              "\n",
              "<div id=\"df-e96cbbe5-0671-472f-9c5b-99c72a2221e8\">\n",
              "  <button class=\"colab-df-quickchart\" onclick=\"quickchart('df-e96cbbe5-0671-472f-9c5b-99c72a2221e8')\"\n",
              "            title=\"Suggest charts\"\n",
              "            style=\"display:none;\">\n",
              "\n",
              "<svg xmlns=\"http://www.w3.org/2000/svg\" height=\"24px\"viewBox=\"0 0 24 24\"\n",
              "     width=\"24px\">\n",
              "    <g>\n",
              "        <path d=\"M19 3H5c-1.1 0-2 .9-2 2v14c0 1.1.9 2 2 2h14c1.1 0 2-.9 2-2V5c0-1.1-.9-2-2-2zM9 17H7v-7h2v7zm4 0h-2V7h2v10zm4 0h-2v-4h2v4z\"/>\n",
              "    </g>\n",
              "</svg>\n",
              "  </button>\n",
              "\n",
              "<style>\n",
              "  .colab-df-quickchart {\n",
              "      --bg-color: #E8F0FE;\n",
              "      --fill-color: #1967D2;\n",
              "      --hover-bg-color: #E2EBFA;\n",
              "      --hover-fill-color: #174EA6;\n",
              "      --disabled-fill-color: #AAA;\n",
              "      --disabled-bg-color: #DDD;\n",
              "  }\n",
              "\n",
              "  [theme=dark] .colab-df-quickchart {\n",
              "      --bg-color: #3B4455;\n",
              "      --fill-color: #D2E3FC;\n",
              "      --hover-bg-color: #434B5C;\n",
              "      --hover-fill-color: #FFFFFF;\n",
              "      --disabled-bg-color: #3B4455;\n",
              "      --disabled-fill-color: #666;\n",
              "  }\n",
              "\n",
              "  .colab-df-quickchart {\n",
              "    background-color: var(--bg-color);\n",
              "    border: none;\n",
              "    border-radius: 50%;\n",
              "    cursor: pointer;\n",
              "    display: none;\n",
              "    fill: var(--fill-color);\n",
              "    height: 32px;\n",
              "    padding: 0;\n",
              "    width: 32px;\n",
              "  }\n",
              "\n",
              "  .colab-df-quickchart:hover {\n",
              "    background-color: var(--hover-bg-color);\n",
              "    box-shadow: 0 1px 2px rgba(60, 64, 67, 0.3), 0 1px 3px 1px rgba(60, 64, 67, 0.15);\n",
              "    fill: var(--button-hover-fill-color);\n",
              "  }\n",
              "\n",
              "  .colab-df-quickchart-complete:disabled,\n",
              "  .colab-df-quickchart-complete:disabled:hover {\n",
              "    background-color: var(--disabled-bg-color);\n",
              "    fill: var(--disabled-fill-color);\n",
              "    box-shadow: none;\n",
              "  }\n",
              "\n",
              "  .colab-df-spinner {\n",
              "    border: 2px solid var(--fill-color);\n",
              "    border-color: transparent;\n",
              "    border-bottom-color: var(--fill-color);\n",
              "    animation:\n",
              "      spin 1s steps(1) infinite;\n",
              "  }\n",
              "\n",
              "  @keyframes spin {\n",
              "    0% {\n",
              "      border-color: transparent;\n",
              "      border-bottom-color: var(--fill-color);\n",
              "      border-left-color: var(--fill-color);\n",
              "    }\n",
              "    20% {\n",
              "      border-color: transparent;\n",
              "      border-left-color: var(--fill-color);\n",
              "      border-top-color: var(--fill-color);\n",
              "    }\n",
              "    30% {\n",
              "      border-color: transparent;\n",
              "      border-left-color: var(--fill-color);\n",
              "      border-top-color: var(--fill-color);\n",
              "      border-right-color: var(--fill-color);\n",
              "    }\n",
              "    40% {\n",
              "      border-color: transparent;\n",
              "      border-right-color: var(--fill-color);\n",
              "      border-top-color: var(--fill-color);\n",
              "    }\n",
              "    60% {\n",
              "      border-color: transparent;\n",
              "      border-right-color: var(--fill-color);\n",
              "    }\n",
              "    80% {\n",
              "      border-color: transparent;\n",
              "      border-right-color: var(--fill-color);\n",
              "      border-bottom-color: var(--fill-color);\n",
              "    }\n",
              "    90% {\n",
              "      border-color: transparent;\n",
              "      border-bottom-color: var(--fill-color);\n",
              "    }\n",
              "  }\n",
              "</style>\n",
              "\n",
              "  <script>\n",
              "    async function quickchart(key) {\n",
              "      const quickchartButtonEl =\n",
              "        document.querySelector('#' + key + ' button');\n",
              "      quickchartButtonEl.disabled = true;  // To prevent multiple clicks.\n",
              "      quickchartButtonEl.classList.add('colab-df-spinner');\n",
              "      try {\n",
              "        const charts = await google.colab.kernel.invokeFunction(\n",
              "            'suggestCharts', [key], {});\n",
              "      } catch (error) {\n",
              "        console.error('Error during call to suggestCharts:', error);\n",
              "      }\n",
              "      quickchartButtonEl.classList.remove('colab-df-spinner');\n",
              "      quickchartButtonEl.classList.add('colab-df-quickchart-complete');\n",
              "    }\n",
              "    (() => {\n",
              "      let quickchartButtonEl =\n",
              "        document.querySelector('#df-e96cbbe5-0671-472f-9c5b-99c72a2221e8 button');\n",
              "      quickchartButtonEl.style.display =\n",
              "        google.colab.kernel.accessAllowed ? 'block' : 'none';\n",
              "    })();\n",
              "  </script>\n",
              "</div>\n",
              "\n",
              "    </div>\n",
              "  </div>\n"
            ],
            "text/plain": [
              "         Penutupan    Pembukaan    Tertinggi     Terendah\n",
              "count  1390.000000  1390.000000  1390.000000  1390.000000\n",
              "mean      3.721345     3.723511     3.763662     3.680288\n",
              "std       0.490229     0.488343     0.487201     0.488153\n",
              "min       2.560000     2.550000     2.590000     2.450000\n",
              "25%       3.310000     3.302500     3.360000     3.260000\n",
              "50%       3.800000     3.800000     3.840000     3.770000\n",
              "75%       4.080000     4.070000     4.120000     4.030000\n",
              "max       4.770000     4.850000     4.850000     4.720000"
            ]
          },
          "execution_count": 8,
          "metadata": {},
          "output_type": "execute_result"
        }
      ],
      "source": [
        "df.describe()"
      ]
    },
    {
      "cell_type": "markdown",
      "metadata": {
        "id": "sHY1_xTj8mbV"
      },
      "source": [
        "Tabel di atas menunjukkan statistik deskriptif untuk masing-masing kolom, antara lain: Penutupan, Pembukaan, Tertinggi, Terendah. Untuk kolom Volume dan Perubahan tidak diikut sertakan pada code ini karena dua kolom tersebut masih berupa object dan bukan float."
      ]
    },
    {
      "cell_type": "markdown",
      "metadata": {
        "id": "mW6vG-uhRUZF"
      },
      "source": [
        "### Mengkonversi Tanggal"
      ]
    },
    {
      "cell_type": "code",
      "execution_count": null,
      "metadata": {
        "id": "3F10z4okGBo9"
      },
      "outputs": [],
      "source": [
        "df['Tanggal'] = pd.to_datetime(df['Tanggal'], dayfirst=True)"
      ]
    },
    {
      "cell_type": "markdown",
      "metadata": {
        "id": "O_Ko7Jyt9RJu"
      },
      "source": [
        "Dilakukan konversi tanggal untuk mengubah formatnya menjadi 'dd-mm-yyyy' agar memudahkan kita untuk mengambil informasinya."
      ]
    },
    {
      "cell_type": "markdown",
      "metadata": {
        "id": "RbLOgMZERYL5"
      },
      "source": [
        "### Mengekstrak Tahun Dari Kolom Tanggal"
      ]
    },
    {
      "cell_type": "code",
      "execution_count": null,
      "metadata": {
        "colab": {
          "base_uri": "https://localhost:8080/",
          "height": 458
        },
        "id": "iOkDSgADKOpj",
        "outputId": "e1d52bf4-d7ad-4873-aea5-13b39fffe084"
      },
      "outputs": [
        {
          "data": {
            "text/html": [
              "<div>\n",
              "<style scoped>\n",
              "    .dataframe tbody tr th:only-of-type {\n",
              "        vertical-align: middle;\n",
              "    }\n",
              "\n",
              "    .dataframe tbody tr th {\n",
              "        vertical-align: top;\n",
              "    }\n",
              "\n",
              "    .dataframe thead th {\n",
              "        text-align: right;\n",
              "    }\n",
              "</style>\n",
              "<table border=\"1\" class=\"dataframe\">\n",
              "  <thead>\n",
              "    <tr style=\"text-align: right;\">\n",
              "      <th></th>\n",
              "      <th>Tahun</th>\n",
              "    </tr>\n",
              "  </thead>\n",
              "  <tbody>\n",
              "    <tr>\n",
              "      <th>0</th>\n",
              "      <td>2019</td>\n",
              "    </tr>\n",
              "    <tr>\n",
              "      <th>1</th>\n",
              "      <td>2019</td>\n",
              "    </tr>\n",
              "    <tr>\n",
              "      <th>2</th>\n",
              "      <td>2019</td>\n",
              "    </tr>\n",
              "    <tr>\n",
              "      <th>3</th>\n",
              "      <td>2019</td>\n",
              "    </tr>\n",
              "    <tr>\n",
              "      <th>4</th>\n",
              "      <td>2019</td>\n",
              "    </tr>\n",
              "    <tr>\n",
              "      <th>...</th>\n",
              "      <td>...</td>\n",
              "    </tr>\n",
              "    <tr>\n",
              "      <th>1385</th>\n",
              "      <td>2024</td>\n",
              "    </tr>\n",
              "    <tr>\n",
              "      <th>1386</th>\n",
              "      <td>2024</td>\n",
              "    </tr>\n",
              "    <tr>\n",
              "      <th>1387</th>\n",
              "      <td>2024</td>\n",
              "    </tr>\n",
              "    <tr>\n",
              "      <th>1388</th>\n",
              "      <td>2024</td>\n",
              "    </tr>\n",
              "    <tr>\n",
              "      <th>1389</th>\n",
              "      <td>2024</td>\n",
              "    </tr>\n",
              "  </tbody>\n",
              "</table>\n",
              "<p>1390 rows × 1 columns</p>\n",
              "</div><br><label><b>dtype:</b> int32</label>"
            ],
            "text/plain": [
              "0       2019\n",
              "1       2019\n",
              "2       2019\n",
              "3       2019\n",
              "4       2019\n",
              "        ... \n",
              "1385    2024\n",
              "1386    2024\n",
              "1387    2024\n",
              "1388    2024\n",
              "1389    2024\n",
              "Name: Tahun, Length: 1390, dtype: int32"
            ]
          },
          "execution_count": 10,
          "metadata": {},
          "output_type": "execute_result"
        }
      ],
      "source": [
        "df['Tahun'] = df['Tanggal'].dt.year\n",
        "\n",
        "df['Tahun']"
      ]
    },
    {
      "cell_type": "markdown",
      "metadata": {
        "id": "oRcYXZwH9sQr"
      },
      "source": [
        "Disini saya ambil data untuk tahun saja, agar nanti dapat kita buat visualisasi persebaran datanya, tahun ini nantinya akan dijadikan salah satu sumbunya."
      ]
    },
    {
      "cell_type": "markdown",
      "metadata": {
        "id": "TVA0zqpSS0cj"
      },
      "source": [
        "### Visualisasi Jumlah Data Berdasarkan Tahun"
      ]
    },
    {
      "cell_type": "code",
      "execution_count": null,
      "metadata": {
        "colab": {
          "base_uri": "https://localhost:8080/",
          "height": 449
        },
        "id": "np1rdcalKjYV",
        "outputId": "5dd08969-b998-4834-84fd-ada5bc1eab1d"
      },
      "outputs": [
        {
          "data": {
            "image/png": "[encoded data removed]",
            "text/plain": [
              "<Figure size 640x480 with 1 Axes>"
            ]
          },
          "metadata": {},
          "output_type": "display_data"
        }
      ],
      "source": [
        "df_group_tahun = df.groupby('Tahun').sum(numeric_only=True)\n",
        "df_numerik = df_group_tahun.select_dtypes(include='number')\n",
        "\n",
        "df_numerik.plot()\n",
        "plt.show()"
      ]
    },
    {
      "cell_type": "markdown",
      "metadata": {
        "id": "EoNHZahy-Rc8"
      },
      "source": [
        "Diagram di atas merupakan visualisasi dari banyaknya data berdasarkan tahun yang tersedia, dapat dilihat bahwa jumlah data tiap fiturnya pada awal tahun 2019 menuju tahun 2020 mengalami penurunan yang signifikan, kemudian pada awal tahun 2020 hingga tahun 2022 mengalami kenaikan yang cukup stabil, dan berlanjut pada awal tahun 2023 mengalami penurunan yang cukup drastis."
      ]
    },
    {
      "cell_type": "markdown",
      "metadata": {
        "id": "0n_v8EyeUd1N"
      },
      "source": [
        "### Visualisasi Rata-Rata Data Berdasarkan Tahun"
      ]
    },
    {
      "cell_type": "code",
      "execution_count": null,
      "metadata": {
        "colab": {
          "base_uri": "https://localhost:8080/",
          "height": 449
        },
        "id": "B2ReJPThToVV",
        "outputId": "497f11f9-a16a-4786-814a-5dbbb85a91e3"
      },
      "outputs": [
        {
          "data": {
            "image/png": "[encoded data removed]",
            "text/plain": [
              "<Figure size 640x480 with 1 Axes>"
            ]
          },
          "metadata": {},
          "output_type": "display_data"
        }
      ],
      "source": [
        "df_group_tahun = df.groupby('Tahun').mean(numeric_only=True)\n",
        "df_numerik = df_group_tahun.select_dtypes(include='number')\n",
        "\n",
        "df_numerik.plot()\n",
        "plt.show()"
      ]
    },
    {
      "cell_type": "markdown",
      "metadata": {
        "id": "2QRJiq46FSiD"
      },
      "source": [
        "Diagram tersebut memvisualisasikan rata-rata nilai dari fitur-fitur numerik (Penutupan, Pembukaan, Tertinggi, Terendah) pada dataset harga saham PT Telkom Indonesia Tbk (TLKM) untuk setiap tahunnya."
      ]
    },
    {
      "cell_type": "markdown",
      "metadata": {
        "id": "Jb-g9pPMUqTf"
      },
      "source": [
        "### Visualisasi Jumlah Volume Untuk Tiap Tahunnya"
      ]
    },
    {
      "cell_type": "markdown",
      "metadata": {
        "id": "MLzllepLb4rv"
      },
      "source": [
        "### Proses Konvert Kolom Vol. Menjadi Float\n",
        "\n"
      ]
    },
    {
      "cell_type": "code",
      "execution_count": null,
      "metadata": {
        "id": "SbzZgCD2bli6"
      },
      "outputs": [],
      "source": [
        "def convert_vol_to_float(vol):\n",
        "  if isinstance(vol, (int, float)):\n",
        "    return vol\n",
        "\n",
        "  vol = vol.replace(',', '.')\n",
        "\n",
        "  if 'M' in vol:\n",
        "    return float(vol.replace('M', '')) * 1_000_000\n",
        "  elif 'K' in vol:\n",
        "    return float(vol.replace('K', '')) * 1_000\n",
        "  elif 'B' in vol:\n",
        "    return float(vol.replace('B', '')) * 1_000_000_000\n",
        "  else:\n",
        "    try:\n",
        "      return float(vol)\n",
        "    except ValueError:\n",
        "      return vol"
      ]
    },
    {
      "cell_type": "code",
      "execution_count": null,
      "metadata": {
        "id": "QV4RRcGc7Hg0"
      },
      "outputs": [],
      "source": [
        "df['Volume'] = df['Volume'].apply(convert_vol_to_float)"
      ]
    },
    {
      "cell_type": "markdown",
      "metadata": {
        "id": "ExJJaxvDGkEu"
      },
      "source": [
        "Tujuan dari kode ini adalah untuk mengubah tipe data kolom 'Vol.' dari object menjadi float. Hal ini perlu dilakukan karena kolom 'Vol.' berisi informasi volume perdagangan saham yang penting untuk analisis dan pemodelan, tetapi masih mengandung karakter non-numerik (seperti \"M\" untuk juta dan \"K\" untuk ribu). Dengan mengubahnya menjadi float, kita dapat melakukan perhitungan matematika dan menggunakannya dalam algoritma machine learning."
      ]
    },
    {
      "cell_type": "code",
      "execution_count": null,
      "metadata": {
        "colab": {
          "base_uri": "https://localhost:8080/",
          "height": 465
        },
        "id": "baI78nq1Uq1R",
        "outputId": "fa80bdcf-3531-47c6-c396-3a5def541a14"
      },
      "outputs": [
        {
          "data": {
            "image/png": "[encoded data removed]",
            "text/plain": [
              "<Figure size 640x480 with 1 Axes>"
            ]
          },
          "metadata": {},
          "output_type": "display_data"
        }
      ],
      "source": [
        "df_group_tahun = df.groupby('Tahun').sum(numeric_only=True)\n",
        "df_group_tahun['Volume'].plot()\n",
        "\n",
        "plt.show()"
      ]
    },
    {
      "cell_type": "markdown",
      "metadata": {
        "id": "gJB397b_GnKH"
      },
      "source": [
        "Visualisasi jumlah volume untuk tiap tahunnya, kolom volumen ini saya bedakan dikarenakan untuk memastikan bahwa setiap kolom diproses dengan benar sesuai dengan tipe data dan karakteristiknya, sehingga perhitungan dapat dilakukan dengan akurat dan menghindari error."
      ]
    },
    {
      "cell_type": "markdown",
      "metadata": {
        "id": "oDA6E4Rq7lNX"
      },
      "source": [
        "### Korelasi Koefisien\n"
      ]
    },
    {
      "cell_type": "markdown",
      "metadata": {
        "id": "RVZh7u04InVc"
      },
      "source": [
        "Sebelum melakukan visualisasi korelasi antar sesama fitur, perlu dilakukan kovert kolom perubahan yang tipe data awalnya adalah string dikarenakan terdapat '%' pada datanya lalu saya ubah menjadi float agar tidak terjadi error nantinya."
      ]
    },
    {
      "cell_type": "code",
      "execution_count": null,
      "metadata": {
        "colab": {
          "base_uri": "https://localhost:8080/",
          "height": 458
        },
        "id": "vUt2EeNKIZlr",
        "outputId": "677e7ccf-3345-406e-ca14-05bb5a263942"
      },
      "outputs": [
        {
          "data": {
            "text/html": [
              "<div>\n",
              "<style scoped>\n",
              "    .dataframe tbody tr th:only-of-type {\n",
              "        vertical-align: middle;\n",
              "    }\n",
              "\n",
              "    .dataframe tbody tr th {\n",
              "        vertical-align: top;\n",
              "    }\n",
              "\n",
              "    .dataframe thead th {\n",
              "        text-align: right;\n",
              "    }\n",
              "</style>\n",
              "<table border=\"1\" class=\"dataframe\">\n",
              "  <thead>\n",
              "    <tr style=\"text-align: right;\">\n",
              "      <th></th>\n",
              "      <th>Perubahan</th>\n",
              "    </tr>\n",
              "  </thead>\n",
              "  <tbody>\n",
              "    <tr>\n",
              "      <th>0</th>\n",
              "      <td>-0.0053</td>\n",
              "    </tr>\n",
              "    <tr>\n",
              "      <th>1</th>\n",
              "      <td>0.0027</td>\n",
              "    </tr>\n",
              "    <tr>\n",
              "      <th>2</th>\n",
              "      <td>-0.0080</td>\n",
              "    </tr>\n",
              "    <tr>\n",
              "      <th>3</th>\n",
              "      <td>0.0162</td>\n",
              "    </tr>\n",
              "    <tr>\n",
              "      <th>4</th>\n",
              "      <td>0.0080</td>\n",
              "    </tr>\n",
              "    <tr>\n",
              "      <th>...</th>\n",
              "      <td>...</td>\n",
              "    </tr>\n",
              "    <tr>\n",
              "      <th>1385</th>\n",
              "      <td>0.0097</td>\n",
              "    </tr>\n",
              "    <tr>\n",
              "      <th>1386</th>\n",
              "      <td>0.0064</td>\n",
              "    </tr>\n",
              "    <tr>\n",
              "      <th>1387</th>\n",
              "      <td>0.0032</td>\n",
              "    </tr>\n",
              "    <tr>\n",
              "      <th>1388</th>\n",
              "      <td>0.0063</td>\n",
              "    </tr>\n",
              "    <tr>\n",
              "      <th>1389</th>\n",
              "      <td>-0.0032</td>\n",
              "    </tr>\n",
              "  </tbody>\n",
              "</table>\n",
              "<p>1390 rows × 1 columns</p>\n",
              "</div><br><label><b>dtype:</b> float64</label>"
            ],
            "text/plain": [
              "0      -0.0053\n",
              "1       0.0027\n",
              "2      -0.0080\n",
              "3       0.0162\n",
              "4       0.0080\n",
              "         ...  \n",
              "1385    0.0097\n",
              "1386    0.0064\n",
              "1387    0.0032\n",
              "1388    0.0063\n",
              "1389   -0.0032\n",
              "Name: Perubahan, Length: 1390, dtype: float64"
            ]
          },
          "execution_count": 16,
          "metadata": {},
          "output_type": "execute_result"
        }
      ],
      "source": [
        "df['Perubahan'] = df['Perubahan'].str.replace(',', '.').str.rstrip('%').astype(float) / 100\n",
        "\n",
        "df['Perubahan']"
      ]
    },
    {
      "cell_type": "markdown",
      "metadata": {
        "id": "ONKHlJzcJbrJ"
      },
      "source": [
        "Di atas merupakan hasil dari konvert yang telah saya lakukan yaitu dengan menghilangkan symbol '%' namun tidak mengubah inti dari isi datanya."
      ]
    },
    {
      "cell_type": "code",
      "execution_count": null,
      "metadata": {
        "colab": {
          "base_uri": "https://localhost:8080/",
          "height": 766
        },
        "id": "MLvQ0Q3Z7zYw",
        "outputId": "6b6dfe7c-2640-456b-a73f-76090a0febd1"
      },
      "outputs": [
        {
          "data": {
            "image/png": "[encoded data removed]",
            "text/plain": [
              "<Figure size 1000x800 with 2 Axes>"
            ]
          },
          "metadata": {},
          "output_type": "display_data"
        }
      ],
      "source": [
        "# Menghitung matriks korelasi\n",
        "correlation_matrix = df.corr()\n",
        "\n",
        "# Membuat heatmap\n",
        "plt.figure(figsize=(10, 8))  # Mengatur ukuran gambar\n",
        "sns.heatmap(correlation_matrix, annot=True, cmap='coolwarm', fmt=\".2f\")\n",
        "plt.title('Korelasi Antara Fitur-Fitur')\n",
        "plt.show()"
      ]
    },
    {
      "cell_type": "markdown",
      "metadata": {
        "id": "-draOMnkJ-rZ"
      },
      "source": [
        "Dari hasil visualisasi korelasi fitur-fitur di atas, saya mendapatkan kesimpulan antara lain:\n",
        "\n",
        "1. Korelasi Positif Kuat: Terdapat korelasi positif yang kuat antara fitur-fiturnya, yaitu 'Penutupan', 'Pembukaan', 'Tertinggi', dan 'Terendah'. Hal ini menunjukkan bahwa ketika salah satu fitur harga naik, fitur harga lainnya cenderung naik juga. Korelasi yang kuat ini logis karena fitur-fitur ini saling terkait dalam pergerakan harga saham harian.\n",
        "\n",
        "2. Korelasi Lemah: 'Volume' dan 'Perubahan' memiliki korelasi yang relatif lemah dengan fitur-fitur lainnya. Artinya, perubahan volume perdagangan atau persentase perubahan harga tidak memiliki pengaruh yang signifikan terhadap harga saham secara langsung.\n",
        "\n",
        "3. Korelasi Negatif: 'Tahun' menunjukkan korelasi negatif yang lemah dengan beberapa fitur. Ini bisa menunjukkan adanya tren penurunan harga saham dalam rentang waktu yang diwakili oleh data (2019-2024), meskipun korelasinya tidak terlalu kuat.\n",
        "\n",
        "Secara umum, visualisasi korelasi menunjukkan bahwa fitur-fitur (Penutupan, Pembukaan, Tertinggi, Terendah) memiliki hubungan yang erat, sedangkan Volume dan Perubahan memiliki hubungan yang lebih independen dengan fitur-fitur lainnya. Oleh karena itu, pada proses selanjutnya akan dilakukan penghapusan Kolom Perubahan dan Kolom Volume karena tidak akan terlalu berguna."
      ]
    },
    {
      "cell_type": "markdown",
      "metadata": {},
      "source": [
        "Coming Soon"
      ]
    }
  ],
  "metadata": {
    "colab": {
      "provenance": []
    },
    "kernelspec": {
      "display_name": "Python 3",
      "name": "python3"
    },
    "language_info": {
      "name": "python"
    }
  },
  "nbformat": 4,
  "nbformat_minor": 0
}
